{
  "nbformat": 4,
  "nbformat_minor": 0,
  "metadata": {
    "colab": {
      "provenance": [],
      "toc_visible": true,
      "gpuType": "T4"
    },
    "kernelspec": {
      "name": "python3",
      "display_name": "Python 3"
    },
    "language_info": {
      "name": "python"
    },
    "accelerator": "GPU"
  },
  "cells": [
    {
      "cell_type": "code",
      "execution_count": 6,
      "metadata": {
        "colab": {
          "base_uri": "https://localhost:8080/"
        },
        "id": "9tA0jTdK1nN1",
        "outputId": "c0249d05-5830-4116-b8ee-58358d1b4a01"
      },
      "outputs": [
        {
          "output_type": "stream",
          "name": "stdout",
          "text": [
            "Mounted at /content/drive\n"
          ]
        }
      ],
      "source": [
        "from google.colab import drive\n",
        "drive.mount(\"/content/drive\")\n",
        "\n",
        "import os\n",
        "os.chdir(\"/content/drive/MyDrive/kaggle\")"
      ]
    },
    {
      "cell_type": "markdown",
      "source": [
        "# Import libraries"
      ],
      "metadata": {
        "id": "crhdX-tO2KXP"
      }
    },
    {
      "cell_type": "code",
      "source": [
        "import numpy as np\n",
        "import matplotlib.pyplot as plt\n",
        "import random\n",
        "import glob\n",
        "import pandas as pd\n",
        "from tqdm import tqdm\n",
        "import time\n",
        "from PIL import Image\n",
        "\n",
        "import torch\n",
        "import torch.nn as nn\n",
        "import torch.optim as optim\n",
        "import torch.nn.functional as F\n",
        "from torch.utils.data import Dataset, DataLoader\n",
        "from torchvision import transforms\n",
        "from torchvision import models\n",
        "\n",
        "device = 'cuda' if torch.cuda.is_available() else 'cpu'\n",
        "SEED = 1234\n",
        "random.seed(SEED)\n",
        "np.random.seed(SEED)\n",
        "torch.manual_seed(SEED)\n",
        "torch.cuda.manual_seed(SEED)\n",
        "torch.backends.cudnn.deterministic = True\n",
        "print(device)"
      ],
      "metadata": {
        "colab": {
          "base_uri": "https://localhost:8080/"
        },
        "id": "w0ArIcaz2J7V",
        "outputId": "ec2dd5d2-710d-4052-cb15-019bb2e4e376"
      },
      "execution_count": 7,
      "outputs": [
        {
          "output_type": "stream",
          "name": "stdout",
          "text": [
            "cpu\n"
          ]
        }
      ]
    },
    {
      "cell_type": "markdown",
      "source": [
        "# Load Data"
      ],
      "metadata": {
        "id": "wdu_Qxe7FCsP"
      }
    },
    {
      "cell_type": "code",
      "source": [
        "train_dir = \"data/modia/train/train\"\n",
        "test_dir = \"data/modia/test/test\"\n",
        "train_images = glob.glob(train_dir+\"/**.jpg\")\n",
        "test_images = glob.glob(test_dir+\"/**.jpg\")"
      ],
      "metadata": {
        "id": "_EJ_aNY414vb"
      },
      "execution_count": 8,
      "outputs": []
    },
    {
      "cell_type": "code",
      "source": [
        "train_images[:5]"
      ],
      "metadata": {
        "colab": {
          "base_uri": "https://localhost:8080/"
        },
        "id": "4Fvme2tU33yr",
        "outputId": "8ec34f6b-957e-40a6-ae3a-9701fffbd724"
      },
      "execution_count": 9,
      "outputs": [
        {
          "output_type": "execute_result",
          "data": {
            "text/plain": [
              "['data/modia/train/train/3779.jpg',\n",
              " 'data/modia/train/train/3545.jpg',\n",
              " 'data/modia/train/train/576.jpg',\n",
              " 'data/modia/train/train/3387.jpg',\n",
              " 'data/modia/train/train/597.jpg']"
            ]
          },
          "metadata": {},
          "execution_count": 9
        }
      ]
    },
    {
      "cell_type": "code",
      "source": [
        "df_train = pd.read_csv(\"data/modia/train.csv\")\n",
        "df_train.head()"
      ],
      "metadata": {
        "colab": {
          "base_uri": "https://localhost:8080/",
          "height": 206
        },
        "id": "irpmkeCo4Z0C",
        "outputId": "92aed469-30b4-4aca-fb20-1d0d7248735d"
      },
      "execution_count": 10,
      "outputs": [
        {
          "output_type": "execute_result",
          "data": {
            "text/plain": [
              "   id  label\n",
              "0   0      4\n",
              "1   1      1\n",
              "2   2      4\n",
              "3   3      1\n",
              "4   4      4"
            ],
            "text/html": [
              "\n",
              "  <div id=\"df-30776afe-95e7-454a-a395-2bc18b2243c8\" class=\"colab-df-container\">\n",
              "    <div>\n",
              "<style scoped>\n",
              "    .dataframe tbody tr th:only-of-type {\n",
              "        vertical-align: middle;\n",
              "    }\n",
              "\n",
              "    .dataframe tbody tr th {\n",
              "        vertical-align: top;\n",
              "    }\n",
              "\n",
              "    .dataframe thead th {\n",
              "        text-align: right;\n",
              "    }\n",
              "</style>\n",
              "<table border=\"1\" class=\"dataframe\">\n",
              "  <thead>\n",
              "    <tr style=\"text-align: right;\">\n",
              "      <th></th>\n",
              "      <th>id</th>\n",
              "      <th>label</th>\n",
              "    </tr>\n",
              "  </thead>\n",
              "  <tbody>\n",
              "    <tr>\n",
              "      <th>0</th>\n",
              "      <td>0</td>\n",
              "      <td>4</td>\n",
              "    </tr>\n",
              "    <tr>\n",
              "      <th>1</th>\n",
              "      <td>1</td>\n",
              "      <td>1</td>\n",
              "    </tr>\n",
              "    <tr>\n",
              "      <th>2</th>\n",
              "      <td>2</td>\n",
              "      <td>4</td>\n",
              "    </tr>\n",
              "    <tr>\n",
              "      <th>3</th>\n",
              "      <td>3</td>\n",
              "      <td>1</td>\n",
              "    </tr>\n",
              "    <tr>\n",
              "      <th>4</th>\n",
              "      <td>4</td>\n",
              "      <td>4</td>\n",
              "    </tr>\n",
              "  </tbody>\n",
              "</table>\n",
              "</div>\n",
              "    <div class=\"colab-df-buttons\">\n",
              "\n",
              "  <div class=\"colab-df-container\">\n",
              "    <button class=\"colab-df-convert\" onclick=\"convertToInteractive('df-30776afe-95e7-454a-a395-2bc18b2243c8')\"\n",
              "            title=\"Convert this dataframe to an interactive table.\"\n",
              "            style=\"display:none;\">\n",
              "\n",
              "  <svg xmlns=\"http://www.w3.org/2000/svg\" height=\"24px\" viewBox=\"0 -960 960 960\">\n",
              "    <path d=\"M120-120v-720h720v720H120Zm60-500h600v-160H180v160Zm220 220h160v-160H400v160Zm0 220h160v-160H400v160ZM180-400h160v-160H180v160Zm440 0h160v-160H620v160ZM180-180h160v-160H180v160Zm440 0h160v-160H620v160Z\"/>\n",
              "  </svg>\n",
              "    </button>\n",
              "\n",
              "  <style>\n",
              "    .colab-df-container {\n",
              "      display:flex;\n",
              "      gap: 12px;\n",
              "    }\n",
              "\n",
              "    .colab-df-convert {\n",
              "      background-color: #E8F0FE;\n",
              "      border: none;\n",
              "      border-radius: 50%;\n",
              "      cursor: pointer;\n",
              "      display: none;\n",
              "      fill: #1967D2;\n",
              "      height: 32px;\n",
              "      padding: 0 0 0 0;\n",
              "      width: 32px;\n",
              "    }\n",
              "\n",
              "    .colab-df-convert:hover {\n",
              "      background-color: #E2EBFA;\n",
              "      box-shadow: 0px 1px 2px rgba(60, 64, 67, 0.3), 0px 1px 3px 1px rgba(60, 64, 67, 0.15);\n",
              "      fill: #174EA6;\n",
              "    }\n",
              "\n",
              "    .colab-df-buttons div {\n",
              "      margin-bottom: 4px;\n",
              "    }\n",
              "\n",
              "    [theme=dark] .colab-df-convert {\n",
              "      background-color: #3B4455;\n",
              "      fill: #D2E3FC;\n",
              "    }\n",
              "\n",
              "    [theme=dark] .colab-df-convert:hover {\n",
              "      background-color: #434B5C;\n",
              "      box-shadow: 0px 1px 3px 1px rgba(0, 0, 0, 0.15);\n",
              "      filter: drop-shadow(0px 1px 2px rgba(0, 0, 0, 0.3));\n",
              "      fill: #FFFFFF;\n",
              "    }\n",
              "  </style>\n",
              "\n",
              "    <script>\n",
              "      const buttonEl =\n",
              "        document.querySelector('#df-30776afe-95e7-454a-a395-2bc18b2243c8 button.colab-df-convert');\n",
              "      buttonEl.style.display =\n",
              "        google.colab.kernel.accessAllowed ? 'block' : 'none';\n",
              "\n",
              "      async function convertToInteractive(key) {\n",
              "        const element = document.querySelector('#df-30776afe-95e7-454a-a395-2bc18b2243c8');\n",
              "        const dataTable =\n",
              "          await google.colab.kernel.invokeFunction('convertToInteractive',\n",
              "                                                    [key], {});\n",
              "        if (!dataTable) return;\n",
              "\n",
              "        const docLinkHtml = 'Like what you see? Visit the ' +\n",
              "          '<a target=\"_blank\" href=https://colab.research.google.com/notebooks/data_table.ipynb>data table notebook</a>'\n",
              "          + ' to learn more about interactive tables.';\n",
              "        element.innerHTML = '';\n",
              "        dataTable['output_type'] = 'display_data';\n",
              "        await google.colab.output.renderOutput(dataTable, element);\n",
              "        const docLink = document.createElement('div');\n",
              "        docLink.innerHTML = docLinkHtml;\n",
              "        element.appendChild(docLink);\n",
              "      }\n",
              "    </script>\n",
              "  </div>\n",
              "\n",
              "\n",
              "<div id=\"df-6df2a916-d0b7-478e-b231-d2b50855e3e7\">\n",
              "  <button class=\"colab-df-quickchart\" onclick=\"quickchart('df-6df2a916-d0b7-478e-b231-d2b50855e3e7')\"\n",
              "            title=\"Suggest charts\"\n",
              "            style=\"display:none;\">\n",
              "\n",
              "<svg xmlns=\"http://www.w3.org/2000/svg\" height=\"24px\"viewBox=\"0 0 24 24\"\n",
              "     width=\"24px\">\n",
              "    <g>\n",
              "        <path d=\"M19 3H5c-1.1 0-2 .9-2 2v14c0 1.1.9 2 2 2h14c1.1 0 2-.9 2-2V5c0-1.1-.9-2-2-2zM9 17H7v-7h2v7zm4 0h-2V7h2v10zm4 0h-2v-4h2v4z\"/>\n",
              "    </g>\n",
              "</svg>\n",
              "  </button>\n",
              "\n",
              "<style>\n",
              "  .colab-df-quickchart {\n",
              "      --bg-color: #E8F0FE;\n",
              "      --fill-color: #1967D2;\n",
              "      --hover-bg-color: #E2EBFA;\n",
              "      --hover-fill-color: #174EA6;\n",
              "      --disabled-fill-color: #AAA;\n",
              "      --disabled-bg-color: #DDD;\n",
              "  }\n",
              "\n",
              "  [theme=dark] .colab-df-quickchart {\n",
              "      --bg-color: #3B4455;\n",
              "      --fill-color: #D2E3FC;\n",
              "      --hover-bg-color: #434B5C;\n",
              "      --hover-fill-color: #FFFFFF;\n",
              "      --disabled-bg-color: #3B4455;\n",
              "      --disabled-fill-color: #666;\n",
              "  }\n",
              "\n",
              "  .colab-df-quickchart {\n",
              "    background-color: var(--bg-color);\n",
              "    border: none;\n",
              "    border-radius: 50%;\n",
              "    cursor: pointer;\n",
              "    display: none;\n",
              "    fill: var(--fill-color);\n",
              "    height: 32px;\n",
              "    padding: 0;\n",
              "    width: 32px;\n",
              "  }\n",
              "\n",
              "  .colab-df-quickchart:hover {\n",
              "    background-color: var(--hover-bg-color);\n",
              "    box-shadow: 0 1px 2px rgba(60, 64, 67, 0.3), 0 1px 3px 1px rgba(60, 64, 67, 0.15);\n",
              "    fill: var(--button-hover-fill-color);\n",
              "  }\n",
              "\n",
              "  .colab-df-quickchart-complete:disabled,\n",
              "  .colab-df-quickchart-complete:disabled:hover {\n",
              "    background-color: var(--disabled-bg-color);\n",
              "    fill: var(--disabled-fill-color);\n",
              "    box-shadow: none;\n",
              "  }\n",
              "\n",
              "  .colab-df-spinner {\n",
              "    border: 2px solid var(--fill-color);\n",
              "    border-color: transparent;\n",
              "    border-bottom-color: var(--fill-color);\n",
              "    animation:\n",
              "      spin 1s steps(1) infinite;\n",
              "  }\n",
              "\n",
              "  @keyframes spin {\n",
              "    0% {\n",
              "      border-color: transparent;\n",
              "      border-bottom-color: var(--fill-color);\n",
              "      border-left-color: var(--fill-color);\n",
              "    }\n",
              "    20% {\n",
              "      border-color: transparent;\n",
              "      border-left-color: var(--fill-color);\n",
              "      border-top-color: var(--fill-color);\n",
              "    }\n",
              "    30% {\n",
              "      border-color: transparent;\n",
              "      border-left-color: var(--fill-color);\n",
              "      border-top-color: var(--fill-color);\n",
              "      border-right-color: var(--fill-color);\n",
              "    }\n",
              "    40% {\n",
              "      border-color: transparent;\n",
              "      border-right-color: var(--fill-color);\n",
              "      border-top-color: var(--fill-color);\n",
              "    }\n",
              "    60% {\n",
              "      border-color: transparent;\n",
              "      border-right-color: var(--fill-color);\n",
              "    }\n",
              "    80% {\n",
              "      border-color: transparent;\n",
              "      border-right-color: var(--fill-color);\n",
              "      border-bottom-color: var(--fill-color);\n",
              "    }\n",
              "    90% {\n",
              "      border-color: transparent;\n",
              "      border-bottom-color: var(--fill-color);\n",
              "    }\n",
              "  }\n",
              "</style>\n",
              "\n",
              "  <script>\n",
              "    async function quickchart(key) {\n",
              "      const quickchartButtonEl =\n",
              "        document.querySelector('#' + key + ' button');\n",
              "      quickchartButtonEl.disabled = true;  // To prevent multiple clicks.\n",
              "      quickchartButtonEl.classList.add('colab-df-spinner');\n",
              "      try {\n",
              "        const charts = await google.colab.kernel.invokeFunction(\n",
              "            'suggestCharts', [key], {});\n",
              "      } catch (error) {\n",
              "        console.error('Error during call to suggestCharts:', error);\n",
              "      }\n",
              "      quickchartButtonEl.classList.remove('colab-df-spinner');\n",
              "      quickchartButtonEl.classList.add('colab-df-quickchart-complete');\n",
              "    }\n",
              "    (() => {\n",
              "      let quickchartButtonEl =\n",
              "        document.querySelector('#df-6df2a916-d0b7-478e-b231-d2b50855e3e7 button');\n",
              "      quickchartButtonEl.style.display =\n",
              "        google.colab.kernel.accessAllowed ? 'block' : 'none';\n",
              "    })();\n",
              "  </script>\n",
              "</div>\n",
              "\n",
              "    </div>\n",
              "  </div>\n"
            ],
            "application/vnd.google.colaboratory.intrinsic+json": {
              "type": "dataframe",
              "variable_name": "df_train",
              "summary": "{\n  \"name\": \"df_train\",\n  \"rows\": 4000,\n  \"fields\": [\n    {\n      \"column\": \"id\",\n      \"properties\": {\n        \"dtype\": \"number\",\n        \"std\": 1154,\n        \"min\": 0,\n        \"max\": 3999,\n        \"num_unique_values\": 4000,\n        \"samples\": [\n          555,\n          3491,\n          527\n        ],\n        \"semantic_type\": \"\",\n        \"description\": \"\"\n      }\n    },\n    {\n      \"column\": \"label\",\n      \"properties\": {\n        \"dtype\": \"number\",\n        \"std\": 1,\n        \"min\": 1,\n        \"max\": 4,\n        \"num_unique_values\": 4,\n        \"samples\": [\n          1,\n          2,\n          4\n        ],\n        \"semantic_type\": \"\",\n        \"description\": \"\"\n      }\n    }\n  ]\n}"
            }
          },
          "metadata": {},
          "execution_count": 10
        }
      ]
    },
    {
      "cell_type": "code",
      "source": [
        "df_train.info()"
      ],
      "metadata": {
        "colab": {
          "base_uri": "https://localhost:8080/"
        },
        "id": "xcEkrG845PS6",
        "outputId": "13a9e607-838e-453b-c740-048d6b12a882"
      },
      "execution_count": 11,
      "outputs": [
        {
          "output_type": "stream",
          "name": "stdout",
          "text": [
            "<class 'pandas.core.frame.DataFrame'>\n",
            "RangeIndex: 4000 entries, 0 to 3999\n",
            "Data columns (total 2 columns):\n",
            " #   Column  Non-Null Count  Dtype\n",
            "---  ------  --------------  -----\n",
            " 0   id      4000 non-null   int64\n",
            " 1   label   4000 non-null   int64\n",
            "dtypes: int64(2)\n",
            "memory usage: 62.6 KB\n"
          ]
        }
      ]
    },
    {
      "cell_type": "markdown",
      "source": [
        "## Show image"
      ],
      "metadata": {
        "id": "MQj93vwhFJaV"
      }
    },
    {
      "cell_type": "code",
      "source": [
        "def show_image(image_paths):\n",
        "    fig, axes = plt.subplots(2, 2, figsize = (5,5))\n",
        "    for i, ax in enumerate(axes.flatten()):\n",
        "        if i < len(image_paths):\n",
        "            img = Image.open(image_paths[i])\n",
        "            ax.imshow(img)\n",
        "            ax.axis('off')\n",
        "    plt.tight_layout()\n",
        "    plt.show()"
      ],
      "metadata": {
        "id": "QvJQlMG95Fui"
      },
      "execution_count": 12,
      "outputs": []
    },
    {
      "cell_type": "code",
      "source": [
        "train_list = train_images[:4]\n",
        "show_image(train_list)"
      ],
      "metadata": {
        "colab": {
          "base_uri": "https://localhost:8080/",
          "height": 423
        },
        "id": "Wg6ySryV5jEk",
        "outputId": "692c58b4-7fec-4dd0-d9dc-324838d84cf6"
      },
      "execution_count": 13,
      "outputs": [
        {
          "output_type": "display_data",
          "data": {
            "text/plain": [
              "<Figure size 500x500 with 4 Axes>"
            ],
            "image/png": "[encoded data removed]"
          },
          "metadata": {}
        }
      ]
    },
    {
      "cell_type": "markdown",
      "source": [
        "## Transform Data"
      ],
      "metadata": {
        "id": "xyTQSYuhFNE-"
      }
    },
    {
      "cell_type": "code",
      "source": [
        "def train_transform():\n",
        "    return transforms.Compose([\n",
        "        transforms.Resize((256,256)),\n",
        "        transforms.RandomHorizontalFlip(p=0.5),\n",
        "        transforms.RandomRotation(degrees = 15),\n",
        "        transforms.RandomResizedCrop(224),\n",
        "        transforms.RandomAdjustSharpness(sharpness_factor=2, p=0.5),\n",
        "        transforms.ColorJitter(brightness=0.2, contrast=0.2, saturation=0.2, hue=0.1),\n",
        "        transforms.ToTensor(),\n",
        "        transforms.Normalize(mean=(0.485, 0.456, 0.406), std=(0.229, 0.224, 0.225))\n",
        "    ])\n",
        "\n",
        "def val_transform():\n",
        "    return transforms.Compose([\n",
        "        transforms.Resize((224,224)),\n",
        "        transforms.ToTensor(),\n",
        "        transforms.Normalize(mean=(0.485, 0.456, 0.406), std=(0.229, 0.224, 0.225))\n",
        "    ])"
      ],
      "metadata": {
        "id": "hikbdEvM9KWz"
      },
      "execution_count": 14,
      "outputs": []
    },
    {
      "cell_type": "code",
      "source": [
        "ID = df_train.pop(\"id\")\n",
        "\n",
        "# df_train[df_train.index == 0].label\n",
        "\n",
        "\n",
        "df_train.head()\n",
        "# df_train_onehot = pd.get_dummies(df_train, columns = [\"label\"], dtype = int)\n",
        "# df_train_onehot.head()\n",
        "\n",
        "# df_train_onehot[df_train_onehot.index == int(train_images[0].split(\"/\")[-1]\n",
        "#                                                       .split(\".\")[0])].values"
      ],
      "metadata": {
        "colab": {
          "base_uri": "https://localhost:8080/",
          "height": 206
        },
        "id": "X34qOUDqyksH",
        "outputId": "1bf419fc-5ee2-4cd2-f641-7410ec6253f9"
      },
      "execution_count": 15,
      "outputs": [
        {
          "output_type": "execute_result",
          "data": {
            "text/plain": [
              "   label\n",
              "0      4\n",
              "1      1\n",
              "2      4\n",
              "3      1\n",
              "4      4"
            ],
            "text/html": [
              "\n",
              "  <div id=\"df-fcc6446b-a1d7-483e-8d9e-82fc2cab84cc\" class=\"colab-df-container\">\n",
              "    <div>\n",
              "<style scoped>\n",
              "    .dataframe tbody tr th:only-of-type {\n",
              "        vertical-align: middle;\n",
              "    }\n",
              "\n",
              "    .dataframe tbody tr th {\n",
              "        vertical-align: top;\n",
              "    }\n",
              "\n",
              "    .dataframe thead th {\n",
              "        text-align: right;\n",
              "    }\n",
              "</style>\n",
              "<table border=\"1\" class=\"dataframe\">\n",
              "  <thead>\n",
              "    <tr style=\"text-align: right;\">\n",
              "      <th></th>\n",
              "      <th>label</th>\n",
              "    </tr>\n",
              "  </thead>\n",
              "  <tbody>\n",
              "    <tr>\n",
              "      <th>0</th>\n",
              "      <td>4</td>\n",
              "    </tr>\n",
              "    <tr>\n",
              "      <th>1</th>\n",
              "      <td>1</td>\n",
              "    </tr>\n",
              "    <tr>\n",
              "      <th>2</th>\n",
              "      <td>4</td>\n",
              "    </tr>\n",
              "    <tr>\n",
              "      <th>3</th>\n",
              "      <td>1</td>\n",
              "    </tr>\n",
              "    <tr>\n",
              "      <th>4</th>\n",
              "      <td>4</td>\n",
              "    </tr>\n",
              "  </tbody>\n",
              "</table>\n",
              "</div>\n",
              "    <div class=\"colab-df-buttons\">\n",
              "\n",
              "  <div class=\"colab-df-container\">\n",
              "    <button class=\"colab-df-convert\" onclick=\"convertToInteractive('df-fcc6446b-a1d7-483e-8d9e-82fc2cab84cc')\"\n",
              "            title=\"Convert this dataframe to an interactive table.\"\n",
              "            style=\"display:none;\">\n",
              "\n",
              "  <svg xmlns=\"http://www.w3.org/2000/svg\" height=\"24px\" viewBox=\"0 -960 960 960\">\n",
              "    <path d=\"M120-120v-720h720v720H120Zm60-500h600v-160H180v160Zm220 220h160v-160H400v160Zm0 220h160v-160H400v160ZM180-400h160v-160H180v160Zm440 0h160v-160H620v160ZM180-180h160v-160H180v160Zm440 0h160v-160H620v160Z\"/>\n",
              "  </svg>\n",
              "    </button>\n",
              "\n",
              "  <style>\n",
              "    .colab-df-container {\n",
              "      display:flex;\n",
              "      gap: 12px;\n",
              "    }\n",
              "\n",
              "    .colab-df-convert {\n",
              "      background-color: #E8F0FE;\n",
              "      border: none;\n",
              "      border-radius: 50%;\n",
              "      cursor: pointer;\n",
              "      display: none;\n",
              "      fill: #1967D2;\n",
              "      height: 32px;\n",
              "      padding: 0 0 0 0;\n",
              "      width: 32px;\n",
              "    }\n",
              "\n",
              "    .colab-df-convert:hover {\n",
              "      background-color: #E2EBFA;\n",
              "      box-shadow: 0px 1px 2px rgba(60, 64, 67, 0.3), 0px 1px 3px 1px rgba(60, 64, 67, 0.15);\n",
              "      fill: #174EA6;\n",
              "    }\n",
              "\n",
              "    .colab-df-buttons div {\n",
              "      margin-bottom: 4px;\n",
              "    }\n",
              "\n",
              "    [theme=dark] .colab-df-convert {\n",
              "      background-color: #3B4455;\n",
              "      fill: #D2E3FC;\n",
              "    }\n",
              "\n",
              "    [theme=dark] .colab-df-convert:hover {\n",
              "      background-color: #434B5C;\n",
              "      box-shadow: 0px 1px 3px 1px rgba(0, 0, 0, 0.15);\n",
              "      filter: drop-shadow(0px 1px 2px rgba(0, 0, 0, 0.3));\n",
              "      fill: #FFFFFF;\n",
              "    }\n",
              "  </style>\n",
              "\n",
              "    <script>\n",
              "      const buttonEl =\n",
              "        document.querySelector('#df-fcc6446b-a1d7-483e-8d9e-82fc2cab84cc button.colab-df-convert');\n",
              "      buttonEl.style.display =\n",
              "        google.colab.kernel.accessAllowed ? 'block' : 'none';\n",
              "\n",
              "      async function convertToInteractive(key) {\n",
              "        const element = document.querySelector('#df-fcc6446b-a1d7-483e-8d9e-82fc2cab84cc');\n",
              "        const dataTable =\n",
              "          await google.colab.kernel.invokeFunction('convertToInteractive',\n",
              "                                                    [key], {});\n",
              "        if (!dataTable) return;\n",
              "\n",
              "        const docLinkHtml = 'Like what you see? Visit the ' +\n",
              "          '<a target=\"_blank\" href=https://colab.research.google.com/notebooks/data_table.ipynb>data table notebook</a>'\n",
              "          + ' to learn more about interactive tables.';\n",
              "        element.innerHTML = '';\n",
              "        dataTable['output_type'] = 'display_data';\n",
              "        await google.colab.output.renderOutput(dataTable, element);\n",
              "        const docLink = document.createElement('div');\n",
              "        docLink.innerHTML = docLinkHtml;\n",
              "        element.appendChild(docLink);\n",
              "      }\n",
              "    </script>\n",
              "  </div>\n",
              "\n",
              "\n",
              "<div id=\"df-67b5b19e-45c9-4da3-a92e-2d574a8622be\">\n",
              "  <button class=\"colab-df-quickchart\" onclick=\"quickchart('df-67b5b19e-45c9-4da3-a92e-2d574a8622be')\"\n",
              "            title=\"Suggest charts\"\n",
              "            style=\"display:none;\">\n",
              "\n",
              "<svg xmlns=\"http://www.w3.org/2000/svg\" height=\"24px\"viewBox=\"0 0 24 24\"\n",
              "     width=\"24px\">\n",
              "    <g>\n",
              "        <path d=\"M19 3H5c-1.1 0-2 .9-2 2v14c0 1.1.9 2 2 2h14c1.1 0 2-.9 2-2V5c0-1.1-.9-2-2-2zM9 17H7v-7h2v7zm4 0h-2V7h2v10zm4 0h-2v-4h2v4z\"/>\n",
              "    </g>\n",
              "</svg>\n",
              "  </button>\n",
              "\n",
              "<style>\n",
              "  .colab-df-quickchart {\n",
              "      --bg-color: #E8F0FE;\n",
              "      --fill-color: #1967D2;\n",
              "      --hover-bg-color: #E2EBFA;\n",
              "      --hover-fill-color: #174EA6;\n",
              "      --disabled-fill-color: #AAA;\n",
              "      --disabled-bg-color: #DDD;\n",
              "  }\n",
              "\n",
              "  [theme=dark] .colab-df-quickchart {\n",
              "      --bg-color: #3B4455;\n",
              "      --fill-color: #D2E3FC;\n",
              "      --hover-bg-color: #434B5C;\n",
              "      --hover-fill-color: #FFFFFF;\n",
              "      --disabled-bg-color: #3B4455;\n",
              "      --disabled-fill-color: #666;\n",
              "  }\n",
              "\n",
              "  .colab-df-quickchart {\n",
              "    background-color: var(--bg-color);\n",
              "    border: none;\n",
              "    border-radius: 50%;\n",
              "    cursor: pointer;\n",
              "    display: none;\n",
              "    fill: var(--fill-color);\n",
              "    height: 32px;\n",
              "    padding: 0;\n",
              "    width: 32px;\n",
              "  }\n",
              "\n",
              "  .colab-df-quickchart:hover {\n",
              "    background-color: var(--hover-bg-color);\n",
              "    box-shadow: 0 1px 2px rgba(60, 64, 67, 0.3), 0 1px 3px 1px rgba(60, 64, 67, 0.15);\n",
              "    fill: var(--button-hover-fill-color);\n",
              "  }\n",
              "\n",
              "  .colab-df-quickchart-complete:disabled,\n",
              "  .colab-df-quickchart-complete:disabled:hover {\n",
              "    background-color: var(--disabled-bg-color);\n",
              "    fill: var(--disabled-fill-color);\n",
              "    box-shadow: none;\n",
              "  }\n",
              "\n",
              "  .colab-df-spinner {\n",
              "    border: 2px solid var(--fill-color);\n",
              "    border-color: transparent;\n",
              "    border-bottom-color: var(--fill-color);\n",
              "    animation:\n",
              "      spin 1s steps(1) infinite;\n",
              "  }\n",
              "\n",
              "  @keyframes spin {\n",
              "    0% {\n",
              "      border-color: transparent;\n",
              "      border-bottom-color: var(--fill-color);\n",
              "      border-left-color: var(--fill-color);\n",
              "    }\n",
              "    20% {\n",
              "      border-color: transparent;\n",
              "      border-left-color: var(--fill-color);\n",
              "      border-top-color: var(--fill-color);\n",
              "    }\n",
              "    30% {\n",
              "      border-color: transparent;\n",
              "      border-left-color: var(--fill-color);\n",
              "      border-top-color: var(--fill-color);\n",
              "      border-right-color: var(--fill-color);\n",
              "    }\n",
              "    40% {\n",
              "      border-color: transparent;\n",
              "      border-right-color: var(--fill-color);\n",
              "      border-top-color: var(--fill-color);\n",
              "    }\n",
              "    60% {\n",
              "      border-color: transparent;\n",
              "      border-right-color: var(--fill-color);\n",
              "    }\n",
              "    80% {\n",
              "      border-color: transparent;\n",
              "      border-right-color: var(--fill-color);\n",
              "      border-bottom-color: var(--fill-color);\n",
              "    }\n",
              "    90% {\n",
              "      border-color: transparent;\n",
              "      border-bottom-color: var(--fill-color);\n",
              "    }\n",
              "  }\n",
              "</style>\n",
              "\n",
              "  <script>\n",
              "    async function quickchart(key) {\n",
              "      const quickchartButtonEl =\n",
              "        document.querySelector('#' + key + ' button');\n",
              "      quickchartButtonEl.disabled = true;  // To prevent multiple clicks.\n",
              "      quickchartButtonEl.classList.add('colab-df-spinner');\n",
              "      try {\n",
              "        const charts = await google.colab.kernel.invokeFunction(\n",
              "            'suggestCharts', [key], {});\n",
              "      } catch (error) {\n",
              "        console.error('Error during call to suggestCharts:', error);\n",
              "      }\n",
              "      quickchartButtonEl.classList.remove('colab-df-spinner');\n",
              "      quickchartButtonEl.classList.add('colab-df-quickchart-complete');\n",
              "    }\n",
              "    (() => {\n",
              "      let quickchartButtonEl =\n",
              "        document.querySelector('#df-67b5b19e-45c9-4da3-a92e-2d574a8622be button');\n",
              "      quickchartButtonEl.style.display =\n",
              "        google.colab.kernel.accessAllowed ? 'block' : 'none';\n",
              "    })();\n",
              "  </script>\n",
              "</div>\n",
              "\n",
              "    </div>\n",
              "  </div>\n"
            ],
            "application/vnd.google.colaboratory.intrinsic+json": {
              "type": "dataframe",
              "summary": "{\n  \"name\": \"#                                                       \",\n  \"rows\": 5,\n  \"fields\": [\n    {\n      \"column\": \"label\",\n      \"properties\": {\n        \"dtype\": \"number\",\n        \"std\": 1,\n        \"min\": 1,\n        \"max\": 4,\n        \"num_unique_values\": 2,\n        \"samples\": [\n          1,\n          4\n        ],\n        \"semantic_type\": \"\",\n        \"description\": \"\"\n      }\n    }\n  ]\n}"
            }
          },
          "metadata": {},
          "execution_count": 15
        }
      ]
    },
    {
      "cell_type": "markdown",
      "source": [
        "## Create class Dataset and DataLoader"
      ],
      "metadata": {
        "id": "CBiVXXydFQaf"
      }
    },
    {
      "cell_type": "code",
      "source": [
        "class ModiaDataset(Dataset):\n",
        "    def __init__(self, images, csv_file,mode = \"train\" ,transform = None):\n",
        "        self.images = images\n",
        "        self.labels = pd.read_csv(csv_file)\n",
        "        self.mode = mode\n",
        "        self.transform = transform\n",
        "\n",
        "    def __len__(self):\n",
        "        return len(self.images)\n",
        "\n",
        "    def __getitem__(self, idx):\n",
        "        image_name = self.images[idx]\n",
        "        if self.mode == \"train\" or self.mode == \"val\":\n",
        "            img = Image.open(image_name)\n",
        "            label = self.labels[self.labels.index == int(image_name.split(\"/\")[-1].split(\".\")[0])][\"label\"].values\n",
        "            label = torch.tensor(label, dtype = torch.long)\n",
        "            img = self.transform(img)\n",
        "            return img, label - 1\n",
        "\n",
        "        elif self.mode == \"test\":\n",
        "            img = Image.open(image_name)\n",
        "            img = self.transform(img)\n",
        "            return img, image_name"
      ],
      "metadata": {
        "id": "2GdQ3G7k978E"
      },
      "execution_count": 16,
      "outputs": []
    },
    {
      "cell_type": "code",
      "source": [
        "csv_path = \"data/modia/train.csv\"\n",
        "\n",
        "# def train_test_split(X, test_size):\n",
        "#     test_split_size = int(len(X) *test_size)\n",
        "#     train_split_size = len(X) - test_split_size\n",
        "#     np.random.shuffle(X)\n",
        "#     X_train = X[:train_split_size]\n",
        "#     X_val = X[train_split_size:]\n",
        "#     return X_train, X_val\n",
        "from sklearn.model_selection import train_test_split\n",
        "\n",
        "X_train, X_val = train_test_split(train_images, test_size = 0.2, random_state = 0)\n",
        "\n",
        "train_dataset = ModiaDataset(X_train, csv_path, mode = \"train\", transform = train_transform())\n",
        "val_dataset = ModiaDataset(X_val, csv_path, mode = \"val\", transform = val_transform())\n",
        "test_dataset = ModiaDataset(test_images, csv_path, mode = \"test\", transform = val_transform())\n",
        "\n",
        "train_data_loader = DataLoader(train_dataset, batch_size = 32,\n",
        "                               shuffle = True, num_workers = 2)\n",
        "\n",
        "val_data_loader = DataLoader(val_dataset, batch_size = 32,\n",
        "                             shuffle = True, num_workers = 2)\n",
        "\n",
        "test_data_loader = DataLoader(test_dataset, batch_size = 1,\n",
        "                              shuffle = False, num_workers = 2)\n"
      ],
      "metadata": {
        "id": "HrJh-HH7ShTI"
      },
      "execution_count": 17,
      "outputs": []
    },
    {
      "cell_type": "code",
      "source": [
        "# train_iter = iter(train_data_loader)\n",
        "# images, labels = next(train_iter)\n",
        "# # print(labels.T)\n",
        "# print(labels)\n",
        "# labels.shape"
      ],
      "metadata": {
        "id": "ZbWO18-GWl80"
      },
      "execution_count": null,
      "outputs": []
    },
    {
      "cell_type": "markdown",
      "source": [
        "# Train, valid and run model per epoch"
      ],
      "metadata": {
        "id": "jKqyZYH_FWC6"
      }
    },
    {
      "cell_type": "code",
      "source": [
        "def accuracy(pred, label):\n",
        "    # Lấy nhãn dự đoán bằng cách tìm giá trị lớn nhất theo chiều 1\n",
        "    pred = torch.argmax(pred, dim=1)\n",
        "    # So sánh nhãn dự đoán với nhãn thực tế\n",
        "    correct = (pred == label).sum().item()\n",
        "    # Tính độ chính xác\n",
        "    acc = correct / len(label) * 100\n",
        "    return acc"
      ],
      "metadata": {
        "id": "eVeIGRvycvXG"
      },
      "execution_count": 18,
      "outputs": []
    },
    {
      "cell_type": "code",
      "source": [
        "def train_one_epoch(model, data_loader, optimizer, loss_criteria, history_train):\n",
        "    epoch_loss = []\n",
        "    epoch_acc = []\n",
        "    start_time = time.time()\n",
        "    model.train()\n",
        "\n",
        "    for batch_idx, (images, labels) in tqdm(enumerate(data_loader)):\n",
        "        images = images.to(device)\n",
        "        labels = labels.flatten().to(device)\n",
        "\n",
        "        optimizer.zero_grad()\n",
        "\n",
        "        pred = model(images)\n",
        "        loss = loss_criteria(pred, labels)\n",
        "        epoch_loss.append(loss.item())\n",
        "\n",
        "\n",
        "        acc = accuracy(pred, labels)\n",
        "        epoch_acc.append(acc)\n",
        "\n",
        "\n",
        "        # if batch_idx % 100 == 0 and batch_idx != 0:\n",
        "        #     print(f\"\\nLoss at batch {batch_idx}: {torch.mean(torch.tensor(epoch_loss, dtype = torch.float32))}\")\n",
        "        #     print(f\"Accuracy at batch {batch_idx}: {torch.mean(torch.tensor(epoch_acc, dtype = torch.float32))}\\n\")\n",
        "\n",
        "        loss.backward()\n",
        "        optimizer.step()\n",
        "\n",
        "    end_time = time.time()\n",
        "    total_time = end_time - start_time\n",
        "\n",
        "    epoch_loss = torch.mean(torch.tensor(epoch_loss, dtype = torch.float32))\n",
        "    epoch_acc = torch.mean(torch.tensor(epoch_acc, dtype = torch.float32))\n",
        "\n",
        "    history_train[\"loss\"].append(epoch_loss)\n",
        "    history_train[\"acc\"].append(epoch_acc)\n",
        "    history_train[\"time\"].append(total_time)\n",
        "\n",
        "    return epoch_loss, epoch_acc, total_time\n",
        "\n",
        "def test_one_epoch(model, data_loader, loss_criteria, history_test,\n",
        "                   model_name, best_val_acc):\n",
        "    epoch_loss = []\n",
        "    epoch_acc = []\n",
        "\n",
        "    start_time = time.time()\n",
        "    model.eval()\n",
        "\n",
        "    with torch.no_grad():\n",
        "        for batch_idx, (images, labels) in tqdm(enumerate(data_loader)):\n",
        "            images = images.to(device)\n",
        "            labels = labels.flatten().to(device)\n",
        "\n",
        "            pred = model(images)\n",
        "\n",
        "            loss = loss_criteria(pred, labels)\n",
        "            epoch_loss.append(loss.item())\n",
        "\n",
        "            acc = accuracy(pred, labels)\n",
        "            epoch_acc.append(acc)\n",
        "\n",
        "            # if batch_idx % 100 == 0 and batch_idx != 0:\n",
        "            #     print(f\"\\nLoss at batch {batch_idx}: {torch.mean(torch.tensor(epoch_loss, dtype = torch.float32))}\")\n",
        "            #     print(f\"Accuracy at batch {batch_idx}: {torch.mean(torch.tensor(epoch_acc, dtype = torch.float32))}\\n\")\n",
        "\n",
        "        end_time = time.time()\n",
        "        total_time = end_time - start_time\n",
        "\n",
        "        epoch_loss = torch.mean(torch.tensor(epoch_loss, dtype = torch.float32))\n",
        "        epoch_acc = torch.mean(torch.tensor(epoch_acc, dtype = torch.float32))\n",
        "\n",
        "        history_test[\"loss\"].append(epoch_loss)\n",
        "        history_test[\"acc\"].append(epoch_acc)\n",
        "        history_test[\"time\"].append(total_time)\n",
        "\n",
        "        if epoch_acc > best_val_acc:\n",
        "            best_val_acc = epoch_acc\n",
        "            torch.save(model.state_dict(), f\"{model_name}.pth\")\n",
        "\n",
        "    return epoch_loss, epoch_acc, total_time\n",
        "\n",
        "def run_model(model, train_loader, val_loader, loss_criteria, optimizer,\n",
        "              history_train, history_test ,best_val_acc, model_name, num_epochs):\n",
        "    optimizer.zero_grad()\n",
        "    for epoch in range(num_epochs):\n",
        "\n",
        "        print(\"\\nTraining........\")\n",
        "        train_loss, train_acc, train_time = train_one_epoch(model,\n",
        "                                                            train_loader,\n",
        "                                                            optimizer,\n",
        "                                                            loss_criteria,\n",
        "                                                            history_train)\n",
        "        print(f\"\\nEpoch {epoch + 1}\")\n",
        "        print(f\"Train Loss: {train_loss}\")\n",
        "        print(f\"Train Accuracy: {train_acc}\")\n",
        "        print(f\"Train Time: {train_time}\")\n",
        "\n",
        "\n",
        "        print(\"\\nValidating........\")\n",
        "        val_loss, val_acc, val_time = test_one_epoch(model, val_loader,\n",
        "                                                     loss_criteria,\n",
        "                                                     history_test,\n",
        "                                                     \"my_model\",\n",
        "                                                     best_val_acc)\n",
        "        print(f\"\\nEpoch {epoch + 1}\")\n",
        "        print(f\"Val Loss: {val_loss}\")\n",
        "        print(f\"Val Accuracy: {val_acc}\")\n",
        "        print(f\"Val Time: {val_time}\")"
      ],
      "metadata": {
        "id": "mtwHYq3-Xl0X"
      },
      "execution_count": 19,
      "outputs": []
    },
    {
      "cell_type": "markdown",
      "source": [
        "# Method 1: Self Create Model, check and hyperparameter it"
      ],
      "metadata": {
        "id": "qk_ncJJ2FdBk"
      }
    },
    {
      "cell_type": "code",
      "source": [
        "class CNNnet(nn.Module):\n",
        "    def __init__(self):\n",
        "        super(CNNnet, self).__init__()\n",
        "        self.layer1 = nn.Sequential(\n",
        "            nn.Conv2d(3, 128, kernel_size = 7, stride = 2, padding = 0),\n",
        "            nn.BatchNorm2d(128),\n",
        "            nn.ReLU(inplace = True),\n",
        "            nn.MaxPool2d(2)\n",
        "        )\n",
        "\n",
        "        self.layer2 = nn.Sequential(\n",
        "            nn.Conv2d(128, 256, kernel_size = 5, stride = 2, padding = 0),\n",
        "            nn.BatchNorm2d(256),\n",
        "            nn.ReLU(inplace = True),\n",
        "            nn.MaxPool2d(2)\n",
        "        )\n",
        "\n",
        "        self.layer3 = nn.Sequential(\n",
        "            nn.Conv2d(256, 512, kernel_size = 3, stride = 2, padding = 0),\n",
        "            nn.BatchNorm2d(512),\n",
        "            nn.ReLU(inplace = True),\n",
        "            nn.MaxPool2d(2)\n",
        "        )\n",
        "\n",
        "        self.fc1 = nn.Linear(2048, 1000)\n",
        "        self.dropout = nn.Dropout()\n",
        "        self.fc2 = nn.Linear(1000, 4)\n",
        "        self.relu = nn.ReLU()\n",
        "        self.softmax = nn.Softmax()\n",
        "\n",
        "    def forward(self, x):\n",
        "        out = self.layer1(x)\n",
        "        out = self.layer2(out)\n",
        "        out = self.layer3(out)\n",
        "        out = out.view(out.size(0), -1)\n",
        "        out = self.relu(self.fc1(out))\n",
        "        out = self.dropout(out)\n",
        "        out = self.fc2(out)\n",
        "        out = self.softmax(out)\n",
        "\n",
        "        return out"
      ],
      "metadata": {
        "id": "7uh_kjsIYXB9"
      },
      "execution_count": 43,
      "outputs": []
    },
    {
      "cell_type": "code",
      "source": [
        "from torchsummary import summary\n",
        "\n",
        "model=CNNnet()\n",
        "model.to(device)\n",
        "summary(model, (3, 224, 224), device = device)"
      ],
      "metadata": {
        "colab": {
          "base_uri": "https://localhost:8080/"
        },
        "id": "zA0328s8i5Vo",
        "outputId": "9d2902cb-6310-4092-a298-652fef5c02cd"
      },
      "execution_count": 15,
      "outputs": [
        {
          "output_type": "stream",
          "name": "stdout",
          "text": [
            "----------------------------------------------------------------\n",
            "        Layer (type)               Output Shape         Param #\n",
            "================================================================\n",
            "            Conv2d-1        [-1, 128, 109, 109]          18,944\n",
            "       BatchNorm2d-2        [-1, 128, 109, 109]             256\n",
            "              ReLU-3        [-1, 128, 109, 109]               0\n",
            "         MaxPool2d-4          [-1, 128, 54, 54]               0\n",
            "            Conv2d-5          [-1, 256, 25, 25]         819,456\n",
            "       BatchNorm2d-6          [-1, 256, 25, 25]             512\n",
            "              ReLU-7          [-1, 256, 25, 25]               0\n",
            "         MaxPool2d-8          [-1, 256, 12, 12]               0\n",
            "            Conv2d-9            [-1, 512, 5, 5]       1,180,160\n",
            "      BatchNorm2d-10            [-1, 512, 5, 5]           1,024\n",
            "             ReLU-11            [-1, 512, 5, 5]               0\n",
            "        MaxPool2d-12            [-1, 512, 2, 2]               0\n",
            "           Linear-13                 [-1, 1000]       2,049,000\n",
            "             ReLU-14                 [-1, 1000]               0\n",
            "          Dropout-15                 [-1, 1000]               0\n",
            "           Linear-16                    [-1, 4]           4,004\n",
            "          Softmax-17                    [-1, 4]               0\n",
            "================================================================\n",
            "Total params: 4,073,356\n",
            "Trainable params: 4,073,356\n",
            "Non-trainable params: 0\n",
            "----------------------------------------------------------------\n",
            "Input size (MB): 0.57\n",
            "Forward/backward pass size (MB): 41.93\n",
            "Params size (MB): 15.54\n",
            "Estimated Total Size (MB): 58.04\n",
            "----------------------------------------------------------------\n"
          ]
        },
        {
          "output_type": "stream",
          "name": "stderr",
          "text": [
            "/usr/local/lib/python3.10/dist-packages/torch/nn/modules/module.py:1532: UserWarning: Implicit dimension choice for softmax has been deprecated. Change the call to include dim=X as an argument.\n",
            "  return self._call_impl(*args, **kwargs)\n"
          ]
        }
      ]
    },
    {
      "cell_type": "code",
      "source": [
        "best_val_acc = 0\n",
        "\n",
        "num_epochs = 10\n",
        "\n",
        "history_train = {\"loss\": [], \"acc\": [], \"time\": []}\n",
        "history_test = {\"loss\": [], \"acc\": [], \"time\": []}\n",
        "\n",
        "loss_criteria = nn.CrossEntropyLoss()\n",
        "\n",
        "optimizer = optim.Adam(model.parameters(), lr = 0.001)\n",
        "\n",
        "lr_schedule = optim.lr_scheduler.StepLR(optimizer, step_size = 10, gamma = 0.33)\n",
        "\n",
        "run_model(model, train_data_loader, val_data_loader, loss_criteria,\n",
        "          optimizer, history_train, history_test, best_val_acc,\"resnet50\", num_epochs)"
      ],
      "metadata": {
        "colab": {
          "base_uri": "https://localhost:8080/",
          "height": 1000
        },
        "id": "cET2qlQ9j42Y",
        "outputId": "6f2c6e7c-5243-4d2a-8c7b-02434b5fa642"
      },
      "execution_count": 18,
      "outputs": [
        {
          "output_type": "stream",
          "name": "stdout",
          "text": [
            "\n",
            "Training........\n"
          ]
        },
        {
          "output_type": "stream",
          "name": "stderr",
          "text": [
            "0it [00:14, ?it/s]\n"
          ]
        },
        {
          "output_type": "error",
          "ename": "RuntimeError",
          "evalue": "Input type (torch.cuda.FloatTensor) and weight type (torch.FloatTensor) should be the same",
          "traceback": [
            "\u001b[0;31m---------------------------------------------------------------------------\u001b[0m",
            "\u001b[0;31mRuntimeError\u001b[0m                              Traceback (most recent call last)",
            "\u001b[0;32m<ipython-input-18-cd25b7ace614>\u001b[0m in \u001b[0;36m<cell line: 14>\u001b[0;34m()\u001b[0m\n\u001b[1;32m     12\u001b[0m \u001b[0mlr_schedule\u001b[0m \u001b[0;34m=\u001b[0m \u001b[0moptim\u001b[0m\u001b[0;34m.\u001b[0m\u001b[0mlr_scheduler\u001b[0m\u001b[0;34m.\u001b[0m\u001b[0mStepLR\u001b[0m\u001b[0;34m(\u001b[0m\u001b[0moptimizer\u001b[0m\u001b[0;34m,\u001b[0m \u001b[0mstep_size\u001b[0m \u001b[0;34m=\u001b[0m \u001b[0;36m10\u001b[0m\u001b[0;34m,\u001b[0m \u001b[0mgamma\u001b[0m \u001b[0;34m=\u001b[0m \u001b[0;36m0.33\u001b[0m\u001b[0;34m)\u001b[0m\u001b[0;34m\u001b[0m\u001b[0;34m\u001b[0m\u001b[0m\n\u001b[1;32m     13\u001b[0m \u001b[0;34m\u001b[0m\u001b[0m\n\u001b[0;32m---> 14\u001b[0;31m run_model(model, train_data_loader, val_data_loader, loss_criteria,\n\u001b[0m\u001b[1;32m     15\u001b[0m           optimizer, history_train, history_test, best_val_acc,\"resnet50\", num_epochs)\n",
            "\u001b[0;32m<ipython-input-17-54ede31cb6a3>\u001b[0m in \u001b[0;36mrun_model\u001b[0;34m(model, train_loader, val_loader, loss_criteria, optimizer, history_train, history_test, best_val_acc, model_name, num_epochs)\u001b[0m\n\u001b[1;32m     86\u001b[0m \u001b[0;34m\u001b[0m\u001b[0m\n\u001b[1;32m     87\u001b[0m         \u001b[0mprint\u001b[0m\u001b[0;34m(\u001b[0m\u001b[0;34m\"\\nTraining........\"\u001b[0m\u001b[0;34m)\u001b[0m\u001b[0;34m\u001b[0m\u001b[0;34m\u001b[0m\u001b[0m\n\u001b[0;32m---> 88\u001b[0;31m         train_loss, train_acc, train_time = train_one_epoch(model,\n\u001b[0m\u001b[1;32m     89\u001b[0m                                                             \u001b[0mtrain_loader\u001b[0m\u001b[0;34m,\u001b[0m\u001b[0;34m\u001b[0m\u001b[0;34m\u001b[0m\u001b[0m\n\u001b[1;32m     90\u001b[0m                                                             \u001b[0moptimizer\u001b[0m\u001b[0;34m,\u001b[0m\u001b[0;34m\u001b[0m\u001b[0;34m\u001b[0m\u001b[0m\n",
            "\u001b[0;32m<ipython-input-17-54ede31cb6a3>\u001b[0m in \u001b[0;36mtrain_one_epoch\u001b[0;34m(model, data_loader, optimizer, loss_criteria, history_train)\u001b[0m\n\u001b[1;32m     11\u001b[0m         \u001b[0moptimizer\u001b[0m\u001b[0;34m.\u001b[0m\u001b[0mzero_grad\u001b[0m\u001b[0;34m(\u001b[0m\u001b[0;34m)\u001b[0m\u001b[0;34m\u001b[0m\u001b[0;34m\u001b[0m\u001b[0m\n\u001b[1;32m     12\u001b[0m \u001b[0;34m\u001b[0m\u001b[0m\n\u001b[0;32m---> 13\u001b[0;31m         \u001b[0mpred\u001b[0m \u001b[0;34m=\u001b[0m \u001b[0mmodel\u001b[0m\u001b[0;34m(\u001b[0m\u001b[0mimages\u001b[0m\u001b[0;34m)\u001b[0m\u001b[0;34m\u001b[0m\u001b[0;34m\u001b[0m\u001b[0m\n\u001b[0m\u001b[1;32m     14\u001b[0m         \u001b[0mloss\u001b[0m \u001b[0;34m=\u001b[0m \u001b[0mloss_criteria\u001b[0m\u001b[0;34m(\u001b[0m\u001b[0mpred\u001b[0m\u001b[0;34m,\u001b[0m \u001b[0mlabels\u001b[0m\u001b[0;34m)\u001b[0m\u001b[0;34m\u001b[0m\u001b[0;34m\u001b[0m\u001b[0m\n\u001b[1;32m     15\u001b[0m         \u001b[0mepoch_loss\u001b[0m\u001b[0;34m.\u001b[0m\u001b[0mappend\u001b[0m\u001b[0;34m(\u001b[0m\u001b[0mloss\u001b[0m\u001b[0;34m.\u001b[0m\u001b[0mitem\u001b[0m\u001b[0;34m(\u001b[0m\u001b[0;34m)\u001b[0m\u001b[0;34m)\u001b[0m\u001b[0;34m\u001b[0m\u001b[0;34m\u001b[0m\u001b[0m\n",
            "\u001b[0;32m/usr/local/lib/python3.10/dist-packages/torch/nn/modules/module.py\u001b[0m in \u001b[0;36m_wrapped_call_impl\u001b[0;34m(self, *args, **kwargs)\u001b[0m\n\u001b[1;32m   1530\u001b[0m             \u001b[0;32mreturn\u001b[0m \u001b[0mself\u001b[0m\u001b[0;34m.\u001b[0m\u001b[0m_compiled_call_impl\u001b[0m\u001b[0;34m(\u001b[0m\u001b[0;34m*\u001b[0m\u001b[0margs\u001b[0m\u001b[0;34m,\u001b[0m \u001b[0;34m**\u001b[0m\u001b[0mkwargs\u001b[0m\u001b[0;34m)\u001b[0m  \u001b[0;31m# type: ignore[misc]\u001b[0m\u001b[0;34m\u001b[0m\u001b[0;34m\u001b[0m\u001b[0m\n\u001b[1;32m   1531\u001b[0m         \u001b[0;32melse\u001b[0m\u001b[0;34m:\u001b[0m\u001b[0;34m\u001b[0m\u001b[0;34m\u001b[0m\u001b[0m\n\u001b[0;32m-> 1532\u001b[0;31m             \u001b[0;32mreturn\u001b[0m \u001b[0mself\u001b[0m\u001b[0;34m.\u001b[0m\u001b[0m_call_impl\u001b[0m\u001b[0;34m(\u001b[0m\u001b[0;34m*\u001b[0m\u001b[0margs\u001b[0m\u001b[0;34m,\u001b[0m \u001b[0;34m**\u001b[0m\u001b[0mkwargs\u001b[0m\u001b[0;34m)\u001b[0m\u001b[0;34m\u001b[0m\u001b[0;34m\u001b[0m\u001b[0m\n\u001b[0m\u001b[1;32m   1533\u001b[0m \u001b[0;34m\u001b[0m\u001b[0m\n\u001b[1;32m   1534\u001b[0m     \u001b[0;32mdef\u001b[0m \u001b[0m_call_impl\u001b[0m\u001b[0;34m(\u001b[0m\u001b[0mself\u001b[0m\u001b[0;34m,\u001b[0m \u001b[0;34m*\u001b[0m\u001b[0margs\u001b[0m\u001b[0;34m,\u001b[0m \u001b[0;34m**\u001b[0m\u001b[0mkwargs\u001b[0m\u001b[0;34m)\u001b[0m\u001b[0;34m:\u001b[0m\u001b[0;34m\u001b[0m\u001b[0;34m\u001b[0m\u001b[0m\n",
            "\u001b[0;32m/usr/local/lib/python3.10/dist-packages/torch/nn/modules/module.py\u001b[0m in \u001b[0;36m_call_impl\u001b[0;34m(self, *args, **kwargs)\u001b[0m\n\u001b[1;32m   1539\u001b[0m                 \u001b[0;32mor\u001b[0m \u001b[0m_global_backward_pre_hooks\u001b[0m \u001b[0;32mor\u001b[0m \u001b[0m_global_backward_hooks\u001b[0m\u001b[0;34m\u001b[0m\u001b[0;34m\u001b[0m\u001b[0m\n\u001b[1;32m   1540\u001b[0m                 or _global_forward_hooks or _global_forward_pre_hooks):\n\u001b[0;32m-> 1541\u001b[0;31m             \u001b[0;32mreturn\u001b[0m \u001b[0mforward_call\u001b[0m\u001b[0;34m(\u001b[0m\u001b[0;34m*\u001b[0m\u001b[0margs\u001b[0m\u001b[0;34m,\u001b[0m \u001b[0;34m**\u001b[0m\u001b[0mkwargs\u001b[0m\u001b[0;34m)\u001b[0m\u001b[0;34m\u001b[0m\u001b[0;34m\u001b[0m\u001b[0m\n\u001b[0m\u001b[1;32m   1542\u001b[0m \u001b[0;34m\u001b[0m\u001b[0m\n\u001b[1;32m   1543\u001b[0m         \u001b[0;32mtry\u001b[0m\u001b[0;34m:\u001b[0m\u001b[0;34m\u001b[0m\u001b[0;34m\u001b[0m\u001b[0m\n",
            "\u001b[0;32m/usr/local/lib/python3.10/dist-packages/torchvision/models/resnet.py\u001b[0m in \u001b[0;36mforward\u001b[0;34m(self, x)\u001b[0m\n\u001b[1;32m    283\u001b[0m \u001b[0;34m\u001b[0m\u001b[0m\n\u001b[1;32m    284\u001b[0m     \u001b[0;32mdef\u001b[0m \u001b[0mforward\u001b[0m\u001b[0;34m(\u001b[0m\u001b[0mself\u001b[0m\u001b[0;34m,\u001b[0m \u001b[0mx\u001b[0m\u001b[0;34m:\u001b[0m \u001b[0mTensor\u001b[0m\u001b[0;34m)\u001b[0m \u001b[0;34m->\u001b[0m \u001b[0mTensor\u001b[0m\u001b[0;34m:\u001b[0m\u001b[0;34m\u001b[0m\u001b[0;34m\u001b[0m\u001b[0m\n\u001b[0;32m--> 285\u001b[0;31m         \u001b[0;32mreturn\u001b[0m \u001b[0mself\u001b[0m\u001b[0;34m.\u001b[0m\u001b[0m_forward_impl\u001b[0m\u001b[0;34m(\u001b[0m\u001b[0mx\u001b[0m\u001b[0;34m)\u001b[0m\u001b[0;34m\u001b[0m\u001b[0;34m\u001b[0m\u001b[0m\n\u001b[0m\u001b[1;32m    286\u001b[0m \u001b[0;34m\u001b[0m\u001b[0m\n\u001b[1;32m    287\u001b[0m \u001b[0;34m\u001b[0m\u001b[0m\n",
            "\u001b[0;32m/usr/local/lib/python3.10/dist-packages/torchvision/models/resnet.py\u001b[0m in \u001b[0;36m_forward_impl\u001b[0;34m(self, x)\u001b[0m\n\u001b[1;32m    266\u001b[0m     \u001b[0;32mdef\u001b[0m \u001b[0m_forward_impl\u001b[0m\u001b[0;34m(\u001b[0m\u001b[0mself\u001b[0m\u001b[0;34m,\u001b[0m \u001b[0mx\u001b[0m\u001b[0;34m:\u001b[0m \u001b[0mTensor\u001b[0m\u001b[0;34m)\u001b[0m \u001b[0;34m->\u001b[0m \u001b[0mTensor\u001b[0m\u001b[0;34m:\u001b[0m\u001b[0;34m\u001b[0m\u001b[0;34m\u001b[0m\u001b[0m\n\u001b[1;32m    267\u001b[0m         \u001b[0;31m# See note [TorchScript super()]\u001b[0m\u001b[0;34m\u001b[0m\u001b[0;34m\u001b[0m\u001b[0m\n\u001b[0;32m--> 268\u001b[0;31m         \u001b[0mx\u001b[0m \u001b[0;34m=\u001b[0m \u001b[0mself\u001b[0m\u001b[0;34m.\u001b[0m\u001b[0mconv1\u001b[0m\u001b[0;34m(\u001b[0m\u001b[0mx\u001b[0m\u001b[0;34m)\u001b[0m\u001b[0;34m\u001b[0m\u001b[0;34m\u001b[0m\u001b[0m\n\u001b[0m\u001b[1;32m    269\u001b[0m         \u001b[0mx\u001b[0m \u001b[0;34m=\u001b[0m \u001b[0mself\u001b[0m\u001b[0;34m.\u001b[0m\u001b[0mbn1\u001b[0m\u001b[0;34m(\u001b[0m\u001b[0mx\u001b[0m\u001b[0;34m)\u001b[0m\u001b[0;34m\u001b[0m\u001b[0;34m\u001b[0m\u001b[0m\n\u001b[1;32m    270\u001b[0m         \u001b[0mx\u001b[0m \u001b[0;34m=\u001b[0m \u001b[0mself\u001b[0m\u001b[0;34m.\u001b[0m\u001b[0mrelu\u001b[0m\u001b[0;34m(\u001b[0m\u001b[0mx\u001b[0m\u001b[0;34m)\u001b[0m\u001b[0;34m\u001b[0m\u001b[0;34m\u001b[0m\u001b[0m\n",
            "\u001b[0;32m/usr/local/lib/python3.10/dist-packages/torch/nn/modules/module.py\u001b[0m in \u001b[0;36m_wrapped_call_impl\u001b[0;34m(self, *args, **kwargs)\u001b[0m\n\u001b[1;32m   1530\u001b[0m             \u001b[0;32mreturn\u001b[0m \u001b[0mself\u001b[0m\u001b[0;34m.\u001b[0m\u001b[0m_compiled_call_impl\u001b[0m\u001b[0;34m(\u001b[0m\u001b[0;34m*\u001b[0m\u001b[0margs\u001b[0m\u001b[0;34m,\u001b[0m \u001b[0;34m**\u001b[0m\u001b[0mkwargs\u001b[0m\u001b[0;34m)\u001b[0m  \u001b[0;31m# type: ignore[misc]\u001b[0m\u001b[0;34m\u001b[0m\u001b[0;34m\u001b[0m\u001b[0m\n\u001b[1;32m   1531\u001b[0m         \u001b[0;32melse\u001b[0m\u001b[0;34m:\u001b[0m\u001b[0;34m\u001b[0m\u001b[0;34m\u001b[0m\u001b[0m\n\u001b[0;32m-> 1532\u001b[0;31m             \u001b[0;32mreturn\u001b[0m \u001b[0mself\u001b[0m\u001b[0;34m.\u001b[0m\u001b[0m_call_impl\u001b[0m\u001b[0;34m(\u001b[0m\u001b[0;34m*\u001b[0m\u001b[0margs\u001b[0m\u001b[0;34m,\u001b[0m \u001b[0;34m**\u001b[0m\u001b[0mkwargs\u001b[0m\u001b[0;34m)\u001b[0m\u001b[0;34m\u001b[0m\u001b[0;34m\u001b[0m\u001b[0m\n\u001b[0m\u001b[1;32m   1533\u001b[0m \u001b[0;34m\u001b[0m\u001b[0m\n\u001b[1;32m   1534\u001b[0m     \u001b[0;32mdef\u001b[0m \u001b[0m_call_impl\u001b[0m\u001b[0;34m(\u001b[0m\u001b[0mself\u001b[0m\u001b[0;34m,\u001b[0m \u001b[0;34m*\u001b[0m\u001b[0margs\u001b[0m\u001b[0;34m,\u001b[0m \u001b[0;34m**\u001b[0m\u001b[0mkwargs\u001b[0m\u001b[0;34m)\u001b[0m\u001b[0;34m:\u001b[0m\u001b[0;34m\u001b[0m\u001b[0;34m\u001b[0m\u001b[0m\n",
            "\u001b[0;32m/usr/local/lib/python3.10/dist-packages/torch/nn/modules/module.py\u001b[0m in \u001b[0;36m_call_impl\u001b[0;34m(self, *args, **kwargs)\u001b[0m\n\u001b[1;32m   1539\u001b[0m                 \u001b[0;32mor\u001b[0m \u001b[0m_global_backward_pre_hooks\u001b[0m \u001b[0;32mor\u001b[0m \u001b[0m_global_backward_hooks\u001b[0m\u001b[0;34m\u001b[0m\u001b[0;34m\u001b[0m\u001b[0m\n\u001b[1;32m   1540\u001b[0m                 or _global_forward_hooks or _global_forward_pre_hooks):\n\u001b[0;32m-> 1541\u001b[0;31m             \u001b[0;32mreturn\u001b[0m \u001b[0mforward_call\u001b[0m\u001b[0;34m(\u001b[0m\u001b[0;34m*\u001b[0m\u001b[0margs\u001b[0m\u001b[0;34m,\u001b[0m \u001b[0;34m**\u001b[0m\u001b[0mkwargs\u001b[0m\u001b[0;34m)\u001b[0m\u001b[0;34m\u001b[0m\u001b[0;34m\u001b[0m\u001b[0m\n\u001b[0m\u001b[1;32m   1542\u001b[0m \u001b[0;34m\u001b[0m\u001b[0m\n\u001b[1;32m   1543\u001b[0m         \u001b[0;32mtry\u001b[0m\u001b[0;34m:\u001b[0m\u001b[0;34m\u001b[0m\u001b[0;34m\u001b[0m\u001b[0m\n",
            "\u001b[0;32m/usr/local/lib/python3.10/dist-packages/torch/nn/modules/conv.py\u001b[0m in \u001b[0;36mforward\u001b[0;34m(self, input)\u001b[0m\n\u001b[1;32m    458\u001b[0m \u001b[0;34m\u001b[0m\u001b[0m\n\u001b[1;32m    459\u001b[0m     \u001b[0;32mdef\u001b[0m \u001b[0mforward\u001b[0m\u001b[0;34m(\u001b[0m\u001b[0mself\u001b[0m\u001b[0;34m,\u001b[0m \u001b[0minput\u001b[0m\u001b[0;34m:\u001b[0m \u001b[0mTensor\u001b[0m\u001b[0;34m)\u001b[0m \u001b[0;34m->\u001b[0m \u001b[0mTensor\u001b[0m\u001b[0;34m:\u001b[0m\u001b[0;34m\u001b[0m\u001b[0;34m\u001b[0m\u001b[0m\n\u001b[0;32m--> 460\u001b[0;31m         \u001b[0;32mreturn\u001b[0m \u001b[0mself\u001b[0m\u001b[0;34m.\u001b[0m\u001b[0m_conv_forward\u001b[0m\u001b[0;34m(\u001b[0m\u001b[0minput\u001b[0m\u001b[0;34m,\u001b[0m \u001b[0mself\u001b[0m\u001b[0;34m.\u001b[0m\u001b[0mweight\u001b[0m\u001b[0;34m,\u001b[0m \u001b[0mself\u001b[0m\u001b[0;34m.\u001b[0m\u001b[0mbias\u001b[0m\u001b[0;34m)\u001b[0m\u001b[0;34m\u001b[0m\u001b[0;34m\u001b[0m\u001b[0m\n\u001b[0m\u001b[1;32m    461\u001b[0m \u001b[0;34m\u001b[0m\u001b[0m\n\u001b[1;32m    462\u001b[0m \u001b[0;32mclass\u001b[0m \u001b[0mConv3d\u001b[0m\u001b[0;34m(\u001b[0m\u001b[0m_ConvNd\u001b[0m\u001b[0;34m)\u001b[0m\u001b[0;34m:\u001b[0m\u001b[0;34m\u001b[0m\u001b[0;34m\u001b[0m\u001b[0m\n",
            "\u001b[0;32m/usr/local/lib/python3.10/dist-packages/torch/nn/modules/conv.py\u001b[0m in \u001b[0;36m_conv_forward\u001b[0;34m(self, input, weight, bias)\u001b[0m\n\u001b[1;32m    454\u001b[0m                             \u001b[0mweight\u001b[0m\u001b[0;34m,\u001b[0m \u001b[0mbias\u001b[0m\u001b[0;34m,\u001b[0m \u001b[0mself\u001b[0m\u001b[0;34m.\u001b[0m\u001b[0mstride\u001b[0m\u001b[0;34m,\u001b[0m\u001b[0;34m\u001b[0m\u001b[0;34m\u001b[0m\u001b[0m\n\u001b[1;32m    455\u001b[0m                             _pair(0), self.dilation, self.groups)\n\u001b[0;32m--> 456\u001b[0;31m         return F.conv2d(input, weight, bias, self.stride,\n\u001b[0m\u001b[1;32m    457\u001b[0m                         self.padding, self.dilation, self.groups)\n\u001b[1;32m    458\u001b[0m \u001b[0;34m\u001b[0m\u001b[0m\n",
            "\u001b[0;31mRuntimeError\u001b[0m: Input type (torch.cuda.FloatTensor) and weight type (torch.FloatTensor) should be the same"
          ]
        }
      ]
    },
    {
      "cell_type": "markdown",
      "source": [
        "## Hyper Parameter tuning"
      ],
      "metadata": {
        "id": "M_VITVPVikE2"
      }
    },
    {
      "cell_type": "code",
      "source": [
        "! pip install optuna"
      ],
      "metadata": {
        "colab": {
          "base_uri": "https://localhost:8080/"
        },
        "id": "cNqo1LzkEbet",
        "outputId": "9755f6f5-5167-4a04-bc55-30fbde4a941e"
      },
      "execution_count": null,
      "outputs": [
        {
          "output_type": "stream",
          "name": "stdout",
          "text": [
            "Collecting optuna\n",
            "  Downloading optuna-3.6.1-py3-none-any.whl (380 kB)\n",
            "\u001b[2K     \u001b[90m━━━━━━━━━━━━━━━━━━━━━━━━━━━━━━━━━━━━━━━━\u001b[0m \u001b[32m380.1/380.1 kB\u001b[0m \u001b[31m6.4 MB/s\u001b[0m eta \u001b[36m0:00:00\u001b[0m\n",
            "\u001b[?25hCollecting alembic>=1.5.0 (from optuna)\n",
            "  Downloading alembic-1.13.2-py3-none-any.whl (232 kB)\n",
            "\u001b[2K     \u001b[90m━━━━━━━━━━━━━━━━━━━━━━━━━━━━━━━━━━━━━━━━\u001b[0m \u001b[32m233.0/233.0 kB\u001b[0m \u001b[31m9.4 MB/s\u001b[0m eta \u001b[36m0:00:00\u001b[0m\n",
            "\u001b[?25hCollecting colorlog (from optuna)\n",
            "  Downloading colorlog-6.8.2-py3-none-any.whl (11 kB)\n",
            "Requirement already satisfied: numpy in /usr/local/lib/python3.10/dist-packages (from optuna) (1.25.2)\n",
            "Requirement already satisfied: packaging>=20.0 in /usr/local/lib/python3.10/dist-packages (from optuna) (24.1)\n",
            "Requirement already satisfied: sqlalchemy>=1.3.0 in /usr/local/lib/python3.10/dist-packages (from optuna) (2.0.31)\n",
            "Requirement already satisfied: tqdm in /usr/local/lib/python3.10/dist-packages (from optuna) (4.66.4)\n",
            "Requirement already satisfied: PyYAML in /usr/local/lib/python3.10/dist-packages (from optuna) (6.0.1)\n",
            "Collecting Mako (from alembic>=1.5.0->optuna)\n",
            "  Downloading Mako-1.3.5-py3-none-any.whl (78 kB)\n",
            "\u001b[2K     \u001b[90m━━━━━━━━━━━━━━━━━━━━━━━━━━━━━━━━━━━━━━━━\u001b[0m \u001b[32m78.6/78.6 kB\u001b[0m \u001b[31m11.0 MB/s\u001b[0m eta \u001b[36m0:00:00\u001b[0m\n",
            "\u001b[?25hRequirement already satisfied: typing-extensions>=4 in /usr/local/lib/python3.10/dist-packages (from alembic>=1.5.0->optuna) (4.12.2)\n",
            "Requirement already satisfied: greenlet!=0.4.17 in /usr/local/lib/python3.10/dist-packages (from sqlalchemy>=1.3.0->optuna) (3.0.3)\n",
            "Requirement already satisfied: MarkupSafe>=0.9.2 in /usr/local/lib/python3.10/dist-packages (from Mako->alembic>=1.5.0->optuna) (2.1.5)\n",
            "Installing collected packages: Mako, colorlog, alembic, optuna\n",
            "Successfully installed Mako-1.3.5 alembic-1.13.2 colorlog-6.8.2 optuna-3.6.1\n"
          ]
        }
      ]
    },
    {
      "cell_type": "code",
      "source": [
        "from optuna.trial import TrialState\n",
        "import optuna\n",
        "\n",
        "def define_model(trial):\n",
        "    n_layers = trial.suggest_int(\"n_layers\", 3, 5)\n",
        "    layers = []\n",
        "    act_layers = {\n",
        "        \"relu\": nn.ReLU(),\n",
        "        \"sigmoid\": nn.Sigmoid(),\n",
        "        \"gelu\": nn.GELU()\n",
        "    }\n",
        "\n",
        "    in_chan = trial.suggest_int(\"depth\", 20, 100)\n",
        "    pre_kernel_size = 7\n",
        "    x = torch.randn(2, 3 ,224, 224)\n",
        "    first_layer = True\n",
        "    w = 224\n",
        "    for i in range(n_layers):\n",
        "        scale_chan = trial.suggest_float(\"scale\", 1.1, 2.5)\n",
        "        out_chan = int(in_chan*scale_chan)\n",
        "        scale_kernel_size = trial.suggest_float(\"scale_kernel_size\", 1, 2)\n",
        "        kernel_size = 2 * int((pre_kernel_size - 1)/(2*scale_kernel_size))+1\n",
        "        stride = trial.suggest_int(\"stride\", 1, 2)\n",
        "        act_type = trial.suggest_categorical(\"act_type\", [\"relu\", \"sigmoid\", \"gelu\"])\n",
        "        p = trial.suggest_float(\"dropout\", 0, 0.2)\n",
        "        if first_layer:\n",
        "            kernel_size = pre_kernel_size\n",
        "            in_chan = 3\n",
        "        if w >= 2:\n",
        "            layer = nn.Sequential(\n",
        "                nn.Conv2d(in_chan, out_chan, kernel_size = kernel_size, stride = stride, padding = 0),\n",
        "                nn.BatchNorm2d(out_chan),\n",
        "                act_layers[act_type],\n",
        "                nn.MaxPool2d(2),\n",
        "                nn.Dropout(p)\n",
        "            )\n",
        "\n",
        "            layers.append(layer)\n",
        "            first_layer = False\n",
        "            in_chan = out_chan\n",
        "            pre_kernel_size = kernel_size\n",
        "            x = layer(x)\n",
        "            dim = x.shape\n",
        "            w = dim[3]\n",
        "    in_features = dim[1] * dim[2] * dim[3]\n",
        "    layers.append(nn.Flatten())\n",
        "    layers.append(nn.Linear(in_features, 1000))\n",
        "    layers.append(nn.Dropout(0.5))\n",
        "    layers.append(nn.Linear(1000, 4))\n",
        "    layers.append(nn.ReLU())\n",
        "    layers.append(nn.Sigmoid())\n",
        "    return nn.Sequential(*layers)\n",
        "\n",
        "epoch = 10\n",
        "def objective(trial):\n",
        "\n",
        "    model = define_model(trial)\n",
        "    model.to(device)\n",
        "    optimizations = {\n",
        "        \"Adam\": optim.Adam,\n",
        "        \"SGD\": optim.SGD,\n",
        "        \"RMSprop\": optim.RMSprop\n",
        "    }\n",
        "    criteria = {\n",
        "        \"CrossEntropyLoss\": nn.CrossEntropyLoss(),\n",
        "        \"HuberLoss\": nn.HuberLoss(),\n",
        "    }\n",
        "\n",
        "    optimizer_name = trial.suggest_categorical(\"optimizer_name\", [\"Adam\", \"SGD\", \"RMSprop\"])\n",
        "    learning_rate = trial.suggest_float(\"learning_rate\", 1e-5, 1e-3, log = True)\n",
        "\n",
        "\n",
        "    optimizer = optimizations[optimizer_name](model.parameters(), lr = learning_rate)\n",
        "\n",
        "    lr_scheduler = torch.optim.lr_scheduler.StepLR(optimizer, step_size = 10, gamma = 0.33)\n",
        "\n",
        "    # Loss\n",
        "    loss_name = trial.suggest_categorical(\"loss_name\", [\"CrossEntropyLoss\", \"HuberLoss\"])\n",
        "\n",
        "    loss_criteria = criteria[loss_name]\n",
        "\n",
        "    best_val_acc = 0\n",
        "\n",
        "    history_train = {\"loss\": [], \"acc\": [], \"time\": []}\n",
        "    history_test = {\"loss\": [], \"acc\": [], \"time\": []}\n",
        "\n",
        "    run_model(model, train_data_loader, val_data_loader, loss_criteria,\n",
        "          optimizer, history_train, history_test, best_val_acc, epoch)\n"
      ],
      "metadata": {
        "id": "HeV26L1JhyfB",
        "colab": {
          "base_uri": "https://localhost:8080/",
          "height": 399
        },
        "outputId": "8e7e37dd-fc8b-4bb3-e56e-561194b07bea"
      },
      "execution_count": 43,
      "outputs": [
        {
          "output_type": "error",
          "ename": "ModuleNotFoundError",
          "evalue": "No module named 'optuna'",
          "traceback": [
            "\u001b[0;31m---------------------------------------------------------------------------\u001b[0m",
            "\u001b[0;31mModuleNotFoundError\u001b[0m                       Traceback (most recent call last)",
            "\u001b[0;32m<ipython-input-43-4332a7e71cf0>\u001b[0m in \u001b[0;36m<cell line: 1>\u001b[0;34m()\u001b[0m\n\u001b[0;32m----> 1\u001b[0;31m \u001b[0;32mfrom\u001b[0m \u001b[0moptuna\u001b[0m\u001b[0;34m.\u001b[0m\u001b[0mtrial\u001b[0m \u001b[0;32mimport\u001b[0m \u001b[0mTrialState\u001b[0m\u001b[0;34m\u001b[0m\u001b[0;34m\u001b[0m\u001b[0m\n\u001b[0m\u001b[1;32m      2\u001b[0m \u001b[0;32mimport\u001b[0m \u001b[0moptuna\u001b[0m\u001b[0;34m\u001b[0m\u001b[0;34m\u001b[0m\u001b[0m\n\u001b[1;32m      3\u001b[0m \u001b[0;34m\u001b[0m\u001b[0m\n\u001b[1;32m      4\u001b[0m \u001b[0;32mdef\u001b[0m \u001b[0mdefine_model\u001b[0m\u001b[0;34m(\u001b[0m\u001b[0mtrial\u001b[0m\u001b[0;34m)\u001b[0m\u001b[0;34m:\u001b[0m\u001b[0;34m\u001b[0m\u001b[0;34m\u001b[0m\u001b[0m\n\u001b[1;32m      5\u001b[0m     \u001b[0mn_layers\u001b[0m \u001b[0;34m=\u001b[0m \u001b[0mtrial\u001b[0m\u001b[0;34m.\u001b[0m\u001b[0msuggest_int\u001b[0m\u001b[0;34m(\u001b[0m\u001b[0;34m\"n_layers\"\u001b[0m\u001b[0;34m,\u001b[0m \u001b[0;36m3\u001b[0m\u001b[0;34m,\u001b[0m \u001b[0;36m5\u001b[0m\u001b[0;34m)\u001b[0m\u001b[0;34m\u001b[0m\u001b[0;34m\u001b[0m\u001b[0m\n",
            "\u001b[0;31mModuleNotFoundError\u001b[0m: No module named 'optuna'",
            "",
            "\u001b[0;31m---------------------------------------------------------------------------\u001b[0;32m\nNOTE: If your import is failing due to a missing package, you can\nmanually install dependencies using either !pip or !apt.\n\nTo view examples of installing some common dependencies, click the\n\"Open Examples\" button below.\n\u001b[0;31m---------------------------------------------------------------------------\u001b[0m\n"
          ],
          "errorDetails": {
            "actions": [
              {
                "action": "open_url",
                "actionText": "Open Examples",
                "url": "/notebooks/snippets/importing_libraries.ipynb"
              }
            ]
          }
        }
      ]
    },
    {
      "cell_type": "code",
      "source": [
        "study = optuna.create_study(direction=\"maximize\")\n",
        "study.optimize(objective, n_trials=100, timeout=1000)"
      ],
      "metadata": {
        "colab": {
          "base_uri": "https://localhost:8080/",
          "height": 1000
        },
        "id": "fBvg1uhsL78C",
        "outputId": "11de64ee-9c2f-4623-d86e-ec0f163dfddd"
      },
      "execution_count": null,
      "outputs": [
        {
          "output_type": "stream",
          "name": "stderr",
          "text": [
            "[I 2024-07-12 09:14:38,205] A new study created in memory with name: no-name-701e17c6-b73f-4d69-ac89-70257901b44e\n"
          ]
        },
        {
          "output_type": "stream",
          "name": "stdout",
          "text": [
            "\n",
            "Training........\n"
          ]
        },
        {
          "output_type": "stream",
          "name": "stderr",
          "text": [
            "100it [00:35,  2.84it/s]\n"
          ]
        },
        {
          "output_type": "stream",
          "name": "stdout",
          "text": [
            "\n",
            "Epoch 1\n",
            "Train Loss: 1.3293098211288452\n",
            "Train Accuracy: 46.3125\n",
            "Train Time: 35.22086024284363\n",
            "\n",
            "Validating........\n"
          ]
        },
        {
          "output_type": "stream",
          "name": "stderr",
          "text": [
            "50it [00:04, 10.68it/s]\n"
          ]
        },
        {
          "output_type": "stream",
          "name": "stdout",
          "text": [
            "\n",
            "Epoch 1\n",
            "Val Loss: 1.2826343774795532\n",
            "Val Accuracy: 57.875\n",
            "Val Time: 4.7651283740997314\n",
            "\n",
            "Training........\n"
          ]
        },
        {
          "output_type": "stream",
          "name": "stderr",
          "text": [
            "100it [00:26,  3.74it/s]\n"
          ]
        },
        {
          "output_type": "stream",
          "name": "stdout",
          "text": [
            "\n",
            "Epoch 2\n",
            "Train Loss: 1.2842730283737183\n",
            "Train Accuracy: 56.0\n",
            "Train Time: 26.809627771377563\n",
            "\n",
            "Validating........\n"
          ]
        },
        {
          "output_type": "stream",
          "name": "stderr",
          "text": [
            "50it [00:04, 11.64it/s]\n"
          ]
        },
        {
          "output_type": "stream",
          "name": "stdout",
          "text": [
            "\n",
            "Epoch 2\n",
            "Val Loss: 1.2584004402160645\n",
            "Val Accuracy: 60.25\n",
            "Val Time: 4.348269462585449\n",
            "\n",
            "Training........\n"
          ]
        },
        {
          "output_type": "stream",
          "name": "stderr",
          "text": [
            "100it [00:26,  3.80it/s]\n"
          ]
        },
        {
          "output_type": "stream",
          "name": "stdout",
          "text": [
            "\n",
            "Epoch 3\n",
            "Train Loss: 1.2656620740890503\n",
            "Train Accuracy: 58.4375\n",
            "Train Time: 26.3627507686615\n",
            "\n",
            "Validating........\n"
          ]
        },
        {
          "output_type": "stream",
          "name": "stderr",
          "text": [
            "50it [00:04, 10.48it/s]\n"
          ]
        },
        {
          "output_type": "stream",
          "name": "stdout",
          "text": [
            "\n",
            "Epoch 3\n",
            "Val Loss: 1.2480926513671875\n",
            "Val Accuracy: 59.875\n",
            "Val Time: 4.8281848430633545\n",
            "\n",
            "Training........\n"
          ]
        },
        {
          "output_type": "stream",
          "name": "stderr",
          "text": [
            "100it [00:28,  3.56it/s]\n"
          ]
        },
        {
          "output_type": "stream",
          "name": "stdout",
          "text": [
            "\n",
            "Epoch 4\n",
            "Train Loss: 1.2566930055618286\n",
            "Train Accuracy: 58.1875\n",
            "Train Time: 28.17870330810547\n",
            "\n",
            "Validating........\n"
          ]
        },
        {
          "output_type": "stream",
          "name": "stderr",
          "text": [
            "50it [00:04, 11.61it/s]\n"
          ]
        },
        {
          "output_type": "stream",
          "name": "stdout",
          "text": [
            "\n",
            "Epoch 4\n",
            "Val Loss: 1.237244963645935\n",
            "Val Accuracy: 62.625\n",
            "Val Time: 4.366897821426392\n",
            "\n",
            "Training........\n"
          ]
        },
        {
          "output_type": "stream",
          "name": "stderr",
          "text": [
            "100it [00:26,  3.76it/s]\n"
          ]
        },
        {
          "output_type": "stream",
          "name": "stdout",
          "text": [
            "\n",
            "Epoch 5\n",
            "Train Loss: 1.2526030540466309\n",
            "Train Accuracy: 58.40625\n",
            "Train Time: 26.66836905479431\n",
            "\n",
            "Validating........\n"
          ]
        },
        {
          "output_type": "stream",
          "name": "stderr",
          "text": [
            "50it [00:05,  8.72it/s]\n"
          ]
        },
        {
          "output_type": "stream",
          "name": "stdout",
          "text": [
            "\n",
            "Epoch 5\n",
            "Val Loss: 1.2346775531768799\n",
            "Val Accuracy: 62.625\n",
            "Val Time: 5.8017401695251465\n",
            "\n",
            "Training........\n"
          ]
        },
        {
          "output_type": "stream",
          "name": "stderr",
          "text": [
            "100it [00:26,  3.79it/s]"
          ]
        },
        {
          "output_type": "stream",
          "name": "stdout",
          "text": [
            "\n",
            "Epoch 6\n",
            "Train Loss: 1.2479981184005737\n",
            "Train Accuracy: 59.28125\n",
            "Train Time: 26.474135160446167\n",
            "\n",
            "Validating........\n"
          ]
        },
        {
          "output_type": "stream",
          "name": "stderr",
          "text": [
            "\n",
            "50it [00:04, 11.01it/s]\n"
          ]
        },
        {
          "output_type": "stream",
          "name": "stdout",
          "text": [
            "\n",
            "Epoch 6\n",
            "Val Loss: 1.2329767942428589\n",
            "Val Accuracy: 62.25\n",
            "Val Time: 4.6292054653167725\n",
            "\n",
            "Training........\n"
          ]
        },
        {
          "output_type": "stream",
          "name": "stderr",
          "text": [
            "100it [00:29,  3.39it/s]\n"
          ]
        },
        {
          "output_type": "stream",
          "name": "stdout",
          "text": [
            "\n",
            "Epoch 7\n",
            "Train Loss: 1.2455366849899292\n",
            "Train Accuracy: 59.40625\n",
            "Train Time: 29.539602041244507\n",
            "\n",
            "Validating........\n"
          ]
        },
        {
          "output_type": "stream",
          "name": "stderr",
          "text": [
            "50it [00:05,  9.68it/s]\n"
          ]
        },
        {
          "output_type": "stream",
          "name": "stdout",
          "text": [
            "\n",
            "Epoch 7\n",
            "Val Loss: 1.2277370691299438\n",
            "Val Accuracy: 64.0\n",
            "Val Time: 5.225996494293213\n",
            "\n",
            "Training........\n"
          ]
        },
        {
          "output_type": "stream",
          "name": "stderr",
          "text": [
            "100it [00:26,  3.74it/s]"
          ]
        },
        {
          "output_type": "stream",
          "name": "stdout",
          "text": [
            "\n",
            "Epoch 8\n",
            "Train Loss: 1.2429717779159546\n",
            "Train Accuracy: 59.46875\n",
            "Train Time: 26.78421711921692\n",
            "\n",
            "Validating........\n"
          ]
        },
        {
          "output_type": "stream",
          "name": "stderr",
          "text": [
            "\n",
            "50it [00:04, 11.13it/s]\n"
          ]
        },
        {
          "output_type": "stream",
          "name": "stdout",
          "text": [
            "\n",
            "Epoch 8\n",
            "Val Loss: 1.2255080938339233\n",
            "Val Accuracy: 62.5\n",
            "Val Time: 4.594800233840942\n",
            "\n",
            "Training........\n"
          ]
        },
        {
          "output_type": "stream",
          "name": "stderr",
          "text": [
            "100it [00:26,  3.77it/s]\n"
          ]
        },
        {
          "output_type": "stream",
          "name": "stdout",
          "text": [
            "\n",
            "Epoch 9\n",
            "Train Loss: 1.238702654838562\n",
            "Train Accuracy: 60.65625\n",
            "Train Time: 26.582894802093506\n",
            "\n",
            "Validating........\n"
          ]
        },
        {
          "output_type": "stream",
          "name": "stderr",
          "text": [
            "50it [00:04, 11.49it/s]\n"
          ]
        },
        {
          "output_type": "stream",
          "name": "stdout",
          "text": [
            "\n",
            "Epoch 9\n",
            "Val Loss: 1.2223854064941406\n",
            "Val Accuracy: 63.625\n",
            "Val Time: 4.418856620788574\n",
            "\n",
            "Training........\n"
          ]
        },
        {
          "output_type": "stream",
          "name": "stderr",
          "text": [
            "100it [00:32,  3.10it/s]\n"
          ]
        },
        {
          "output_type": "stream",
          "name": "stdout",
          "text": [
            "\n",
            "Epoch 10\n",
            "Train Loss: 1.239207148551941\n",
            "Train Accuracy: 60.0625\n",
            "Train Time: 32.372583866119385\n",
            "\n",
            "Validating........\n"
          ]
        },
        {
          "output_type": "stream",
          "name": "stderr",
          "text": [
            "50it [00:04, 11.05it/s]\n",
            "[W 2024-07-12 09:21:00,795] Trial 0 failed with parameters: {'n_layers': 3, 'depth': 25, 'scale': 2.2143241244525527, 'scale_kernel_size': 1.5617528831107717, 'stride': 1, 'act_type': 'relu', 'dropout': 0.006507522201893346, 'optimizer_name': 'SGD', 'learning_rate': 0.00024525987591294125, 'loss_name': 'CrossEntropyLoss'} because of the following error: The value None could not be cast to float..\n",
            "[W 2024-07-12 09:21:00,800] Trial 0 failed with value None.\n"
          ]
        },
        {
          "output_type": "stream",
          "name": "stdout",
          "text": [
            "\n",
            "Epoch 10\n",
            "Val Loss: 1.2180986404418945\n",
            "Val Accuracy: 65.0\n",
            "Val Time: 4.587956666946411\n"
          ]
        },
        {
          "output_type": "stream",
          "name": "stderr",
          "text": [
            "[W 2024-07-12 09:21:01,008] Trial 1 failed with parameters: {'n_layers': 4, 'depth': 62, 'scale': 1.3096450218321989, 'scale_kernel_size': 1.1377688352327793, 'stride': 2, 'act_type': 'gelu', 'dropout': 0.06212778194262361} because of the following error: RuntimeError('Given input size: (180x1x1). Calculated output size: (180x0x0). Output size is too small').\n",
            "Traceback (most recent call last):\n",
            "  File \"/usr/local/lib/python3.10/dist-packages/optuna/study/_optimize.py\", line 196, in _run_trial\n",
            "    value_or_values = func(trial)\n",
            "  File \"<ipython-input-19-2859f18bfd25>\", line 57, in objective\n",
            "    model = define_model(trial)\n",
            "  File \"<ipython-input-19-2859f18bfd25>\", line 42, in define_model\n",
            "    x = layer(x)\n",
            "  File \"/usr/local/lib/python3.10/dist-packages/torch/nn/modules/module.py\", line 1532, in _wrapped_call_impl\n",
            "    return self._call_impl(*args, **kwargs)\n",
            "  File \"/usr/local/lib/python3.10/dist-packages/torch/nn/modules/module.py\", line 1541, in _call_impl\n",
            "    return forward_call(*args, **kwargs)\n",
            "  File \"/usr/local/lib/python3.10/dist-packages/torch/nn/modules/container.py\", line 217, in forward\n",
            "    input = module(input)\n",
            "  File \"/usr/local/lib/python3.10/dist-packages/torch/nn/modules/module.py\", line 1532, in _wrapped_call_impl\n",
            "    return self._call_impl(*args, **kwargs)\n",
            "  File \"/usr/local/lib/python3.10/dist-packages/torch/nn/modules/module.py\", line 1541, in _call_impl\n",
            "    return forward_call(*args, **kwargs)\n",
            "  File \"/usr/local/lib/python3.10/dist-packages/torch/nn/modules/pooling.py\", line 164, in forward\n",
            "    return F.max_pool2d(input, self.kernel_size, self.stride,\n",
            "  File \"/usr/local/lib/python3.10/dist-packages/torch/_jit_internal.py\", line 497, in fn\n",
            "    return if_false(*args, **kwargs)\n",
            "  File \"/usr/local/lib/python3.10/dist-packages/torch/nn/functional.py\", line 796, in _max_pool2d\n",
            "    return torch.max_pool2d(input, kernel_size, stride, padding, dilation, ceil_mode)\n",
            "RuntimeError: Given input size: (180x1x1). Calculated output size: (180x0x0). Output size is too small\n",
            "[W 2024-07-12 09:21:01,010] Trial 1 failed with value None.\n"
          ]
        },
        {
          "output_type": "error",
          "ename": "RuntimeError",
          "evalue": "Given input size: (180x1x1). Calculated output size: (180x0x0). Output size is too small",
          "traceback": [
            "\u001b[0;31m---------------------------------------------------------------------------\u001b[0m",
            "\u001b[0;31mRuntimeError\u001b[0m                              Traceback (most recent call last)",
            "\u001b[0;32m<ipython-input-20-9393379ee642>\u001b[0m in \u001b[0;36m<cell line: 2>\u001b[0;34m()\u001b[0m\n\u001b[1;32m      1\u001b[0m \u001b[0mstudy\u001b[0m \u001b[0;34m=\u001b[0m \u001b[0moptuna\u001b[0m\u001b[0;34m.\u001b[0m\u001b[0mcreate_study\u001b[0m\u001b[0;34m(\u001b[0m\u001b[0mdirection\u001b[0m\u001b[0;34m=\u001b[0m\u001b[0;34m\"maximize\"\u001b[0m\u001b[0;34m)\u001b[0m\u001b[0;34m\u001b[0m\u001b[0;34m\u001b[0m\u001b[0m\n\u001b[0;32m----> 2\u001b[0;31m \u001b[0mstudy\u001b[0m\u001b[0;34m.\u001b[0m\u001b[0moptimize\u001b[0m\u001b[0;34m(\u001b[0m\u001b[0mobjective\u001b[0m\u001b[0;34m,\u001b[0m \u001b[0mn_trials\u001b[0m\u001b[0;34m=\u001b[0m\u001b[0;36m100\u001b[0m\u001b[0;34m,\u001b[0m \u001b[0mtimeout\u001b[0m\u001b[0;34m=\u001b[0m\u001b[0;36m1000\u001b[0m\u001b[0;34m)\u001b[0m\u001b[0;34m\u001b[0m\u001b[0;34m\u001b[0m\u001b[0m\n\u001b[0m",
            "\u001b[0;32m/usr/local/lib/python3.10/dist-packages/optuna/study/study.py\u001b[0m in \u001b[0;36moptimize\u001b[0;34m(self, func, n_trials, timeout, n_jobs, catch, callbacks, gc_after_trial, show_progress_bar)\u001b[0m\n\u001b[1;32m    449\u001b[0m                 \u001b[0mIf\u001b[0m \u001b[0mnested\u001b[0m \u001b[0minvocation\u001b[0m \u001b[0mof\u001b[0m \u001b[0mthis\u001b[0m \u001b[0mmethod\u001b[0m \u001b[0moccurs\u001b[0m\u001b[0;34m.\u001b[0m\u001b[0;34m\u001b[0m\u001b[0;34m\u001b[0m\u001b[0m\n\u001b[1;32m    450\u001b[0m         \"\"\"\n\u001b[0;32m--> 451\u001b[0;31m         _optimize(\n\u001b[0m\u001b[1;32m    452\u001b[0m             \u001b[0mstudy\u001b[0m\u001b[0;34m=\u001b[0m\u001b[0mself\u001b[0m\u001b[0;34m,\u001b[0m\u001b[0;34m\u001b[0m\u001b[0;34m\u001b[0m\u001b[0m\n\u001b[1;32m    453\u001b[0m             \u001b[0mfunc\u001b[0m\u001b[0;34m=\u001b[0m\u001b[0mfunc\u001b[0m\u001b[0;34m,\u001b[0m\u001b[0;34m\u001b[0m\u001b[0;34m\u001b[0m\u001b[0m\n",
            "\u001b[0;32m/usr/local/lib/python3.10/dist-packages/optuna/study/_optimize.py\u001b[0m in \u001b[0;36m_optimize\u001b[0;34m(study, func, n_trials, timeout, n_jobs, catch, callbacks, gc_after_trial, show_progress_bar)\u001b[0m\n\u001b[1;32m     60\u001b[0m     \u001b[0;32mtry\u001b[0m\u001b[0;34m:\u001b[0m\u001b[0;34m\u001b[0m\u001b[0;34m\u001b[0m\u001b[0m\n\u001b[1;32m     61\u001b[0m         \u001b[0;32mif\u001b[0m \u001b[0mn_jobs\u001b[0m \u001b[0;34m==\u001b[0m \u001b[0;36m1\u001b[0m\u001b[0;34m:\u001b[0m\u001b[0;34m\u001b[0m\u001b[0;34m\u001b[0m\u001b[0m\n\u001b[0;32m---> 62\u001b[0;31m             _optimize_sequential(\n\u001b[0m\u001b[1;32m     63\u001b[0m                 \u001b[0mstudy\u001b[0m\u001b[0;34m,\u001b[0m\u001b[0;34m\u001b[0m\u001b[0;34m\u001b[0m\u001b[0m\n\u001b[1;32m     64\u001b[0m                 \u001b[0mfunc\u001b[0m\u001b[0;34m,\u001b[0m\u001b[0;34m\u001b[0m\u001b[0;34m\u001b[0m\u001b[0m\n",
            "\u001b[0;32m/usr/local/lib/python3.10/dist-packages/optuna/study/_optimize.py\u001b[0m in \u001b[0;36m_optimize_sequential\u001b[0;34m(study, func, n_trials, timeout, catch, callbacks, gc_after_trial, reseed_sampler_rng, time_start, progress_bar)\u001b[0m\n\u001b[1;32m    157\u001b[0m \u001b[0;34m\u001b[0m\u001b[0m\n\u001b[1;32m    158\u001b[0m         \u001b[0;32mtry\u001b[0m\u001b[0;34m:\u001b[0m\u001b[0;34m\u001b[0m\u001b[0;34m\u001b[0m\u001b[0m\n\u001b[0;32m--> 159\u001b[0;31m             \u001b[0mfrozen_trial\u001b[0m \u001b[0;34m=\u001b[0m \u001b[0m_run_trial\u001b[0m\u001b[0;34m(\u001b[0m\u001b[0mstudy\u001b[0m\u001b[0;34m,\u001b[0m \u001b[0mfunc\u001b[0m\u001b[0;34m,\u001b[0m \u001b[0mcatch\u001b[0m\u001b[0;34m)\u001b[0m\u001b[0;34m\u001b[0m\u001b[0;34m\u001b[0m\u001b[0m\n\u001b[0m\u001b[1;32m    160\u001b[0m         \u001b[0;32mfinally\u001b[0m\u001b[0;34m:\u001b[0m\u001b[0;34m\u001b[0m\u001b[0;34m\u001b[0m\u001b[0m\n\u001b[1;32m    161\u001b[0m             \u001b[0;31m# The following line mitigates memory problems that can be occurred in some\u001b[0m\u001b[0;34m\u001b[0m\u001b[0;34m\u001b[0m\u001b[0m\n",
            "\u001b[0;32m/usr/local/lib/python3.10/dist-packages/optuna/study/_optimize.py\u001b[0m in \u001b[0;36m_run_trial\u001b[0;34m(study, func, catch)\u001b[0m\n\u001b[1;32m    245\u001b[0m         \u001b[0;32mand\u001b[0m \u001b[0;32mnot\u001b[0m \u001b[0misinstance\u001b[0m\u001b[0;34m(\u001b[0m\u001b[0mfunc_err\u001b[0m\u001b[0;34m,\u001b[0m \u001b[0mcatch\u001b[0m\u001b[0;34m)\u001b[0m\u001b[0;34m\u001b[0m\u001b[0;34m\u001b[0m\u001b[0m\n\u001b[1;32m    246\u001b[0m     ):\n\u001b[0;32m--> 247\u001b[0;31m         \u001b[0;32mraise\u001b[0m \u001b[0mfunc_err\u001b[0m\u001b[0;34m\u001b[0m\u001b[0;34m\u001b[0m\u001b[0m\n\u001b[0m\u001b[1;32m    248\u001b[0m     \u001b[0;32mreturn\u001b[0m \u001b[0mfrozen_trial\u001b[0m\u001b[0;34m\u001b[0m\u001b[0;34m\u001b[0m\u001b[0m\n\u001b[1;32m    249\u001b[0m \u001b[0;34m\u001b[0m\u001b[0m\n",
            "\u001b[0;32m/usr/local/lib/python3.10/dist-packages/optuna/study/_optimize.py\u001b[0m in \u001b[0;36m_run_trial\u001b[0;34m(study, func, catch)\u001b[0m\n\u001b[1;32m    194\u001b[0m     \u001b[0;32mwith\u001b[0m \u001b[0mget_heartbeat_thread\u001b[0m\u001b[0;34m(\u001b[0m\u001b[0mtrial\u001b[0m\u001b[0;34m.\u001b[0m\u001b[0m_trial_id\u001b[0m\u001b[0;34m,\u001b[0m \u001b[0mstudy\u001b[0m\u001b[0;34m.\u001b[0m\u001b[0m_storage\u001b[0m\u001b[0;34m)\u001b[0m\u001b[0;34m:\u001b[0m\u001b[0;34m\u001b[0m\u001b[0;34m\u001b[0m\u001b[0m\n\u001b[1;32m    195\u001b[0m         \u001b[0;32mtry\u001b[0m\u001b[0;34m:\u001b[0m\u001b[0;34m\u001b[0m\u001b[0;34m\u001b[0m\u001b[0m\n\u001b[0;32m--> 196\u001b[0;31m             \u001b[0mvalue_or_values\u001b[0m \u001b[0;34m=\u001b[0m \u001b[0mfunc\u001b[0m\u001b[0;34m(\u001b[0m\u001b[0mtrial\u001b[0m\u001b[0;34m)\u001b[0m\u001b[0;34m\u001b[0m\u001b[0;34m\u001b[0m\u001b[0m\n\u001b[0m\u001b[1;32m    197\u001b[0m         \u001b[0;32mexcept\u001b[0m \u001b[0mexceptions\u001b[0m\u001b[0;34m.\u001b[0m\u001b[0mTrialPruned\u001b[0m \u001b[0;32mas\u001b[0m \u001b[0me\u001b[0m\u001b[0;34m:\u001b[0m\u001b[0;34m\u001b[0m\u001b[0;34m\u001b[0m\u001b[0m\n\u001b[1;32m    198\u001b[0m             \u001b[0;31m# TODO(mamu): Handle multi-objective cases.\u001b[0m\u001b[0;34m\u001b[0m\u001b[0;34m\u001b[0m\u001b[0m\n",
            "\u001b[0;32m<ipython-input-19-2859f18bfd25>\u001b[0m in \u001b[0;36mobjective\u001b[0;34m(trial)\u001b[0m\n\u001b[1;32m     55\u001b[0m \u001b[0;32mdef\u001b[0m \u001b[0mobjective\u001b[0m\u001b[0;34m(\u001b[0m\u001b[0mtrial\u001b[0m\u001b[0;34m)\u001b[0m\u001b[0;34m:\u001b[0m\u001b[0;34m\u001b[0m\u001b[0;34m\u001b[0m\u001b[0m\n\u001b[1;32m     56\u001b[0m \u001b[0;34m\u001b[0m\u001b[0m\n\u001b[0;32m---> 57\u001b[0;31m     \u001b[0mmodel\u001b[0m \u001b[0;34m=\u001b[0m \u001b[0mdefine_model\u001b[0m\u001b[0;34m(\u001b[0m\u001b[0mtrial\u001b[0m\u001b[0;34m)\u001b[0m\u001b[0;34m\u001b[0m\u001b[0;34m\u001b[0m\u001b[0m\n\u001b[0m\u001b[1;32m     58\u001b[0m     \u001b[0mmodel\u001b[0m\u001b[0;34m.\u001b[0m\u001b[0mto\u001b[0m\u001b[0;34m(\u001b[0m\u001b[0mdevice\u001b[0m\u001b[0;34m)\u001b[0m\u001b[0;34m\u001b[0m\u001b[0;34m\u001b[0m\u001b[0m\n\u001b[1;32m     59\u001b[0m     optimizations = {\n",
            "\u001b[0;32m<ipython-input-19-2859f18bfd25>\u001b[0m in \u001b[0;36mdefine_model\u001b[0;34m(trial)\u001b[0m\n\u001b[1;32m     40\u001b[0m             \u001b[0min_chan\u001b[0m \u001b[0;34m=\u001b[0m \u001b[0mout_chan\u001b[0m\u001b[0;34m\u001b[0m\u001b[0;34m\u001b[0m\u001b[0m\n\u001b[1;32m     41\u001b[0m             \u001b[0mpre_kernel_size\u001b[0m \u001b[0;34m=\u001b[0m \u001b[0mkernel_size\u001b[0m\u001b[0;34m\u001b[0m\u001b[0;34m\u001b[0m\u001b[0m\n\u001b[0;32m---> 42\u001b[0;31m             \u001b[0mx\u001b[0m \u001b[0;34m=\u001b[0m \u001b[0mlayer\u001b[0m\u001b[0;34m(\u001b[0m\u001b[0mx\u001b[0m\u001b[0;34m)\u001b[0m\u001b[0;34m\u001b[0m\u001b[0;34m\u001b[0m\u001b[0m\n\u001b[0m\u001b[1;32m     43\u001b[0m             \u001b[0mdim\u001b[0m \u001b[0;34m=\u001b[0m \u001b[0mx\u001b[0m\u001b[0;34m.\u001b[0m\u001b[0mshape\u001b[0m\u001b[0;34m\u001b[0m\u001b[0;34m\u001b[0m\u001b[0m\n\u001b[1;32m     44\u001b[0m             \u001b[0mw\u001b[0m \u001b[0;34m=\u001b[0m \u001b[0mdim\u001b[0m\u001b[0;34m[\u001b[0m\u001b[0;36m3\u001b[0m\u001b[0;34m]\u001b[0m\u001b[0;34m\u001b[0m\u001b[0;34m\u001b[0m\u001b[0m\n",
            "\u001b[0;32m/usr/local/lib/python3.10/dist-packages/torch/nn/modules/module.py\u001b[0m in \u001b[0;36m_wrapped_call_impl\u001b[0;34m(self, *args, **kwargs)\u001b[0m\n\u001b[1;32m   1530\u001b[0m             \u001b[0;32mreturn\u001b[0m \u001b[0mself\u001b[0m\u001b[0;34m.\u001b[0m\u001b[0m_compiled_call_impl\u001b[0m\u001b[0;34m(\u001b[0m\u001b[0;34m*\u001b[0m\u001b[0margs\u001b[0m\u001b[0;34m,\u001b[0m \u001b[0;34m**\u001b[0m\u001b[0mkwargs\u001b[0m\u001b[0;34m)\u001b[0m  \u001b[0;31m# type: ignore[misc]\u001b[0m\u001b[0;34m\u001b[0m\u001b[0;34m\u001b[0m\u001b[0m\n\u001b[1;32m   1531\u001b[0m         \u001b[0;32melse\u001b[0m\u001b[0;34m:\u001b[0m\u001b[0;34m\u001b[0m\u001b[0;34m\u001b[0m\u001b[0m\n\u001b[0;32m-> 1532\u001b[0;31m             \u001b[0;32mreturn\u001b[0m \u001b[0mself\u001b[0m\u001b[0;34m.\u001b[0m\u001b[0m_call_impl\u001b[0m\u001b[0;34m(\u001b[0m\u001b[0;34m*\u001b[0m\u001b[0margs\u001b[0m\u001b[0;34m,\u001b[0m \u001b[0;34m**\u001b[0m\u001b[0mkwargs\u001b[0m\u001b[0;34m)\u001b[0m\u001b[0;34m\u001b[0m\u001b[0;34m\u001b[0m\u001b[0m\n\u001b[0m\u001b[1;32m   1533\u001b[0m \u001b[0;34m\u001b[0m\u001b[0m\n\u001b[1;32m   1534\u001b[0m     \u001b[0;32mdef\u001b[0m \u001b[0m_call_impl\u001b[0m\u001b[0;34m(\u001b[0m\u001b[0mself\u001b[0m\u001b[0;34m,\u001b[0m \u001b[0;34m*\u001b[0m\u001b[0margs\u001b[0m\u001b[0;34m,\u001b[0m \u001b[0;34m**\u001b[0m\u001b[0mkwargs\u001b[0m\u001b[0;34m)\u001b[0m\u001b[0;34m:\u001b[0m\u001b[0;34m\u001b[0m\u001b[0;34m\u001b[0m\u001b[0m\n",
            "\u001b[0;32m/usr/local/lib/python3.10/dist-packages/torch/nn/modules/module.py\u001b[0m in \u001b[0;36m_call_impl\u001b[0;34m(self, *args, **kwargs)\u001b[0m\n\u001b[1;32m   1539\u001b[0m                 \u001b[0;32mor\u001b[0m \u001b[0m_global_backward_pre_hooks\u001b[0m \u001b[0;32mor\u001b[0m \u001b[0m_global_backward_hooks\u001b[0m\u001b[0;34m\u001b[0m\u001b[0;34m\u001b[0m\u001b[0m\n\u001b[1;32m   1540\u001b[0m                 or _global_forward_hooks or _global_forward_pre_hooks):\n\u001b[0;32m-> 1541\u001b[0;31m             \u001b[0;32mreturn\u001b[0m \u001b[0mforward_call\u001b[0m\u001b[0;34m(\u001b[0m\u001b[0;34m*\u001b[0m\u001b[0margs\u001b[0m\u001b[0;34m,\u001b[0m \u001b[0;34m**\u001b[0m\u001b[0mkwargs\u001b[0m\u001b[0;34m)\u001b[0m\u001b[0;34m\u001b[0m\u001b[0;34m\u001b[0m\u001b[0m\n\u001b[0m\u001b[1;32m   1542\u001b[0m \u001b[0;34m\u001b[0m\u001b[0m\n\u001b[1;32m   1543\u001b[0m         \u001b[0;32mtry\u001b[0m\u001b[0;34m:\u001b[0m\u001b[0;34m\u001b[0m\u001b[0;34m\u001b[0m\u001b[0m\n",
            "\u001b[0;32m/usr/local/lib/python3.10/dist-packages/torch/nn/modules/container.py\u001b[0m in \u001b[0;36mforward\u001b[0;34m(self, input)\u001b[0m\n\u001b[1;32m    215\u001b[0m     \u001b[0;32mdef\u001b[0m \u001b[0mforward\u001b[0m\u001b[0;34m(\u001b[0m\u001b[0mself\u001b[0m\u001b[0;34m,\u001b[0m \u001b[0minput\u001b[0m\u001b[0;34m)\u001b[0m\u001b[0;34m:\u001b[0m\u001b[0;34m\u001b[0m\u001b[0;34m\u001b[0m\u001b[0m\n\u001b[1;32m    216\u001b[0m         \u001b[0;32mfor\u001b[0m \u001b[0mmodule\u001b[0m \u001b[0;32min\u001b[0m \u001b[0mself\u001b[0m\u001b[0;34m:\u001b[0m\u001b[0;34m\u001b[0m\u001b[0;34m\u001b[0m\u001b[0m\n\u001b[0;32m--> 217\u001b[0;31m             \u001b[0minput\u001b[0m \u001b[0;34m=\u001b[0m \u001b[0mmodule\u001b[0m\u001b[0;34m(\u001b[0m\u001b[0minput\u001b[0m\u001b[0;34m)\u001b[0m\u001b[0;34m\u001b[0m\u001b[0;34m\u001b[0m\u001b[0m\n\u001b[0m\u001b[1;32m    218\u001b[0m         \u001b[0;32mreturn\u001b[0m \u001b[0minput\u001b[0m\u001b[0;34m\u001b[0m\u001b[0;34m\u001b[0m\u001b[0m\n\u001b[1;32m    219\u001b[0m \u001b[0;34m\u001b[0m\u001b[0m\n",
            "\u001b[0;32m/usr/local/lib/python3.10/dist-packages/torch/nn/modules/module.py\u001b[0m in \u001b[0;36m_wrapped_call_impl\u001b[0;34m(self, *args, **kwargs)\u001b[0m\n\u001b[1;32m   1530\u001b[0m             \u001b[0;32mreturn\u001b[0m \u001b[0mself\u001b[0m\u001b[0;34m.\u001b[0m\u001b[0m_compiled_call_impl\u001b[0m\u001b[0;34m(\u001b[0m\u001b[0;34m*\u001b[0m\u001b[0margs\u001b[0m\u001b[0;34m,\u001b[0m \u001b[0;34m**\u001b[0m\u001b[0mkwargs\u001b[0m\u001b[0;34m)\u001b[0m  \u001b[0;31m# type: ignore[misc]\u001b[0m\u001b[0;34m\u001b[0m\u001b[0;34m\u001b[0m\u001b[0m\n\u001b[1;32m   1531\u001b[0m         \u001b[0;32melse\u001b[0m\u001b[0;34m:\u001b[0m\u001b[0;34m\u001b[0m\u001b[0;34m\u001b[0m\u001b[0m\n\u001b[0;32m-> 1532\u001b[0;31m             \u001b[0;32mreturn\u001b[0m \u001b[0mself\u001b[0m\u001b[0;34m.\u001b[0m\u001b[0m_call_impl\u001b[0m\u001b[0;34m(\u001b[0m\u001b[0;34m*\u001b[0m\u001b[0margs\u001b[0m\u001b[0;34m,\u001b[0m \u001b[0;34m**\u001b[0m\u001b[0mkwargs\u001b[0m\u001b[0;34m)\u001b[0m\u001b[0;34m\u001b[0m\u001b[0;34m\u001b[0m\u001b[0m\n\u001b[0m\u001b[1;32m   1533\u001b[0m \u001b[0;34m\u001b[0m\u001b[0m\n\u001b[1;32m   1534\u001b[0m     \u001b[0;32mdef\u001b[0m \u001b[0m_call_impl\u001b[0m\u001b[0;34m(\u001b[0m\u001b[0mself\u001b[0m\u001b[0;34m,\u001b[0m \u001b[0;34m*\u001b[0m\u001b[0margs\u001b[0m\u001b[0;34m,\u001b[0m \u001b[0;34m**\u001b[0m\u001b[0mkwargs\u001b[0m\u001b[0;34m)\u001b[0m\u001b[0;34m:\u001b[0m\u001b[0;34m\u001b[0m\u001b[0;34m\u001b[0m\u001b[0m\n",
            "\u001b[0;32m/usr/local/lib/python3.10/dist-packages/torch/nn/modules/module.py\u001b[0m in \u001b[0;36m_call_impl\u001b[0;34m(self, *args, **kwargs)\u001b[0m\n\u001b[1;32m   1539\u001b[0m                 \u001b[0;32mor\u001b[0m \u001b[0m_global_backward_pre_hooks\u001b[0m \u001b[0;32mor\u001b[0m \u001b[0m_global_backward_hooks\u001b[0m\u001b[0;34m\u001b[0m\u001b[0;34m\u001b[0m\u001b[0m\n\u001b[1;32m   1540\u001b[0m                 or _global_forward_hooks or _global_forward_pre_hooks):\n\u001b[0;32m-> 1541\u001b[0;31m             \u001b[0;32mreturn\u001b[0m \u001b[0mforward_call\u001b[0m\u001b[0;34m(\u001b[0m\u001b[0;34m*\u001b[0m\u001b[0margs\u001b[0m\u001b[0;34m,\u001b[0m \u001b[0;34m**\u001b[0m\u001b[0mkwargs\u001b[0m\u001b[0;34m)\u001b[0m\u001b[0;34m\u001b[0m\u001b[0;34m\u001b[0m\u001b[0m\n\u001b[0m\u001b[1;32m   1542\u001b[0m \u001b[0;34m\u001b[0m\u001b[0m\n\u001b[1;32m   1543\u001b[0m         \u001b[0;32mtry\u001b[0m\u001b[0;34m:\u001b[0m\u001b[0;34m\u001b[0m\u001b[0;34m\u001b[0m\u001b[0m\n",
            "\u001b[0;32m/usr/local/lib/python3.10/dist-packages/torch/nn/modules/pooling.py\u001b[0m in \u001b[0;36mforward\u001b[0;34m(self, input)\u001b[0m\n\u001b[1;32m    162\u001b[0m \u001b[0;34m\u001b[0m\u001b[0m\n\u001b[1;32m    163\u001b[0m     \u001b[0;32mdef\u001b[0m \u001b[0mforward\u001b[0m\u001b[0;34m(\u001b[0m\u001b[0mself\u001b[0m\u001b[0;34m,\u001b[0m \u001b[0minput\u001b[0m\u001b[0;34m:\u001b[0m \u001b[0mTensor\u001b[0m\u001b[0;34m)\u001b[0m\u001b[0;34m:\u001b[0m\u001b[0;34m\u001b[0m\u001b[0;34m\u001b[0m\u001b[0m\n\u001b[0;32m--> 164\u001b[0;31m         return F.max_pool2d(input, self.kernel_size, self.stride,\n\u001b[0m\u001b[1;32m    165\u001b[0m                             \u001b[0mself\u001b[0m\u001b[0;34m.\u001b[0m\u001b[0mpadding\u001b[0m\u001b[0;34m,\u001b[0m \u001b[0mself\u001b[0m\u001b[0;34m.\u001b[0m\u001b[0mdilation\u001b[0m\u001b[0;34m,\u001b[0m \u001b[0mceil_mode\u001b[0m\u001b[0;34m=\u001b[0m\u001b[0mself\u001b[0m\u001b[0;34m.\u001b[0m\u001b[0mceil_mode\u001b[0m\u001b[0;34m,\u001b[0m\u001b[0;34m\u001b[0m\u001b[0;34m\u001b[0m\u001b[0m\n\u001b[1;32m    166\u001b[0m                             return_indices=self.return_indices)\n",
            "\u001b[0;32m/usr/local/lib/python3.10/dist-packages/torch/_jit_internal.py\u001b[0m in \u001b[0;36mfn\u001b[0;34m(*args, **kwargs)\u001b[0m\n\u001b[1;32m    495\u001b[0m             \u001b[0;32mreturn\u001b[0m \u001b[0mif_true\u001b[0m\u001b[0;34m(\u001b[0m\u001b[0;34m*\u001b[0m\u001b[0margs\u001b[0m\u001b[0;34m,\u001b[0m \u001b[0;34m**\u001b[0m\u001b[0mkwargs\u001b[0m\u001b[0;34m)\u001b[0m\u001b[0;34m\u001b[0m\u001b[0;34m\u001b[0m\u001b[0m\n\u001b[1;32m    496\u001b[0m         \u001b[0;32melse\u001b[0m\u001b[0;34m:\u001b[0m\u001b[0;34m\u001b[0m\u001b[0;34m\u001b[0m\u001b[0m\n\u001b[0;32m--> 497\u001b[0;31m             \u001b[0;32mreturn\u001b[0m \u001b[0mif_false\u001b[0m\u001b[0;34m(\u001b[0m\u001b[0;34m*\u001b[0m\u001b[0margs\u001b[0m\u001b[0;34m,\u001b[0m \u001b[0;34m**\u001b[0m\u001b[0mkwargs\u001b[0m\u001b[0;34m)\u001b[0m\u001b[0;34m\u001b[0m\u001b[0;34m\u001b[0m\u001b[0m\n\u001b[0m\u001b[1;32m    498\u001b[0m \u001b[0;34m\u001b[0m\u001b[0m\n\u001b[1;32m    499\u001b[0m     \u001b[0;32mif\u001b[0m \u001b[0mif_true\u001b[0m\u001b[0;34m.\u001b[0m\u001b[0m__doc__\u001b[0m \u001b[0;32mis\u001b[0m \u001b[0;32mNone\u001b[0m \u001b[0;32mand\u001b[0m \u001b[0mif_false\u001b[0m\u001b[0;34m.\u001b[0m\u001b[0m__doc__\u001b[0m \u001b[0;32mis\u001b[0m \u001b[0;32mnot\u001b[0m \u001b[0;32mNone\u001b[0m\u001b[0;34m:\u001b[0m\u001b[0;34m\u001b[0m\u001b[0;34m\u001b[0m\u001b[0m\n",
            "\u001b[0;32m/usr/local/lib/python3.10/dist-packages/torch/nn/functional.py\u001b[0m in \u001b[0;36m_max_pool2d\u001b[0;34m(input, kernel_size, stride, padding, dilation, ceil_mode, return_indices)\u001b[0m\n\u001b[1;32m    794\u001b[0m     \u001b[0;32mif\u001b[0m \u001b[0mstride\u001b[0m \u001b[0;32mis\u001b[0m \u001b[0;32mNone\u001b[0m\u001b[0;34m:\u001b[0m\u001b[0;34m\u001b[0m\u001b[0;34m\u001b[0m\u001b[0m\n\u001b[1;32m    795\u001b[0m         \u001b[0mstride\u001b[0m \u001b[0;34m=\u001b[0m \u001b[0mtorch\u001b[0m\u001b[0;34m.\u001b[0m\u001b[0mjit\u001b[0m\u001b[0;34m.\u001b[0m\u001b[0mannotate\u001b[0m\u001b[0;34m(\u001b[0m\u001b[0mList\u001b[0m\u001b[0;34m[\u001b[0m\u001b[0mint\u001b[0m\u001b[0;34m]\u001b[0m\u001b[0;34m,\u001b[0m \u001b[0;34m[\u001b[0m\u001b[0;34m]\u001b[0m\u001b[0;34m)\u001b[0m\u001b[0;34m\u001b[0m\u001b[0;34m\u001b[0m\u001b[0m\n\u001b[0;32m--> 796\u001b[0;31m     \u001b[0;32mreturn\u001b[0m \u001b[0mtorch\u001b[0m\u001b[0;34m.\u001b[0m\u001b[0mmax_pool2d\u001b[0m\u001b[0;34m(\u001b[0m\u001b[0minput\u001b[0m\u001b[0;34m,\u001b[0m \u001b[0mkernel_size\u001b[0m\u001b[0;34m,\u001b[0m \u001b[0mstride\u001b[0m\u001b[0;34m,\u001b[0m \u001b[0mpadding\u001b[0m\u001b[0;34m,\u001b[0m \u001b[0mdilation\u001b[0m\u001b[0;34m,\u001b[0m \u001b[0mceil_mode\u001b[0m\u001b[0;34m)\u001b[0m\u001b[0;34m\u001b[0m\u001b[0;34m\u001b[0m\u001b[0m\n\u001b[0m\u001b[1;32m    797\u001b[0m \u001b[0;34m\u001b[0m\u001b[0m\n\u001b[1;32m    798\u001b[0m \u001b[0;34m\u001b[0m\u001b[0m\n",
            "\u001b[0;31mRuntimeError\u001b[0m: Given input size: (180x1x1). Calculated output size: (180x0x0). Output size is too small"
          ]
        }
      ]
    },
    {
      "cell_type": "markdown",
      "source": [
        "# Method 2: Use Pre-trained model"
      ],
      "metadata": {
        "id": "e_VsFdVJFq9s"
      }
    },
    {
      "cell_type": "code",
      "source": [
        "from torchvision import models\n",
        "model = models.efficientnet_b2(pretrained=True)\n",
        "\n",
        "for param in model.parameters():\n",
        "    param.requires_grad = False\n",
        "\n",
        "num_features = model.classifier[1].in_features\n",
        "\n",
        "model.classifier = nn.Sequential(\n",
        "    nn.Linear(num_features, 1000, bias = True),\n",
        "    nn.ReLU(inplace=True),\n",
        "    nn.Dropout(p=0.5),\n",
        "    nn.Linear(1000, 4, bias = True),\n",
        ")\n",
        "\n",
        "print(model)"
      ],
      "metadata": {
        "colab": {
          "base_uri": "https://localhost:8080/"
        },
        "id": "qtKKNC-oFv7k",
        "outputId": "8b1bb938-aec6-4e6f-89de-0c595de4de1b"
      },
      "execution_count": 30,
      "outputs": [
        {
          "output_type": "stream",
          "name": "stderr",
          "text": [
            "/usr/local/lib/python3.10/dist-packages/torchvision/models/_utils.py:208: UserWarning: The parameter 'pretrained' is deprecated since 0.13 and may be removed in the future, please use 'weights' instead.\n",
            "  warnings.warn(\n",
            "/usr/local/lib/python3.10/dist-packages/torchvision/models/_utils.py:223: UserWarning: Arguments other than a weight enum or `None` for 'weights' are deprecated since 0.13 and may be removed in the future. The current behavior is equivalent to passing `weights=EfficientNet_B2_Weights.IMAGENET1K_V1`. You can also use `weights=EfficientNet_B2_Weights.DEFAULT` to get the most up-to-date weights.\n",
            "  warnings.warn(msg)\n",
            "Downloading: \"https://download.pytorch.org/models/efficientnet_b2_rwightman-c35c1473.pth\" to /root/.cache/torch/hub/checkpoints/efficientnet_b2_rwightman-c35c1473.pth\n",
            "100%|██████████| 35.2M/35.2M [00:00<00:00, 70.1MB/s]\n"
          ]
        },
        {
          "output_type": "stream",
          "name": "stdout",
          "text": [
            "EfficientNet(\n",
            "  (features): Sequential(\n",
            "    (0): Conv2dNormActivation(\n",
            "      (0): Conv2d(3, 32, kernel_size=(3, 3), stride=(2, 2), padding=(1, 1), bias=False)\n",
            "      (1): BatchNorm2d(32, eps=1e-05, momentum=0.1, affine=True, track_running_stats=True)\n",
            "      (2): SiLU(inplace=True)\n",
            "    )\n",
            "    (1): Sequential(\n",
            "      (0): MBConv(\n",
            "        (block): Sequential(\n",
            "          (0): Conv2dNormActivation(\n",
            "            (0): Conv2d(32, 32, kernel_size=(3, 3), stride=(1, 1), padding=(1, 1), groups=32, bias=False)\n",
            "            (1): BatchNorm2d(32, eps=1e-05, momentum=0.1, affine=True, track_running_stats=True)\n",
            "            (2): SiLU(inplace=True)\n",
            "          )\n",
            "          (1): SqueezeExcitation(\n",
            "            (avgpool): AdaptiveAvgPool2d(output_size=1)\n",
            "            (fc1): Conv2d(32, 8, kernel_size=(1, 1), stride=(1, 1))\n",
            "            (fc2): Conv2d(8, 32, kernel_size=(1, 1), stride=(1, 1))\n",
            "            (activation): SiLU(inplace=True)\n",
            "            (scale_activation): Sigmoid()\n",
            "          )\n",
            "          (2): Conv2dNormActivation(\n",
            "            (0): Conv2d(32, 16, kernel_size=(1, 1), stride=(1, 1), bias=False)\n",
            "            (1): BatchNorm2d(16, eps=1e-05, momentum=0.1, affine=True, track_running_stats=True)\n",
            "          )\n",
            "        )\n",
            "        (stochastic_depth): StochasticDepth(p=0.0, mode=row)\n",
            "      )\n",
            "      (1): MBConv(\n",
            "        (block): Sequential(\n",
            "          (0): Conv2dNormActivation(\n",
            "            (0): Conv2d(16, 16, kernel_size=(3, 3), stride=(1, 1), padding=(1, 1), groups=16, bias=False)\n",
            "            (1): BatchNorm2d(16, eps=1e-05, momentum=0.1, affine=True, track_running_stats=True)\n",
            "            (2): SiLU(inplace=True)\n",
            "          )\n",
            "          (1): SqueezeExcitation(\n",
            "            (avgpool): AdaptiveAvgPool2d(output_size=1)\n",
            "            (fc1): Conv2d(16, 4, kernel_size=(1, 1), stride=(1, 1))\n",
            "            (fc2): Conv2d(4, 16, kernel_size=(1, 1), stride=(1, 1))\n",
            "            (activation): SiLU(inplace=True)\n",
            "            (scale_activation): Sigmoid()\n",
            "          )\n",
            "          (2): Conv2dNormActivation(\n",
            "            (0): Conv2d(16, 16, kernel_size=(1, 1), stride=(1, 1), bias=False)\n",
            "            (1): BatchNorm2d(16, eps=1e-05, momentum=0.1, affine=True, track_running_stats=True)\n",
            "          )\n",
            "        )\n",
            "        (stochastic_depth): StochasticDepth(p=0.008695652173913044, mode=row)\n",
            "      )\n",
            "    )\n",
            "    (2): Sequential(\n",
            "      (0): MBConv(\n",
            "        (block): Sequential(\n",
            "          (0): Conv2dNormActivation(\n",
            "            (0): Conv2d(16, 96, kernel_size=(1, 1), stride=(1, 1), bias=False)\n",
            "            (1): BatchNorm2d(96, eps=1e-05, momentum=0.1, affine=True, track_running_stats=True)\n",
            "            (2): SiLU(inplace=True)\n",
            "          )\n",
            "          (1): Conv2dNormActivation(\n",
            "            (0): Conv2d(96, 96, kernel_size=(3, 3), stride=(2, 2), padding=(1, 1), groups=96, bias=False)\n",
            "            (1): BatchNorm2d(96, eps=1e-05, momentum=0.1, affine=True, track_running_stats=True)\n",
            "            (2): SiLU(inplace=True)\n",
            "          )\n",
            "          (2): SqueezeExcitation(\n",
            "            (avgpool): AdaptiveAvgPool2d(output_size=1)\n",
            "            (fc1): Conv2d(96, 4, kernel_size=(1, 1), stride=(1, 1))\n",
            "            (fc2): Conv2d(4, 96, kernel_size=(1, 1), stride=(1, 1))\n",
            "            (activation): SiLU(inplace=True)\n",
            "            (scale_activation): Sigmoid()\n",
            "          )\n",
            "          (3): Conv2dNormActivation(\n",
            "            (0): Conv2d(96, 24, kernel_size=(1, 1), stride=(1, 1), bias=False)\n",
            "            (1): BatchNorm2d(24, eps=1e-05, momentum=0.1, affine=True, track_running_stats=True)\n",
            "          )\n",
            "        )\n",
            "        (stochastic_depth): StochasticDepth(p=0.017391304347826087, mode=row)\n",
            "      )\n",
            "      (1): MBConv(\n",
            "        (block): Sequential(\n",
            "          (0): Conv2dNormActivation(\n",
            "            (0): Conv2d(24, 144, kernel_size=(1, 1), stride=(1, 1), bias=False)\n",
            "            (1): BatchNorm2d(144, eps=1e-05, momentum=0.1, affine=True, track_running_stats=True)\n",
            "            (2): SiLU(inplace=True)\n",
            "          )\n",
            "          (1): Conv2dNormActivation(\n",
            "            (0): Conv2d(144, 144, kernel_size=(3, 3), stride=(1, 1), padding=(1, 1), groups=144, bias=False)\n",
            "            (1): BatchNorm2d(144, eps=1e-05, momentum=0.1, affine=True, track_running_stats=True)\n",
            "            (2): SiLU(inplace=True)\n",
            "          )\n",
            "          (2): SqueezeExcitation(\n",
            "            (avgpool): AdaptiveAvgPool2d(output_size=1)\n",
            "            (fc1): Conv2d(144, 6, kernel_size=(1, 1), stride=(1, 1))\n",
            "            (fc2): Conv2d(6, 144, kernel_size=(1, 1), stride=(1, 1))\n",
            "            (activation): SiLU(inplace=True)\n",
            "            (scale_activation): Sigmoid()\n",
            "          )\n",
            "          (3): Conv2dNormActivation(\n",
            "            (0): Conv2d(144, 24, kernel_size=(1, 1), stride=(1, 1), bias=False)\n",
            "            (1): BatchNorm2d(24, eps=1e-05, momentum=0.1, affine=True, track_running_stats=True)\n",
            "          )\n",
            "        )\n",
            "        (stochastic_depth): StochasticDepth(p=0.026086956521739136, mode=row)\n",
            "      )\n",
            "      (2): MBConv(\n",
            "        (block): Sequential(\n",
            "          (0): Conv2dNormActivation(\n",
            "            (0): Conv2d(24, 144, kernel_size=(1, 1), stride=(1, 1), bias=False)\n",
            "            (1): BatchNorm2d(144, eps=1e-05, momentum=0.1, affine=True, track_running_stats=True)\n",
            "            (2): SiLU(inplace=True)\n",
            "          )\n",
            "          (1): Conv2dNormActivation(\n",
            "            (0): Conv2d(144, 144, kernel_size=(3, 3), stride=(1, 1), padding=(1, 1), groups=144, bias=False)\n",
            "            (1): BatchNorm2d(144, eps=1e-05, momentum=0.1, affine=True, track_running_stats=True)\n",
            "            (2): SiLU(inplace=True)\n",
            "          )\n",
            "          (2): SqueezeExcitation(\n",
            "            (avgpool): AdaptiveAvgPool2d(output_size=1)\n",
            "            (fc1): Conv2d(144, 6, kernel_size=(1, 1), stride=(1, 1))\n",
            "            (fc2): Conv2d(6, 144, kernel_size=(1, 1), stride=(1, 1))\n",
            "            (activation): SiLU(inplace=True)\n",
            "            (scale_activation): Sigmoid()\n",
            "          )\n",
            "          (3): Conv2dNormActivation(\n",
            "            (0): Conv2d(144, 24, kernel_size=(1, 1), stride=(1, 1), bias=False)\n",
            "            (1): BatchNorm2d(24, eps=1e-05, momentum=0.1, affine=True, track_running_stats=True)\n",
            "          )\n",
            "        )\n",
            "        (stochastic_depth): StochasticDepth(p=0.034782608695652174, mode=row)\n",
            "      )\n",
            "    )\n",
            "    (3): Sequential(\n",
            "      (0): MBConv(\n",
            "        (block): Sequential(\n",
            "          (0): Conv2dNormActivation(\n",
            "            (0): Conv2d(24, 144, kernel_size=(1, 1), stride=(1, 1), bias=False)\n",
            "            (1): BatchNorm2d(144, eps=1e-05, momentum=0.1, affine=True, track_running_stats=True)\n",
            "            (2): SiLU(inplace=True)\n",
            "          )\n",
            "          (1): Conv2dNormActivation(\n",
            "            (0): Conv2d(144, 144, kernel_size=(5, 5), stride=(2, 2), padding=(2, 2), groups=144, bias=False)\n",
            "            (1): BatchNorm2d(144, eps=1e-05, momentum=0.1, affine=True, track_running_stats=True)\n",
            "            (2): SiLU(inplace=True)\n",
            "          )\n",
            "          (2): SqueezeExcitation(\n",
            "            (avgpool): AdaptiveAvgPool2d(output_size=1)\n",
            "            (fc1): Conv2d(144, 6, kernel_size=(1, 1), stride=(1, 1))\n",
            "            (fc2): Conv2d(6, 144, kernel_size=(1, 1), stride=(1, 1))\n",
            "            (activation): SiLU(inplace=True)\n",
            "            (scale_activation): Sigmoid()\n",
            "          )\n",
            "          (3): Conv2dNormActivation(\n",
            "            (0): Conv2d(144, 48, kernel_size=(1, 1), stride=(1, 1), bias=False)\n",
            "            (1): BatchNorm2d(48, eps=1e-05, momentum=0.1, affine=True, track_running_stats=True)\n",
            "          )\n",
            "        )\n",
            "        (stochastic_depth): StochasticDepth(p=0.043478260869565216, mode=row)\n",
            "      )\n",
            "      (1): MBConv(\n",
            "        (block): Sequential(\n",
            "          (0): Conv2dNormActivation(\n",
            "            (0): Conv2d(48, 288, kernel_size=(1, 1), stride=(1, 1), bias=False)\n",
            "            (1): BatchNorm2d(288, eps=1e-05, momentum=0.1, affine=True, track_running_stats=True)\n",
            "            (2): SiLU(inplace=True)\n",
            "          )\n",
            "          (1): Conv2dNormActivation(\n",
            "            (0): Conv2d(288, 288, kernel_size=(5, 5), stride=(1, 1), padding=(2, 2), groups=288, bias=False)\n",
            "            (1): BatchNorm2d(288, eps=1e-05, momentum=0.1, affine=True, track_running_stats=True)\n",
            "            (2): SiLU(inplace=True)\n",
            "          )\n",
            "          (2): SqueezeExcitation(\n",
            "            (avgpool): AdaptiveAvgPool2d(output_size=1)\n",
            "            (fc1): Conv2d(288, 12, kernel_size=(1, 1), stride=(1, 1))\n",
            "            (fc2): Conv2d(12, 288, kernel_size=(1, 1), stride=(1, 1))\n",
            "            (activation): SiLU(inplace=True)\n",
            "            (scale_activation): Sigmoid()\n",
            "          )\n",
            "          (3): Conv2dNormActivation(\n",
            "            (0): Conv2d(288, 48, kernel_size=(1, 1), stride=(1, 1), bias=False)\n",
            "            (1): BatchNorm2d(48, eps=1e-05, momentum=0.1, affine=True, track_running_stats=True)\n",
            "          )\n",
            "        )\n",
            "        (stochastic_depth): StochasticDepth(p=0.05217391304347827, mode=row)\n",
            "      )\n",
            "      (2): MBConv(\n",
            "        (block): Sequential(\n",
            "          (0): Conv2dNormActivation(\n",
            "            (0): Conv2d(48, 288, kernel_size=(1, 1), stride=(1, 1), bias=False)\n",
            "            (1): BatchNorm2d(288, eps=1e-05, momentum=0.1, affine=True, track_running_stats=True)\n",
            "            (2): SiLU(inplace=True)\n",
            "          )\n",
            "          (1): Conv2dNormActivation(\n",
            "            (0): Conv2d(288, 288, kernel_size=(5, 5), stride=(1, 1), padding=(2, 2), groups=288, bias=False)\n",
            "            (1): BatchNorm2d(288, eps=1e-05, momentum=0.1, affine=True, track_running_stats=True)\n",
            "            (2): SiLU(inplace=True)\n",
            "          )\n",
            "          (2): SqueezeExcitation(\n",
            "            (avgpool): AdaptiveAvgPool2d(output_size=1)\n",
            "            (fc1): Conv2d(288, 12, kernel_size=(1, 1), stride=(1, 1))\n",
            "            (fc2): Conv2d(12, 288, kernel_size=(1, 1), stride=(1, 1))\n",
            "            (activation): SiLU(inplace=True)\n",
            "            (scale_activation): Sigmoid()\n",
            "          )\n",
            "          (3): Conv2dNormActivation(\n",
            "            (0): Conv2d(288, 48, kernel_size=(1, 1), stride=(1, 1), bias=False)\n",
            "            (1): BatchNorm2d(48, eps=1e-05, momentum=0.1, affine=True, track_running_stats=True)\n",
            "          )\n",
            "        )\n",
            "        (stochastic_depth): StochasticDepth(p=0.06086956521739131, mode=row)\n",
            "      )\n",
            "    )\n",
            "    (4): Sequential(\n",
            "      (0): MBConv(\n",
            "        (block): Sequential(\n",
            "          (0): Conv2dNormActivation(\n",
            "            (0): Conv2d(48, 288, kernel_size=(1, 1), stride=(1, 1), bias=False)\n",
            "            (1): BatchNorm2d(288, eps=1e-05, momentum=0.1, affine=True, track_running_stats=True)\n",
            "            (2): SiLU(inplace=True)\n",
            "          )\n",
            "          (1): Conv2dNormActivation(\n",
            "            (0): Conv2d(288, 288, kernel_size=(3, 3), stride=(2, 2), padding=(1, 1), groups=288, bias=False)\n",
            "            (1): BatchNorm2d(288, eps=1e-05, momentum=0.1, affine=True, track_running_stats=True)\n",
            "            (2): SiLU(inplace=True)\n",
            "          )\n",
            "          (2): SqueezeExcitation(\n",
            "            (avgpool): AdaptiveAvgPool2d(output_size=1)\n",
            "            (fc1): Conv2d(288, 12, kernel_size=(1, 1), stride=(1, 1))\n",
            "            (fc2): Conv2d(12, 288, kernel_size=(1, 1), stride=(1, 1))\n",
            "            (activation): SiLU(inplace=True)\n",
            "            (scale_activation): Sigmoid()\n",
            "          )\n",
            "          (3): Conv2dNormActivation(\n",
            "            (0): Conv2d(288, 88, kernel_size=(1, 1), stride=(1, 1), bias=False)\n",
            "            (1): BatchNorm2d(88, eps=1e-05, momentum=0.1, affine=True, track_running_stats=True)\n",
            "          )\n",
            "        )\n",
            "        (stochastic_depth): StochasticDepth(p=0.06956521739130435, mode=row)\n",
            "      )\n",
            "      (1): MBConv(\n",
            "        (block): Sequential(\n",
            "          (0): Conv2dNormActivation(\n",
            "            (0): Conv2d(88, 528, kernel_size=(1, 1), stride=(1, 1), bias=False)\n",
            "            (1): BatchNorm2d(528, eps=1e-05, momentum=0.1, affine=True, track_running_stats=True)\n",
            "            (2): SiLU(inplace=True)\n",
            "          )\n",
            "          (1): Conv2dNormActivation(\n",
            "            (0): Conv2d(528, 528, kernel_size=(3, 3), stride=(1, 1), padding=(1, 1), groups=528, bias=False)\n",
            "            (1): BatchNorm2d(528, eps=1e-05, momentum=0.1, affine=True, track_running_stats=True)\n",
            "            (2): SiLU(inplace=True)\n",
            "          )\n",
            "          (2): SqueezeExcitation(\n",
            "            (avgpool): AdaptiveAvgPool2d(output_size=1)\n",
            "            (fc1): Conv2d(528, 22, kernel_size=(1, 1), stride=(1, 1))\n",
            "            (fc2): Conv2d(22, 528, kernel_size=(1, 1), stride=(1, 1))\n",
            "            (activation): SiLU(inplace=True)\n",
            "            (scale_activation): Sigmoid()\n",
            "          )\n",
            "          (3): Conv2dNormActivation(\n",
            "            (0): Conv2d(528, 88, kernel_size=(1, 1), stride=(1, 1), bias=False)\n",
            "            (1): BatchNorm2d(88, eps=1e-05, momentum=0.1, affine=True, track_running_stats=True)\n",
            "          )\n",
            "        )\n",
            "        (stochastic_depth): StochasticDepth(p=0.0782608695652174, mode=row)\n",
            "      )\n",
            "      (2): MBConv(\n",
            "        (block): Sequential(\n",
            "          (0): Conv2dNormActivation(\n",
            "            (0): Conv2d(88, 528, kernel_size=(1, 1), stride=(1, 1), bias=False)\n",
            "            (1): BatchNorm2d(528, eps=1e-05, momentum=0.1, affine=True, track_running_stats=True)\n",
            "            (2): SiLU(inplace=True)\n",
            "          )\n",
            "          (1): Conv2dNormActivation(\n",
            "            (0): Conv2d(528, 528, kernel_size=(3, 3), stride=(1, 1), padding=(1, 1), groups=528, bias=False)\n",
            "            (1): BatchNorm2d(528, eps=1e-05, momentum=0.1, affine=True, track_running_stats=True)\n",
            "            (2): SiLU(inplace=True)\n",
            "          )\n",
            "          (2): SqueezeExcitation(\n",
            "            (avgpool): AdaptiveAvgPool2d(output_size=1)\n",
            "            (fc1): Conv2d(528, 22, kernel_size=(1, 1), stride=(1, 1))\n",
            "            (fc2): Conv2d(22, 528, kernel_size=(1, 1), stride=(1, 1))\n",
            "            (activation): SiLU(inplace=True)\n",
            "            (scale_activation): Sigmoid()\n",
            "          )\n",
            "          (3): Conv2dNormActivation(\n",
            "            (0): Conv2d(528, 88, kernel_size=(1, 1), stride=(1, 1), bias=False)\n",
            "            (1): BatchNorm2d(88, eps=1e-05, momentum=0.1, affine=True, track_running_stats=True)\n",
            "          )\n",
            "        )\n",
            "        (stochastic_depth): StochasticDepth(p=0.08695652173913043, mode=row)\n",
            "      )\n",
            "      (3): MBConv(\n",
            "        (block): Sequential(\n",
            "          (0): Conv2dNormActivation(\n",
            "            (0): Conv2d(88, 528, kernel_size=(1, 1), stride=(1, 1), bias=False)\n",
            "            (1): BatchNorm2d(528, eps=1e-05, momentum=0.1, affine=True, track_running_stats=True)\n",
            "            (2): SiLU(inplace=True)\n",
            "          )\n",
            "          (1): Conv2dNormActivation(\n",
            "            (0): Conv2d(528, 528, kernel_size=(3, 3), stride=(1, 1), padding=(1, 1), groups=528, bias=False)\n",
            "            (1): BatchNorm2d(528, eps=1e-05, momentum=0.1, affine=True, track_running_stats=True)\n",
            "            (2): SiLU(inplace=True)\n",
            "          )\n",
            "          (2): SqueezeExcitation(\n",
            "            (avgpool): AdaptiveAvgPool2d(output_size=1)\n",
            "            (fc1): Conv2d(528, 22, kernel_size=(1, 1), stride=(1, 1))\n",
            "            (fc2): Conv2d(22, 528, kernel_size=(1, 1), stride=(1, 1))\n",
            "            (activation): SiLU(inplace=True)\n",
            "            (scale_activation): Sigmoid()\n",
            "          )\n",
            "          (3): Conv2dNormActivation(\n",
            "            (0): Conv2d(528, 88, kernel_size=(1, 1), stride=(1, 1), bias=False)\n",
            "            (1): BatchNorm2d(88, eps=1e-05, momentum=0.1, affine=True, track_running_stats=True)\n",
            "          )\n",
            "        )\n",
            "        (stochastic_depth): StochasticDepth(p=0.09565217391304348, mode=row)\n",
            "      )\n",
            "    )\n",
            "    (5): Sequential(\n",
            "      (0): MBConv(\n",
            "        (block): Sequential(\n",
            "          (0): Conv2dNormActivation(\n",
            "            (0): Conv2d(88, 528, kernel_size=(1, 1), stride=(1, 1), bias=False)\n",
            "            (1): BatchNorm2d(528, eps=1e-05, momentum=0.1, affine=True, track_running_stats=True)\n",
            "            (2): SiLU(inplace=True)\n",
            "          )\n",
            "          (1): Conv2dNormActivation(\n",
            "            (0): Conv2d(528, 528, kernel_size=(5, 5), stride=(1, 1), padding=(2, 2), groups=528, bias=False)\n",
            "            (1): BatchNorm2d(528, eps=1e-05, momentum=0.1, affine=True, track_running_stats=True)\n",
            "            (2): SiLU(inplace=True)\n",
            "          )\n",
            "          (2): SqueezeExcitation(\n",
            "            (avgpool): AdaptiveAvgPool2d(output_size=1)\n",
            "            (fc1): Conv2d(528, 22, kernel_size=(1, 1), stride=(1, 1))\n",
            "            (fc2): Conv2d(22, 528, kernel_size=(1, 1), stride=(1, 1))\n",
            "            (activation): SiLU(inplace=True)\n",
            "            (scale_activation): Sigmoid()\n",
            "          )\n",
            "          (3): Conv2dNormActivation(\n",
            "            (0): Conv2d(528, 120, kernel_size=(1, 1), stride=(1, 1), bias=False)\n",
            "            (1): BatchNorm2d(120, eps=1e-05, momentum=0.1, affine=True, track_running_stats=True)\n",
            "          )\n",
            "        )\n",
            "        (stochastic_depth): StochasticDepth(p=0.10434782608695654, mode=row)\n",
            "      )\n",
            "      (1): MBConv(\n",
            "        (block): Sequential(\n",
            "          (0): Conv2dNormActivation(\n",
            "            (0): Conv2d(120, 720, kernel_size=(1, 1), stride=(1, 1), bias=False)\n",
            "            (1): BatchNorm2d(720, eps=1e-05, momentum=0.1, affine=True, track_running_stats=True)\n",
            "            (2): SiLU(inplace=True)\n",
            "          )\n",
            "          (1): Conv2dNormActivation(\n",
            "            (0): Conv2d(720, 720, kernel_size=(5, 5), stride=(1, 1), padding=(2, 2), groups=720, bias=False)\n",
            "            (1): BatchNorm2d(720, eps=1e-05, momentum=0.1, affine=True, track_running_stats=True)\n",
            "            (2): SiLU(inplace=True)\n",
            "          )\n",
            "          (2): SqueezeExcitation(\n",
            "            (avgpool): AdaptiveAvgPool2d(output_size=1)\n",
            "            (fc1): Conv2d(720, 30, kernel_size=(1, 1), stride=(1, 1))\n",
            "            (fc2): Conv2d(30, 720, kernel_size=(1, 1), stride=(1, 1))\n",
            "            (activation): SiLU(inplace=True)\n",
            "            (scale_activation): Sigmoid()\n",
            "          )\n",
            "          (3): Conv2dNormActivation(\n",
            "            (0): Conv2d(720, 120, kernel_size=(1, 1), stride=(1, 1), bias=False)\n",
            "            (1): BatchNorm2d(120, eps=1e-05, momentum=0.1, affine=True, track_running_stats=True)\n",
            "          )\n",
            "        )\n",
            "        (stochastic_depth): StochasticDepth(p=0.11304347826086956, mode=row)\n",
            "      )\n",
            "      (2): MBConv(\n",
            "        (block): Sequential(\n",
            "          (0): Conv2dNormActivation(\n",
            "            (0): Conv2d(120, 720, kernel_size=(1, 1), stride=(1, 1), bias=False)\n",
            "            (1): BatchNorm2d(720, eps=1e-05, momentum=0.1, affine=True, track_running_stats=True)\n",
            "            (2): SiLU(inplace=True)\n",
            "          )\n",
            "          (1): Conv2dNormActivation(\n",
            "            (0): Conv2d(720, 720, kernel_size=(5, 5), stride=(1, 1), padding=(2, 2), groups=720, bias=False)\n",
            "            (1): BatchNorm2d(720, eps=1e-05, momentum=0.1, affine=True, track_running_stats=True)\n",
            "            (2): SiLU(inplace=True)\n",
            "          )\n",
            "          (2): SqueezeExcitation(\n",
            "            (avgpool): AdaptiveAvgPool2d(output_size=1)\n",
            "            (fc1): Conv2d(720, 30, kernel_size=(1, 1), stride=(1, 1))\n",
            "            (fc2): Conv2d(30, 720, kernel_size=(1, 1), stride=(1, 1))\n",
            "            (activation): SiLU(inplace=True)\n",
            "            (scale_activation): Sigmoid()\n",
            "          )\n",
            "          (3): Conv2dNormActivation(\n",
            "            (0): Conv2d(720, 120, kernel_size=(1, 1), stride=(1, 1), bias=False)\n",
            "            (1): BatchNorm2d(120, eps=1e-05, momentum=0.1, affine=True, track_running_stats=True)\n",
            "          )\n",
            "        )\n",
            "        (stochastic_depth): StochasticDepth(p=0.12173913043478261, mode=row)\n",
            "      )\n",
            "      (3): MBConv(\n",
            "        (block): Sequential(\n",
            "          (0): Conv2dNormActivation(\n",
            "            (0): Conv2d(120, 720, kernel_size=(1, 1), stride=(1, 1), bias=False)\n",
            "            (1): BatchNorm2d(720, eps=1e-05, momentum=0.1, affine=True, track_running_stats=True)\n",
            "            (2): SiLU(inplace=True)\n",
            "          )\n",
            "          (1): Conv2dNormActivation(\n",
            "            (0): Conv2d(720, 720, kernel_size=(5, 5), stride=(1, 1), padding=(2, 2), groups=720, bias=False)\n",
            "            (1): BatchNorm2d(720, eps=1e-05, momentum=0.1, affine=True, track_running_stats=True)\n",
            "            (2): SiLU(inplace=True)\n",
            "          )\n",
            "          (2): SqueezeExcitation(\n",
            "            (avgpool): AdaptiveAvgPool2d(output_size=1)\n",
            "            (fc1): Conv2d(720, 30, kernel_size=(1, 1), stride=(1, 1))\n",
            "            (fc2): Conv2d(30, 720, kernel_size=(1, 1), stride=(1, 1))\n",
            "            (activation): SiLU(inplace=True)\n",
            "            (scale_activation): Sigmoid()\n",
            "          )\n",
            "          (3): Conv2dNormActivation(\n",
            "            (0): Conv2d(720, 120, kernel_size=(1, 1), stride=(1, 1), bias=False)\n",
            "            (1): BatchNorm2d(120, eps=1e-05, momentum=0.1, affine=True, track_running_stats=True)\n",
            "          )\n",
            "        )\n",
            "        (stochastic_depth): StochasticDepth(p=0.13043478260869565, mode=row)\n",
            "      )\n",
            "    )\n",
            "    (6): Sequential(\n",
            "      (0): MBConv(\n",
            "        (block): Sequential(\n",
            "          (0): Conv2dNormActivation(\n",
            "            (0): Conv2d(120, 720, kernel_size=(1, 1), stride=(1, 1), bias=False)\n",
            "            (1): BatchNorm2d(720, eps=1e-05, momentum=0.1, affine=True, track_running_stats=True)\n",
            "            (2): SiLU(inplace=True)\n",
            "          )\n",
            "          (1): Conv2dNormActivation(\n",
            "            (0): Conv2d(720, 720, kernel_size=(5, 5), stride=(2, 2), padding=(2, 2), groups=720, bias=False)\n",
            "            (1): BatchNorm2d(720, eps=1e-05, momentum=0.1, affine=True, track_running_stats=True)\n",
            "            (2): SiLU(inplace=True)\n",
            "          )\n",
            "          (2): SqueezeExcitation(\n",
            "            (avgpool): AdaptiveAvgPool2d(output_size=1)\n",
            "            (fc1): Conv2d(720, 30, kernel_size=(1, 1), stride=(1, 1))\n",
            "            (fc2): Conv2d(30, 720, kernel_size=(1, 1), stride=(1, 1))\n",
            "            (activation): SiLU(inplace=True)\n",
            "            (scale_activation): Sigmoid()\n",
            "          )\n",
            "          (3): Conv2dNormActivation(\n",
            "            (0): Conv2d(720, 208, kernel_size=(1, 1), stride=(1, 1), bias=False)\n",
            "            (1): BatchNorm2d(208, eps=1e-05, momentum=0.1, affine=True, track_running_stats=True)\n",
            "          )\n",
            "        )\n",
            "        (stochastic_depth): StochasticDepth(p=0.1391304347826087, mode=row)\n",
            "      )\n",
            "      (1): MBConv(\n",
            "        (block): Sequential(\n",
            "          (0): Conv2dNormActivation(\n",
            "            (0): Conv2d(208, 1248, kernel_size=(1, 1), stride=(1, 1), bias=False)\n",
            "            (1): BatchNorm2d(1248, eps=1e-05, momentum=0.1, affine=True, track_running_stats=True)\n",
            "            (2): SiLU(inplace=True)\n",
            "          )\n",
            "          (1): Conv2dNormActivation(\n",
            "            (0): Conv2d(1248, 1248, kernel_size=(5, 5), stride=(1, 1), padding=(2, 2), groups=1248, bias=False)\n",
            "            (1): BatchNorm2d(1248, eps=1e-05, momentum=0.1, affine=True, track_running_stats=True)\n",
            "            (2): SiLU(inplace=True)\n",
            "          )\n",
            "          (2): SqueezeExcitation(\n",
            "            (avgpool): AdaptiveAvgPool2d(output_size=1)\n",
            "            (fc1): Conv2d(1248, 52, kernel_size=(1, 1), stride=(1, 1))\n",
            "            (fc2): Conv2d(52, 1248, kernel_size=(1, 1), stride=(1, 1))\n",
            "            (activation): SiLU(inplace=True)\n",
            "            (scale_activation): Sigmoid()\n",
            "          )\n",
            "          (3): Conv2dNormActivation(\n",
            "            (0): Conv2d(1248, 208, kernel_size=(1, 1), stride=(1, 1), bias=False)\n",
            "            (1): BatchNorm2d(208, eps=1e-05, momentum=0.1, affine=True, track_running_stats=True)\n",
            "          )\n",
            "        )\n",
            "        (stochastic_depth): StochasticDepth(p=0.14782608695652175, mode=row)\n",
            "      )\n",
            "      (2): MBConv(\n",
            "        (block): Sequential(\n",
            "          (0): Conv2dNormActivation(\n",
            "            (0): Conv2d(208, 1248, kernel_size=(1, 1), stride=(1, 1), bias=False)\n",
            "            (1): BatchNorm2d(1248, eps=1e-05, momentum=0.1, affine=True, track_running_stats=True)\n",
            "            (2): SiLU(inplace=True)\n",
            "          )\n",
            "          (1): Conv2dNormActivation(\n",
            "            (0): Conv2d(1248, 1248, kernel_size=(5, 5), stride=(1, 1), padding=(2, 2), groups=1248, bias=False)\n",
            "            (1): BatchNorm2d(1248, eps=1e-05, momentum=0.1, affine=True, track_running_stats=True)\n",
            "            (2): SiLU(inplace=True)\n",
            "          )\n",
            "          (2): SqueezeExcitation(\n",
            "            (avgpool): AdaptiveAvgPool2d(output_size=1)\n",
            "            (fc1): Conv2d(1248, 52, kernel_size=(1, 1), stride=(1, 1))\n",
            "            (fc2): Conv2d(52, 1248, kernel_size=(1, 1), stride=(1, 1))\n",
            "            (activation): SiLU(inplace=True)\n",
            "            (scale_activation): Sigmoid()\n",
            "          )\n",
            "          (3): Conv2dNormActivation(\n",
            "            (0): Conv2d(1248, 208, kernel_size=(1, 1), stride=(1, 1), bias=False)\n",
            "            (1): BatchNorm2d(208, eps=1e-05, momentum=0.1, affine=True, track_running_stats=True)\n",
            "          )\n",
            "        )\n",
            "        (stochastic_depth): StochasticDepth(p=0.1565217391304348, mode=row)\n",
            "      )\n",
            "      (3): MBConv(\n",
            "        (block): Sequential(\n",
            "          (0): Conv2dNormActivation(\n",
            "            (0): Conv2d(208, 1248, kernel_size=(1, 1), stride=(1, 1), bias=False)\n",
            "            (1): BatchNorm2d(1248, eps=1e-05, momentum=0.1, affine=True, track_running_stats=True)\n",
            "            (2): SiLU(inplace=True)\n",
            "          )\n",
            "          (1): Conv2dNormActivation(\n",
            "            (0): Conv2d(1248, 1248, kernel_size=(5, 5), stride=(1, 1), padding=(2, 2), groups=1248, bias=False)\n",
            "            (1): BatchNorm2d(1248, eps=1e-05, momentum=0.1, affine=True, track_running_stats=True)\n",
            "            (2): SiLU(inplace=True)\n",
            "          )\n",
            "          (2): SqueezeExcitation(\n",
            "            (avgpool): AdaptiveAvgPool2d(output_size=1)\n",
            "            (fc1): Conv2d(1248, 52, kernel_size=(1, 1), stride=(1, 1))\n",
            "            (fc2): Conv2d(52, 1248, kernel_size=(1, 1), stride=(1, 1))\n",
            "            (activation): SiLU(inplace=True)\n",
            "            (scale_activation): Sigmoid()\n",
            "          )\n",
            "          (3): Conv2dNormActivation(\n",
            "            (0): Conv2d(1248, 208, kernel_size=(1, 1), stride=(1, 1), bias=False)\n",
            "            (1): BatchNorm2d(208, eps=1e-05, momentum=0.1, affine=True, track_running_stats=True)\n",
            "          )\n",
            "        )\n",
            "        (stochastic_depth): StochasticDepth(p=0.16521739130434784, mode=row)\n",
            "      )\n",
            "      (4): MBConv(\n",
            "        (block): Sequential(\n",
            "          (0): Conv2dNormActivation(\n",
            "            (0): Conv2d(208, 1248, kernel_size=(1, 1), stride=(1, 1), bias=False)\n",
            "            (1): BatchNorm2d(1248, eps=1e-05, momentum=0.1, affine=True, track_running_stats=True)\n",
            "            (2): SiLU(inplace=True)\n",
            "          )\n",
            "          (1): Conv2dNormActivation(\n",
            "            (0): Conv2d(1248, 1248, kernel_size=(5, 5), stride=(1, 1), padding=(2, 2), groups=1248, bias=False)\n",
            "            (1): BatchNorm2d(1248, eps=1e-05, momentum=0.1, affine=True, track_running_stats=True)\n",
            "            (2): SiLU(inplace=True)\n",
            "          )\n",
            "          (2): SqueezeExcitation(\n",
            "            (avgpool): AdaptiveAvgPool2d(output_size=1)\n",
            "            (fc1): Conv2d(1248, 52, kernel_size=(1, 1), stride=(1, 1))\n",
            "            (fc2): Conv2d(52, 1248, kernel_size=(1, 1), stride=(1, 1))\n",
            "            (activation): SiLU(inplace=True)\n",
            "            (scale_activation): Sigmoid()\n",
            "          )\n",
            "          (3): Conv2dNormActivation(\n",
            "            (0): Conv2d(1248, 208, kernel_size=(1, 1), stride=(1, 1), bias=False)\n",
            "            (1): BatchNorm2d(208, eps=1e-05, momentum=0.1, affine=True, track_running_stats=True)\n",
            "          )\n",
            "        )\n",
            "        (stochastic_depth): StochasticDepth(p=0.17391304347826086, mode=row)\n",
            "      )\n",
            "    )\n",
            "    (7): Sequential(\n",
            "      (0): MBConv(\n",
            "        (block): Sequential(\n",
            "          (0): Conv2dNormActivation(\n",
            "            (0): Conv2d(208, 1248, kernel_size=(1, 1), stride=(1, 1), bias=False)\n",
            "            (1): BatchNorm2d(1248, eps=1e-05, momentum=0.1, affine=True, track_running_stats=True)\n",
            "            (2): SiLU(inplace=True)\n",
            "          )\n",
            "          (1): Conv2dNormActivation(\n",
            "            (0): Conv2d(1248, 1248, kernel_size=(3, 3), stride=(1, 1), padding=(1, 1), groups=1248, bias=False)\n",
            "            (1): BatchNorm2d(1248, eps=1e-05, momentum=0.1, affine=True, track_running_stats=True)\n",
            "            (2): SiLU(inplace=True)\n",
            "          )\n",
            "          (2): SqueezeExcitation(\n",
            "            (avgpool): AdaptiveAvgPool2d(output_size=1)\n",
            "            (fc1): Conv2d(1248, 52, kernel_size=(1, 1), stride=(1, 1))\n",
            "            (fc2): Conv2d(52, 1248, kernel_size=(1, 1), stride=(1, 1))\n",
            "            (activation): SiLU(inplace=True)\n",
            "            (scale_activation): Sigmoid()\n",
            "          )\n",
            "          (3): Conv2dNormActivation(\n",
            "            (0): Conv2d(1248, 352, kernel_size=(1, 1), stride=(1, 1), bias=False)\n",
            "            (1): BatchNorm2d(352, eps=1e-05, momentum=0.1, affine=True, track_running_stats=True)\n",
            "          )\n",
            "        )\n",
            "        (stochastic_depth): StochasticDepth(p=0.1826086956521739, mode=row)\n",
            "      )\n",
            "      (1): MBConv(\n",
            "        (block): Sequential(\n",
            "          (0): Conv2dNormActivation(\n",
            "            (0): Conv2d(352, 2112, kernel_size=(1, 1), stride=(1, 1), bias=False)\n",
            "            (1): BatchNorm2d(2112, eps=1e-05, momentum=0.1, affine=True, track_running_stats=True)\n",
            "            (2): SiLU(inplace=True)\n",
            "          )\n",
            "          (1): Conv2dNormActivation(\n",
            "            (0): Conv2d(2112, 2112, kernel_size=(3, 3), stride=(1, 1), padding=(1, 1), groups=2112, bias=False)\n",
            "            (1): BatchNorm2d(2112, eps=1e-05, momentum=0.1, affine=True, track_running_stats=True)\n",
            "            (2): SiLU(inplace=True)\n",
            "          )\n",
            "          (2): SqueezeExcitation(\n",
            "            (avgpool): AdaptiveAvgPool2d(output_size=1)\n",
            "            (fc1): Conv2d(2112, 88, kernel_size=(1, 1), stride=(1, 1))\n",
            "            (fc2): Conv2d(88, 2112, kernel_size=(1, 1), stride=(1, 1))\n",
            "            (activation): SiLU(inplace=True)\n",
            "            (scale_activation): Sigmoid()\n",
            "          )\n",
            "          (3): Conv2dNormActivation(\n",
            "            (0): Conv2d(2112, 352, kernel_size=(1, 1), stride=(1, 1), bias=False)\n",
            "            (1): BatchNorm2d(352, eps=1e-05, momentum=0.1, affine=True, track_running_stats=True)\n",
            "          )\n",
            "        )\n",
            "        (stochastic_depth): StochasticDepth(p=0.19130434782608696, mode=row)\n",
            "      )\n",
            "    )\n",
            "    (8): Conv2dNormActivation(\n",
            "      (0): Conv2d(352, 1408, kernel_size=(1, 1), stride=(1, 1), bias=False)\n",
            "      (1): BatchNorm2d(1408, eps=1e-05, momentum=0.1, affine=True, track_running_stats=True)\n",
            "      (2): SiLU(inplace=True)\n",
            "    )\n",
            "  )\n",
            "  (avgpool): AdaptiveAvgPool2d(output_size=1)\n",
            "  (classifier): Sequential(\n",
            "    (0): Linear(in_features=1408, out_features=1000, bias=True)\n",
            "    (1): ReLU(inplace=True)\n",
            "    (2): Dropout(p=0.5, inplace=False)\n",
            "    (3): Linear(in_features=1000, out_features=4, bias=True)\n",
            "  )\n",
            ")\n"
          ]
        }
      ]
    },
    {
      "cell_type": "code",
      "source": [
        "model.to(device)\n",
        "\n",
        "best_val_acc = 0\n",
        "\n",
        "epoch = 30\n",
        "\n",
        "history_train = {\"loss\": [], \"acc\": [], \"time\": []}\n",
        "history_test = {\"loss\": [], \"acc\": [], \"time\": []}\n",
        "\n",
        "loss_criteria = nn.CrossEntropyLoss()\n",
        "\n",
        "# Optimizer\n",
        "optimizer = torch.optim.Adam(model.parameters(), lr = 0.001)\n",
        "\n",
        "# Learning Rate Scheduler\n",
        "# lr_scheduler = torch.optim.lr_scheduler.StepLR(optimizer, step_size = 5, gamma = 0.5)\n",
        "\n",
        "run_model(model, train_data_loader, val_data_loader, loss_criteria,\n",
        "          optimizer, history_train, history_test, best_val_acc,\"efficient\", epoch)"
      ],
      "metadata": {
        "colab": {
          "base_uri": "https://localhost:8080/"
        },
        "id": "28GQ-arlQONn",
        "outputId": "7c9cee7e-31fc-4248-d4ce-3cee58d15325"
      },
      "execution_count": 70,
      "outputs": [
        {
          "metadata": {
            "tags": null
          },
          "name": "stdout",
          "output_type": "stream",
          "text": [
            "\n",
            "Training........\n"
          ]
        },
        {
          "metadata": {
            "tags": null
          },
          "name": "stderr",
          "output_type": "stream",
          "text": [
            "100it [00:43,  2.32it/s]"
          ]
        },
        {
          "metadata": {
            "tags": null
          },
          "name": "stdout",
          "output_type": "stream",
          "text": [
            "\n",
            "Epoch 1\n",
            "Train Loss: 0.34002554416656494\n",
            "Train Accuracy: 87.5\n",
            "Train Time: 43.27756309509277\n",
            "\n",
            "Validating........\n"
          ]
        },
        {
          "metadata": {
            "tags": null
          },
          "name": "stderr",
          "output_type": "stream",
          "text": [
            "\n",
            "25it [00:04,  5.73it/s]\n"
          ]
        },
        {
          "metadata": {
            "tags": null
          },
          "name": "stdout",
          "output_type": "stream",
          "text": [
            "\n",
            "Epoch 1\n",
            "Val Loss: 0.08843861520290375\n",
            "Val Accuracy: 97.375\n",
            "Val Time: 4.448240518569946\n",
            "\n",
            "Training........\n"
          ]
        },
        {
          "metadata": {
            "tags": null
          },
          "name": "stderr",
          "output_type": "stream",
          "text": [
            "100it [00:43,  2.29it/s]"
          ]
        },
        {
          "metadata": {
            "tags": null
          },
          "name": "stdout",
          "output_type": "stream",
          "text": [
            "\n",
            "Epoch 2\n",
            "Train Loss: 0.30419719219207764\n",
            "Train Accuracy: 88.96875\n",
            "Train Time: 43.79468297958374\n",
            "\n",
            "Validating........\n"
          ]
        },
        {
          "metadata": {
            "tags": null
          },
          "name": "stderr",
          "output_type": "stream",
          "text": [
            "\n",
            "25it [00:05,  4.91it/s]\n"
          ]
        },
        {
          "metadata": {
            "tags": null
          },
          "name": "stdout",
          "output_type": "stream",
          "text": [
            "\n",
            "Epoch 2\n",
            "Val Loss: 0.09702145308256149\n",
            "Val Accuracy: 97.25\n",
            "Val Time: 5.1816301345825195\n",
            "\n",
            "Training........\n"
          ]
        },
        {
          "metadata": {
            "tags": null
          },
          "name": "stderr",
          "output_type": "stream",
          "text": [
            "100it [00:43,  2.32it/s]"
          ]
        },
        {
          "metadata": {
            "tags": null
          },
          "name": "stdout",
          "output_type": "stream",
          "text": [
            "\n",
            "Epoch 3\n",
            "Train Loss: 0.26486510038375854\n",
            "Train Accuracy: 89.90625\n",
            "Train Time: 43.243536949157715\n",
            "\n",
            "Validating........\n"
          ]
        },
        {
          "metadata": {
            "tags": null
          },
          "name": "stderr",
          "output_type": "stream",
          "text": [
            "\n",
            "25it [00:06,  3.86it/s]\n"
          ]
        },
        {
          "metadata": {
            "tags": null
          },
          "name": "stdout",
          "output_type": "stream",
          "text": [
            "\n",
            "Epoch 3\n",
            "Val Loss: 0.08366155624389648\n",
            "Val Accuracy: 97.5\n",
            "Val Time: 6.592865228652954\n",
            "\n",
            "Training........\n"
          ]
        },
        {
          "metadata": {
            "tags": null
          },
          "name": "stderr",
          "output_type": "stream",
          "text": [
            "100it [00:40,  2.46it/s]"
          ]
        },
        {
          "metadata": {
            "tags": null
          },
          "name": "stdout",
          "output_type": "stream",
          "text": [
            "\n",
            "Epoch 4\n",
            "Train Loss: 0.28199756145477295\n",
            "Train Accuracy: 90.03125\n",
            "Train Time: 40.78697490692139\n",
            "\n",
            "Validating........\n"
          ]
        },
        {
          "metadata": {
            "tags": null
          },
          "name": "stderr",
          "output_type": "stream",
          "text": [
            "\n",
            "25it [00:06,  3.85it/s]\n"
          ]
        },
        {
          "metadata": {
            "tags": null
          },
          "name": "stdout",
          "output_type": "stream",
          "text": [
            "\n",
            "Epoch 4\n",
            "Val Loss: 0.08033005893230438\n",
            "Val Accuracy: 97.375\n",
            "Val Time: 6.569774150848389\n",
            "\n",
            "Training........\n"
          ]
        },
        {
          "metadata": {
            "tags": null
          },
          "name": "stderr",
          "output_type": "stream",
          "text": [
            "100it [00:40,  2.45it/s]"
          ]
        },
        {
          "metadata": {
            "tags": null
          },
          "name": "stdout",
          "output_type": "stream",
          "text": [
            "\n",
            "Epoch 5\n",
            "Train Loss: 0.24766923487186432\n",
            "Train Accuracy: 90.9375\n",
            "Train Time: 40.91397023200989\n",
            "\n",
            "Validating........\n"
          ]
        },
        {
          "metadata": {
            "tags": null
          },
          "name": "stderr",
          "output_type": "stream",
          "text": [
            "\n",
            "25it [00:06,  3.98it/s]\n"
          ]
        },
        {
          "metadata": {
            "tags": null
          },
          "name": "stdout",
          "output_type": "stream",
          "text": [
            "\n",
            "Epoch 5\n",
            "Val Loss: 0.08327491581439972\n",
            "Val Accuracy: 97.25\n",
            "Val Time: 6.375880002975464\n",
            "\n",
            "Training........\n"
          ]
        },
        {
          "output_type": "stream",
          "name": "stderr",
          "text": [
            "100it [00:41,  2.39it/s]\n"
          ]
        },
        {
          "output_type": "stream",
          "name": "stdout",
          "text": [
            "\n",
            "Epoch 6\n",
            "Train Loss: 0.24218089878559113\n",
            "Train Accuracy: 90.84375\n",
            "Train Time: 42.00039982795715\n",
            "\n",
            "Validating........\n"
          ]
        },
        {
          "output_type": "stream",
          "name": "stderr",
          "text": [
            "25it [00:05,  4.96it/s]\n"
          ]
        },
        {
          "output_type": "stream",
          "name": "stdout",
          "text": [
            "\n",
            "Epoch 6\n",
            "Val Loss: 0.10065395385026932\n",
            "Val Accuracy: 96.875\n",
            "Val Time: 5.1274120807647705\n",
            "\n",
            "Training........\n"
          ]
        },
        {
          "output_type": "stream",
          "name": "stderr",
          "text": [
            "100it [00:42,  2.37it/s]"
          ]
        },
        {
          "output_type": "stream",
          "name": "stdout",
          "text": [
            "\n",
            "Epoch 7\n",
            "Train Loss: 0.24599309265613556\n",
            "Train Accuracy: 90.46875\n",
            "Train Time: 42.285900592803955\n",
            "\n",
            "Validating........\n"
          ]
        },
        {
          "output_type": "stream",
          "name": "stderr",
          "text": [
            "\n",
            "25it [00:04,  5.38it/s]\n"
          ]
        },
        {
          "output_type": "stream",
          "name": "stdout",
          "text": [
            "\n",
            "Epoch 7\n",
            "Val Loss: 0.09957583248615265\n",
            "Val Accuracy: 96.375\n",
            "Val Time: 4.759862899780273\n",
            "\n",
            "Training........\n"
          ]
        },
        {
          "output_type": "stream",
          "name": "stderr",
          "text": [
            "100it [00:42,  2.34it/s]"
          ]
        },
        {
          "output_type": "stream",
          "name": "stdout",
          "text": [
            "\n",
            "Epoch 8\n",
            "Train Loss: 0.23026734590530396\n",
            "Train Accuracy: 91.65625\n",
            "Train Time: 42.810054302215576\n",
            "\n",
            "Validating........\n"
          ]
        },
        {
          "output_type": "stream",
          "name": "stderr",
          "text": [
            "\n",
            "25it [00:04,  5.56it/s]\n"
          ]
        },
        {
          "output_type": "stream",
          "name": "stdout",
          "text": [
            "\n",
            "Epoch 8\n",
            "Val Loss: 0.07429260015487671\n",
            "Val Accuracy: 97.375\n",
            "Val Time: 4.578070878982544\n",
            "\n",
            "Training........\n"
          ]
        },
        {
          "output_type": "stream",
          "name": "stderr",
          "text": [
            "100it [00:42,  2.37it/s]"
          ]
        },
        {
          "output_type": "stream",
          "name": "stdout",
          "text": [
            "\n",
            "Epoch 9\n",
            "Train Loss: 0.228412926197052\n",
            "Train Accuracy: 91.84375\n",
            "Train Time: 42.332520723342896\n",
            "\n",
            "Validating........\n"
          ]
        },
        {
          "output_type": "stream",
          "name": "stderr",
          "text": [
            "\n",
            "25it [00:04,  5.60it/s]\n"
          ]
        },
        {
          "output_type": "stream",
          "name": "stdout",
          "text": [
            "\n",
            "Epoch 9\n",
            "Val Loss: 0.08018098771572113\n",
            "Val Accuracy: 97.5\n",
            "Val Time: 4.568779945373535\n",
            "\n",
            "Training........\n"
          ]
        },
        {
          "output_type": "stream",
          "name": "stderr",
          "text": [
            "100it [00:41,  2.38it/s]"
          ]
        },
        {
          "output_type": "stream",
          "name": "stdout",
          "text": [
            "\n",
            "Epoch 10\n",
            "Train Loss: 0.2357223480939865\n",
            "Train Accuracy: 91.125\n",
            "Train Time: 42.072298526763916\n",
            "\n",
            "Validating........\n"
          ]
        },
        {
          "output_type": "stream",
          "name": "stderr",
          "text": [
            "\n",
            "25it [00:04,  5.58it/s]\n"
          ]
        },
        {
          "output_type": "stream",
          "name": "stdout",
          "text": [
            "\n",
            "Epoch 10\n",
            "Val Loss: 0.07544665038585663\n",
            "Val Accuracy: 97.375\n",
            "Val Time: 4.563035249710083\n",
            "\n",
            "Training........\n"
          ]
        },
        {
          "output_type": "stream",
          "name": "stderr",
          "text": [
            "100it [00:42,  2.37it/s]"
          ]
        },
        {
          "output_type": "stream",
          "name": "stdout",
          "text": [
            "\n",
            "Epoch 11\n",
            "Train Loss: 0.21917635202407837\n",
            "Train Accuracy: 91.34375\n",
            "Train Time: 42.237255573272705\n",
            "\n",
            "Validating........\n"
          ]
        },
        {
          "output_type": "stream",
          "name": "stderr",
          "text": [
            "\n",
            "25it [00:04,  5.75it/s]\n"
          ]
        },
        {
          "output_type": "stream",
          "name": "stdout",
          "text": [
            "\n",
            "Epoch 11\n",
            "Val Loss: 0.074790820479393\n",
            "Val Accuracy: 97.75\n",
            "Val Time: 4.430477857589722\n",
            "\n",
            "Training........\n"
          ]
        },
        {
          "output_type": "stream",
          "name": "stderr",
          "text": [
            "100it [00:43,  2.31it/s]"
          ]
        },
        {
          "output_type": "stream",
          "name": "stdout",
          "text": [
            "\n",
            "Epoch 12\n",
            "Train Loss: 0.22772957384586334\n",
            "Train Accuracy: 91.71875\n",
            "Train Time: 43.3477737903595\n",
            "\n",
            "Validating........\n"
          ]
        },
        {
          "output_type": "stream",
          "name": "stderr",
          "text": [
            "\n",
            "25it [00:05,  4.28it/s]\n"
          ]
        },
        {
          "output_type": "stream",
          "name": "stdout",
          "text": [
            "\n",
            "Epoch 12\n",
            "Val Loss: 0.08014950156211853\n",
            "Val Accuracy: 97.375\n",
            "Val Time: 5.931278467178345\n",
            "\n",
            "Training........\n"
          ]
        },
        {
          "output_type": "stream",
          "name": "stderr",
          "text": [
            "100it [00:41,  2.43it/s]"
          ]
        },
        {
          "output_type": "stream",
          "name": "stdout",
          "text": [
            "\n",
            "Epoch 13\n",
            "Train Loss: 0.23094907402992249\n",
            "Train Accuracy: 91.375\n",
            "Train Time: 41.2877254486084\n",
            "\n",
            "Validating........\n"
          ]
        },
        {
          "output_type": "stream",
          "name": "stderr",
          "text": [
            "\n",
            "25it [00:05,  4.28it/s]\n"
          ]
        },
        {
          "output_type": "stream",
          "name": "stdout",
          "text": [
            "\n",
            "Epoch 13\n",
            "Val Loss: 0.11083316057920456\n",
            "Val Accuracy: 96.25\n",
            "Val Time: 5.9644927978515625\n",
            "\n",
            "Training........\n"
          ]
        },
        {
          "output_type": "stream",
          "name": "stderr",
          "text": [
            "100it [00:41,  2.41it/s]\n"
          ]
        },
        {
          "output_type": "stream",
          "name": "stdout",
          "text": [
            "\n",
            "Epoch 14\n",
            "Train Loss: 0.22988182306289673\n",
            "Train Accuracy: 91.375\n",
            "Train Time: 41.53474426269531\n",
            "\n",
            "Validating........\n"
          ]
        },
        {
          "output_type": "stream",
          "name": "stderr",
          "text": [
            "25it [00:04,  5.42it/s]\n"
          ]
        },
        {
          "output_type": "stream",
          "name": "stdout",
          "text": [
            "\n",
            "Epoch 14\n",
            "Val Loss: 0.0828823447227478\n",
            "Val Accuracy: 97.625\n",
            "Val Time: 4.732562780380249\n",
            "\n",
            "Training........\n"
          ]
        },
        {
          "output_type": "stream",
          "name": "stderr",
          "text": [
            "100it [00:42,  2.33it/s]"
          ]
        },
        {
          "output_type": "stream",
          "name": "stdout",
          "text": [
            "\n",
            "Epoch 15\n",
            "Train Loss: 0.19796766340732574\n",
            "Train Accuracy: 92.84375\n",
            "Train Time: 43.02164363861084\n",
            "\n",
            "Validating........\n"
          ]
        },
        {
          "output_type": "stream",
          "name": "stderr",
          "text": [
            "\n",
            "25it [00:04,  5.69it/s]\n"
          ]
        },
        {
          "output_type": "stream",
          "name": "stdout",
          "text": [
            "\n",
            "Epoch 15\n",
            "Val Loss: 0.09453413635492325\n",
            "Val Accuracy: 96.875\n",
            "Val Time: 4.479031085968018\n",
            "\n",
            "Training........\n"
          ]
        },
        {
          "output_type": "stream",
          "name": "stderr",
          "text": [
            "100it [00:42,  2.37it/s]"
          ]
        },
        {
          "output_type": "stream",
          "name": "stdout",
          "text": [
            "\n",
            "Epoch 16\n",
            "Train Loss: 0.21036039292812347\n",
            "Train Accuracy: 92.15625\n",
            "Train Time: 42.38854742050171\n",
            "\n",
            "Validating........\n"
          ]
        },
        {
          "output_type": "stream",
          "name": "stderr",
          "text": [
            "\n",
            "25it [00:04,  5.68it/s]\n"
          ]
        },
        {
          "output_type": "stream",
          "name": "stdout",
          "text": [
            "\n",
            "Epoch 16\n",
            "Val Loss: 0.08888740837574005\n",
            "Val Accuracy: 97.0\n",
            "Val Time: 4.492608547210693\n",
            "\n",
            "Training........\n"
          ]
        },
        {
          "output_type": "stream",
          "name": "stderr",
          "text": [
            "100it [00:42,  2.38it/s]"
          ]
        },
        {
          "output_type": "stream",
          "name": "stdout",
          "text": [
            "\n",
            "Epoch 17\n",
            "Train Loss: 0.187362402677536\n",
            "Train Accuracy: 93.09375\n",
            "Train Time: 42.16320753097534\n",
            "\n",
            "Validating........\n"
          ]
        },
        {
          "output_type": "stream",
          "name": "stderr",
          "text": [
            "\n",
            "25it [00:04,  5.64it/s]\n"
          ]
        },
        {
          "output_type": "stream",
          "name": "stdout",
          "text": [
            "\n",
            "Epoch 17\n",
            "Val Loss: 0.09415283799171448\n",
            "Val Accuracy: 97.25\n",
            "Val Time: 4.511898994445801\n",
            "\n",
            "Training........\n"
          ]
        },
        {
          "output_type": "stream",
          "name": "stderr",
          "text": [
            "100it [00:41,  2.40it/s]"
          ]
        },
        {
          "output_type": "stream",
          "name": "stdout",
          "text": [
            "\n",
            "Epoch 18\n",
            "Train Loss: 0.2210860699415207\n",
            "Train Accuracy: 92.3125\n",
            "Train Time: 41.85208868980408\n",
            "\n",
            "Validating........\n"
          ]
        },
        {
          "output_type": "stream",
          "name": "stderr",
          "text": [
            "\n",
            "25it [00:04,  5.58it/s]\n"
          ]
        },
        {
          "output_type": "stream",
          "name": "stdout",
          "text": [
            "\n",
            "Epoch 18\n",
            "Val Loss: 0.08849243074655533\n",
            "Val Accuracy: 97.125\n",
            "Val Time: 4.567837476730347\n",
            "\n",
            "Training........\n"
          ]
        },
        {
          "output_type": "stream",
          "name": "stderr",
          "text": [
            "100it [00:42,  2.37it/s]"
          ]
        },
        {
          "output_type": "stream",
          "name": "stdout",
          "text": [
            "\n",
            "Epoch 19\n",
            "Train Loss: 0.200832799077034\n",
            "Train Accuracy: 92.65625\n",
            "Train Time: 42.359095335006714\n",
            "\n",
            "Validating........\n"
          ]
        },
        {
          "output_type": "stream",
          "name": "stderr",
          "text": [
            "\n",
            "25it [00:04,  5.03it/s]\n"
          ]
        },
        {
          "output_type": "stream",
          "name": "stdout",
          "text": [
            "\n",
            "Epoch 19\n",
            "Val Loss: 0.08621858805418015\n",
            "Val Accuracy: 97.125\n",
            "Val Time: 5.062641620635986\n",
            "\n",
            "Training........\n"
          ]
        },
        {
          "output_type": "stream",
          "name": "stderr",
          "text": [
            "100it [00:41,  2.44it/s]"
          ]
        },
        {
          "output_type": "stream",
          "name": "stdout",
          "text": [
            "\n",
            "Epoch 20\n",
            "Train Loss: 0.21592594683170319\n",
            "Train Accuracy: 92.09375\n",
            "Train Time: 41.15398693084717\n",
            "\n",
            "Validating........\n"
          ]
        },
        {
          "output_type": "stream",
          "name": "stderr",
          "text": [
            "\n",
            "25it [00:05,  4.68it/s]\n"
          ]
        },
        {
          "output_type": "stream",
          "name": "stdout",
          "text": [
            "\n",
            "Epoch 20\n",
            "Val Loss: 0.08934856206178665\n",
            "Val Accuracy: 97.25\n",
            "Val Time: 5.433866024017334\n",
            "\n",
            "Training........\n"
          ]
        },
        {
          "output_type": "stream",
          "name": "stderr",
          "text": [
            "100it [00:39,  2.53it/s]"
          ]
        },
        {
          "output_type": "stream",
          "name": "stdout",
          "text": [
            "\n",
            "Epoch 21\n",
            "Train Loss: 0.18410047888755798\n",
            "Train Accuracy: 93.0625\n",
            "Train Time: 39.63923764228821\n",
            "\n",
            "Validating........\n"
          ]
        },
        {
          "output_type": "stream",
          "name": "stderr",
          "text": [
            "\n",
            "25it [00:06,  3.83it/s]\n"
          ]
        },
        {
          "output_type": "stream",
          "name": "stdout",
          "text": [
            "\n",
            "Epoch 21\n",
            "Val Loss: 0.12183205783367157\n",
            "Val Accuracy: 96.5\n",
            "Val Time: 6.608523845672607\n",
            "\n",
            "Training........\n"
          ]
        },
        {
          "output_type": "stream",
          "name": "stderr",
          "text": [
            "100it [00:39,  2.54it/s]"
          ]
        },
        {
          "output_type": "stream",
          "name": "stdout",
          "text": [
            "\n",
            "Epoch 22\n",
            "Train Loss: 0.2164117842912674\n",
            "Train Accuracy: 91.71875\n",
            "Train Time: 39.51457333564758\n",
            "\n",
            "Validating........\n"
          ]
        },
        {
          "output_type": "stream",
          "name": "stderr",
          "text": [
            "\n",
            "25it [00:06,  4.04it/s]\n"
          ]
        },
        {
          "output_type": "stream",
          "name": "stdout",
          "text": [
            "\n",
            "Epoch 22\n",
            "Val Loss: 0.11701932549476624\n",
            "Val Accuracy: 96.0\n",
            "Val Time: 6.2748353481292725\n",
            "\n",
            "Training........\n"
          ]
        },
        {
          "output_type": "stream",
          "name": "stderr",
          "text": [
            "100it [00:39,  2.51it/s]"
          ]
        },
        {
          "output_type": "stream",
          "name": "stdout",
          "text": [
            "\n",
            "Epoch 23\n",
            "Train Loss: 0.19889497756958008\n",
            "Train Accuracy: 92.46875\n",
            "Train Time: 39.90382409095764\n",
            "\n",
            "Validating........\n"
          ]
        },
        {
          "output_type": "stream",
          "name": "stderr",
          "text": [
            "\n",
            "25it [00:05,  4.21it/s]\n"
          ]
        },
        {
          "output_type": "stream",
          "name": "stdout",
          "text": [
            "\n",
            "Epoch 23\n",
            "Val Loss: 0.09463013708591461\n",
            "Val Accuracy: 97.125\n",
            "Val Time: 6.069288492202759\n",
            "\n",
            "Training........\n"
          ]
        },
        {
          "output_type": "stream",
          "name": "stderr",
          "text": [
            "100it [00:40,  2.50it/s]"
          ]
        },
        {
          "output_type": "stream",
          "name": "stdout",
          "text": [
            "\n",
            "Epoch 24\n",
            "Train Loss: 0.19473101198673248\n",
            "Train Accuracy: 92.5625\n",
            "Train Time: 40.14108371734619\n",
            "\n",
            "Validating........\n"
          ]
        },
        {
          "output_type": "stream",
          "name": "stderr",
          "text": [
            "\n",
            "25it [00:05,  4.35it/s]\n"
          ]
        },
        {
          "output_type": "stream",
          "name": "stdout",
          "text": [
            "\n",
            "Epoch 24\n",
            "Val Loss: 0.0891738161444664\n",
            "Val Accuracy: 97.0\n",
            "Val Time: 5.848332405090332\n",
            "\n",
            "Training........\n"
          ]
        },
        {
          "output_type": "stream",
          "name": "stderr",
          "text": [
            "100it [00:41,  2.44it/s]\n"
          ]
        },
        {
          "output_type": "stream",
          "name": "stdout",
          "text": [
            "\n",
            "Epoch 25\n",
            "Train Loss: 0.18929187953472137\n",
            "Train Accuracy: 92.75\n",
            "Train Time: 41.13524627685547\n",
            "\n",
            "Validating........\n"
          ]
        },
        {
          "output_type": "stream",
          "name": "stderr",
          "text": [
            "25it [00:04,  5.52it/s]\n"
          ]
        },
        {
          "output_type": "stream",
          "name": "stdout",
          "text": [
            "\n",
            "Epoch 25\n",
            "Val Loss: 0.08584577590227127\n",
            "Val Accuracy: 97.125\n",
            "Val Time: 4.659701824188232\n",
            "\n",
            "Training........\n"
          ]
        },
        {
          "output_type": "stream",
          "name": "stderr",
          "text": [
            "100it [00:42,  2.37it/s]"
          ]
        },
        {
          "output_type": "stream",
          "name": "stdout",
          "text": [
            "\n",
            "Epoch 26\n",
            "Train Loss: 0.19110538065433502\n",
            "Train Accuracy: 92.96875\n",
            "Train Time: 42.22578811645508\n",
            "\n",
            "Validating........\n"
          ]
        },
        {
          "output_type": "stream",
          "name": "stderr",
          "text": [
            "\n",
            "25it [00:04,  5.89it/s]\n"
          ]
        },
        {
          "output_type": "stream",
          "name": "stdout",
          "text": [
            "\n",
            "Epoch 26\n",
            "Val Loss: 0.09123675525188446\n",
            "Val Accuracy: 97.375\n",
            "Val Time: 4.328125\n",
            "\n",
            "Training........\n"
          ]
        },
        {
          "output_type": "stream",
          "name": "stderr",
          "text": [
            "100it [00:41,  2.40it/s]"
          ]
        },
        {
          "output_type": "stream",
          "name": "stdout",
          "text": [
            "\n",
            "Epoch 27\n",
            "Train Loss: 0.1782265603542328\n",
            "Train Accuracy: 93.53125\n",
            "Train Time: 41.80831003189087\n",
            "\n",
            "Validating........\n"
          ]
        },
        {
          "output_type": "stream",
          "name": "stderr",
          "text": [
            "\n",
            "25it [00:04,  5.65it/s]\n"
          ]
        },
        {
          "output_type": "stream",
          "name": "stdout",
          "text": [
            "\n",
            "Epoch 27\n",
            "Val Loss: 0.08232828229665756\n",
            "Val Accuracy: 97.5\n",
            "Val Time: 4.515134811401367\n",
            "\n",
            "Training........\n"
          ]
        },
        {
          "output_type": "stream",
          "name": "stderr",
          "text": [
            "100it [00:42,  2.36it/s]"
          ]
        },
        {
          "output_type": "stream",
          "name": "stdout",
          "text": [
            "\n",
            "Epoch 28\n",
            "Train Loss: 0.18217214941978455\n",
            "Train Accuracy: 92.875\n",
            "Train Time: 42.557302951812744\n",
            "\n",
            "Validating........\n"
          ]
        },
        {
          "output_type": "stream",
          "name": "stderr",
          "text": [
            "\n",
            "25it [00:04,  5.72it/s]\n"
          ]
        },
        {
          "output_type": "stream",
          "name": "stdout",
          "text": [
            "\n",
            "Epoch 28\n",
            "Val Loss: 0.09581694006919861\n",
            "Val Accuracy: 97.0\n",
            "Val Time: 4.458382606506348\n",
            "\n",
            "Training........\n"
          ]
        },
        {
          "output_type": "stream",
          "name": "stderr",
          "text": [
            "100it [00:42,  2.38it/s]"
          ]
        },
        {
          "output_type": "stream",
          "name": "stdout",
          "text": [
            "\n",
            "Epoch 29\n",
            "Train Loss: 0.2128722071647644\n",
            "Train Accuracy: 92.15625\n",
            "Train Time: 42.156980991363525\n",
            "\n",
            "Validating........\n"
          ]
        },
        {
          "output_type": "stream",
          "name": "stderr",
          "text": [
            "\n",
            "25it [00:04,  5.67it/s]\n"
          ]
        },
        {
          "output_type": "stream",
          "name": "stdout",
          "text": [
            "\n",
            "Epoch 29\n",
            "Val Loss: 0.0771852657198906\n",
            "Val Accuracy: 97.25\n",
            "Val Time: 4.494393825531006\n",
            "\n",
            "Training........\n"
          ]
        },
        {
          "output_type": "stream",
          "name": "stderr",
          "text": [
            "100it [00:41,  2.38it/s]"
          ]
        },
        {
          "output_type": "stream",
          "name": "stdout",
          "text": [
            "\n",
            "Epoch 30\n",
            "Train Loss: 0.1895102709531784\n",
            "Train Accuracy: 92.9375\n",
            "Train Time: 42.11519646644592\n",
            "\n",
            "Validating........\n"
          ]
        },
        {
          "output_type": "stream",
          "name": "stderr",
          "text": [
            "\n",
            "25it [00:04,  5.64it/s]\n"
          ]
        },
        {
          "output_type": "stream",
          "name": "stdout",
          "text": [
            "\n",
            "Epoch 30\n",
            "Val Loss: 0.1132294088602066\n",
            "Val Accuracy: 96.125\n",
            "Val Time: 4.5133702754974365\n"
          ]
        }
      ]
    },
    {
      "cell_type": "code",
      "source": [
        "import torch\n",
        "model.load_state_dict(torch.load(\"my_model.pth\", map_location=torch.device('cpu')))\n",
        "\n",
        "# model_load = torch.load(\"my_model.pth\",map_location=torch.device('cpu') )\n",
        "img_name = []\n",
        "def predict_image(model,test_data_loader):\n",
        "    # Đảm bảo rằng mô hình ở chế độ đánh giá\n",
        "    model.eval()\n",
        "    ans = []\n",
        "    with torch.no_grad():\n",
        "        # Dự đoán\n",
        "        for img, image_name in test_data_loader:\n",
        "            pred = model(img)\n",
        "        # Lấy nhãn với xác suất cao nhất\n",
        "            pred = torch.argmax(pred, dim=1)\n",
        "            # So sánh nhãn dự đoán với nhãn thực tế\n",
        "            ans.append(pred.item())\n",
        "            img_name.append(image_name)\n",
        "            # return pred, image_name\n",
        "    return ans, img_name\n",
        "\n",
        "# Ví dụ dự đoán cho một hình ảnh\n",
        "predicted_label, img_name = predict_image(model, test_data_loader)\n",
        "# print(f\"Image: {image_name}, Predicted Label: {predicted_label}\")\n",
        "print(predicted_label)\n",
        "print(img_name)"
      ],
      "metadata": {
        "colab": {
          "base_uri": "https://localhost:8080/"
        },
        "id": "uKkneeWJiz_a",
        "outputId": "cc43198e-df38-4a86-ce65-7bd48ed35f8c"
      },
      "execution_count": 33,
      "outputs": [
        {
          "output_type": "stream",
          "name": "stdout",
          "text": [
            "[2, 0, 0, 1, 0, 1, 0, 2, 3, 1, 3, 3, 3, 0, 3, 1, 2, 1, 1, 1, 3, 2, 1, 2, 0, 0, 3, 1, 2, 2, 0, 3, 1, 3, 0, 3, 1, 2, 2, 0, 1, 1, 2, 0, 1, 1, 1, 2, 1, 0, 1, 0, 0, 3, 2, 0, 3, 1, 1, 3, 2, 2, 1, 3, 3, 3, 3, 3, 2, 2, 1, 1, 0, 2, 1, 3, 1, 0, 1, 3, 3, 2, 3, 3, 2, 1, 0, 3, 3, 2, 0, 3, 0, 2, 2, 2, 1, 1, 1, 2, 1, 3, 0, 0, 2, 0, 0, 3, 0, 2, 1, 3, 0, 1, 0, 1, 3, 1, 2, 3, 1, 3, 0, 3, 2, 3, 2, 2, 3, 3, 1, 3, 3, 0, 1, 3, 3, 2, 3, 0, 0, 1, 3, 3, 3, 3, 3, 0, 1, 3, 3, 2, 2, 0, 0, 0, 1, 0, 1, 2, 3, 3, 2, 1, 1, 1, 0, 0, 1, 2, 3, 1, 2, 3, 1, 3, 1, 2, 2, 2, 0, 2, 3, 0, 0, 2, 2, 0, 2, 3, 1, 3, 1, 1, 1, 3, 0, 1, 2, 2, 2, 0, 0, 2, 0, 3, 0, 2, 1, 1, 2, 1, 2, 1, 3, 0, 3, 2, 0, 1, 3, 0, 3, 0, 0, 2, 0, 1, 0, 0, 1, 1, 2, 1, 1, 3, 0, 1, 3, 0, 1, 2, 2, 1, 2, 0, 1, 0, 2, 3, 3, 0, 1, 0, 3, 2, 3, 2, 1, 1, 3, 3, 0, 2, 1, 3, 2, 0, 0, 1, 3, 2, 0, 2, 0, 0, 1, 0, 3, 0, 0, 0, 0, 3, 0, 1, 1, 0, 1, 0, 2, 3, 1, 0, 2, 2, 3, 3, 1, 0, 0, 2, 3, 0, 2, 1, 3, 0, 3, 1, 1, 0, 0, 1, 3, 2, 3, 3, 3, 1, 1, 1, 1, 0, 0, 2, 3, 2, 0, 2, 1, 2, 2, 0, 3, 2, 2, 0, 3, 1, 0, 3, 3, 3, 0, 2, 1, 1, 3, 2, 3, 0, 2, 0, 2, 1, 3, 2, 3, 2, 2, 0, 0, 0, 1, 3, 2, 3, 0, 2, 2, 0, 1, 0, 1, 1, 3, 1, 2, 3, 0, 0, 1, 2, 0, 0, 0, 1, 0, 0, 0, 2, 2, 2, 3, 1, 3, 2, 1, 3, 1, 3, 0, 3, 2, 0, 2, 2, 2, 0, 2, 2, 0, 3, 3, 2, 3, 3, 2, 0, 3, 2, 1, 3, 0, 2, 2, 2, 3, 1, 2, 2, 2, 0, 0, 1, 1, 2, 1, 0, 3, 2, 0, 1, 3, 3, 0, 0, 1, 1, 0, 3, 3, 3, 0, 0, 2, 2, 2, 2, 2, 3, 1, 0, 2, 0, 0, 2, 1, 1, 1, 1, 2, 2, 0, 0, 1, 2, 1, 3, 3, 0, 0, 0, 1, 0, 0, 2, 1, 1, 3, 3, 1, 1, 0, 3, 3, 0, 1, 2, 1, 2, 0, 1, 2, 0, 2, 3, 2, 1, 3, 3, 0, 1, 1, 0, 1, 3, 2, 0, 1, 2, 3, 1, 3, 1, 3, 1, 1, 2, 1, 3, 0, 2, 0, 0, 0, 0, 2, 2, 2, 1, 1, 0, 0, 1, 1, 0, 3, 3, 3, 3, 1, 3, 2, 3, 3, 1, 3, 2, 1, 2, 0, 0, 3, 1, 0, 3, 1, 0, 0, 3, 0, 2, 1, 2, 0, 3, 1, 0, 2, 1, 2, 0, 1, 0, 0, 2, 1, 1, 3, 2, 3, 1, 0, 3, 3, 0, 3, 2, 0, 0, 0, 1, 2, 2, 1, 3, 2, 1, 1, 0, 2, 0, 1, 1, 0, 0, 2, 3, 2, 3, 0, 1, 0, 1, 1, 1, 3, 0, 1, 3, 0, 3, 3, 2, 0, 1, 0, 0, 3, 0, 2, 1, 2, 1, 0, 1, 2, 2, 2, 0, 3, 0, 1, 3, 3, 3, 3, 1, 3, 1, 2, 2, 1, 1, 0, 2, 2, 1, 1, 1, 0, 3, 0, 3, 2, 2, 3, 3, 1, 1, 3, 1, 1, 2, 0, 0, 1, 1, 2, 3, 3, 1, 1, 0, 1, 0, 0, 1, 3, 3, 2, 1, 0, 0, 1, 0, 0, 1, 3, 3, 2, 1, 2, 1, 2, 0, 2, 2, 2, 3, 3, 1, 1, 0, 3, 2, 3, 0, 3, 1, 2, 1, 0, 1, 3, 0, 1, 2, 0, 3, 2, 0, 0, 2, 3, 2, 0, 2, 1, 0, 3, 0, 2, 0, 3, 3, 2, 3, 2, 0, 0, 2, 1, 1, 1, 1, 3, 3, 2, 0, 1, 2, 0, 0, 2, 2, 3, 2, 3, 0, 1, 1, 1, 1, 0, 2, 2, 1, 3, 3, 1, 2, 0, 3, 1, 3, 2, 2, 2, 1, 3, 3, 0, 3, 1, 0, 0, 2, 3, 1, 2, 2, 2, 2, 3, 1, 2, 1, 3, 0, 1, 0, 1, 3, 3, 0, 1, 3, 3, 1, 2, 3, 0, 1, 0, 0, 3, 1, 1, 2, 3, 3, 3, 1, 3, 2, 2, 1, 0, 0, 1, 1, 3, 1, 2, 2, 1, 3, 1, 1, 3, 2, 3, 0, 0, 0, 3, 2, 1, 1, 2, 3, 2, 2, 0, 0, 3, 1, 2, 1, 2, 1, 2, 3, 1, 3, 1, 1, 3, 2, 2, 2, 3, 0, 0, 3, 0, 0, 2, 3, 2, 1, 0, 3, 1, 3, 0, 0, 3, 1, 0, 3, 3, 1, 3, 3, 2, 3, 2, 1, 2, 1, 0, 2, 3, 0, 3, 2, 0, 2, 0, 1, 0, 0, 2, 1, 3, 1, 2, 1, 3, 1, 1, 2, 2, 2, 3, 3, 2, 2, 1, 0, 3, 3, 3, 0, 1, 3, 3, 2, 3, 3, 1, 3, 0, 0, 0, 2, 1, 0, 2, 1, 0, 1, 3, 1, 2, 0, 0, 0, 1, 3, 3, 3, 0, 2, 2, 3, 1, 2, 1, 3, 1, 2, 2, 0, 0, 1, 1, 3, 0, 1, 2, 0, 1, 2, 0, 1, 2, 3, 0, 2, 1, 0, 2, 2, 1, 0, 0, 2, 2, 1, 1, 1, 1, 2, 0, 0, 1, 0, 3, 1, 2, 2, 3, 1, 2, 0, 1, 1, 0, 2, 2, 1, 0, 0, 3, 1, 1, 0, 0, 0, 3, 3, 2, 2, 3, 2, 3, 2, 0, 2, 3, 1, 2, 0, 0, 0, 2, 0, 3, 3, 1, 0, 3, 2, 3, 1, 3, 0]\n",
            "[('data/modia/test/test/4047.jpg',), ('data/modia/test/test/4106.jpg',), ('data/modia/test/test/4675.jpg',), ('data/modia/test/test/4785.jpg',), ('data/modia/test/test/4683.jpg',), ('data/modia/test/test/4208.jpg',), ('data/modia/test/test/4789.jpg',), ('data/modia/test/test/4211.jpg',), ('data/modia/test/test/4829.jpg',), ('data/modia/test/test/4702.jpg',), ('data/modia/test/test/4793.jpg',), ('data/modia/test/test/4088.jpg',), ('data/modia/test/test/4881.jpg',), ('data/modia/test/test/4497.jpg',), ('data/modia/test/test/4760.jpg',), ('data/modia/test/test/4312.jpg',), ('data/modia/test/test/4860.jpg',), ('data/modia/test/test/4619.jpg',), ('data/modia/test/test/4781.jpg',), ('data/modia/test/test/4271.jpg',), ('data/modia/test/test/4404.jpg',), ('data/modia/test/test/4186.jpg',), ('data/modia/test/test/4042.jpg',), ('data/modia/test/test/4071.jpg',), ('data/modia/test/test/4395.jpg',), ('data/modia/test/test/4140.jpg',), ('data/modia/test/test/4126.jpg',), ('data/modia/test/test/4245.jpg',), ('data/modia/test/test/4321.jpg',), ('data/modia/test/test/4845.jpg',), ('data/modia/test/test/4386.jpg',), ('data/modia/test/test/4240.jpg',), ('data/modia/test/test/4751.jpg',), ('data/modia/test/test/4477.jpg',), ('data/modia/test/test/4765.jpg',), ('data/modia/test/test/4539.jpg',), ('data/modia/test/test/4576.jpg',), ('data/modia/test/test/4739.jpg',), ('data/modia/test/test/4380.jpg',), ('data/modia/test/test/4388.jpg',), ('data/modia/test/test/4247.jpg',), ('data/modia/test/test/4718.jpg',), ('data/modia/test/test/4443.jpg',), ('data/modia/test/test/4223.jpg',), ('data/modia/test/test/4435.jpg',), ('data/modia/test/test/4847.jpg',), ('data/modia/test/test/4601.jpg',), ('data/modia/test/test/4699.jpg',), ('data/modia/test/test/4828.jpg',), ('data/modia/test/test/4461.jpg',), ('data/modia/test/test/4613.jpg',), ('data/modia/test/test/4095.jpg',), ('data/modia/test/test/4519.jpg',), ('data/modia/test/test/4355.jpg',), ('data/modia/test/test/4387.jpg',), ('data/modia/test/test/4454.jpg',), ('data/modia/test/test/4061.jpg',), ('data/modia/test/test/4057.jpg',), ('data/modia/test/test/4070.jpg',), ('data/modia/test/test/4347.jpg',), ('data/modia/test/test/4022.jpg',), ('data/modia/test/test/4691.jpg',), ('data/modia/test/test/4803.jpg',), ('data/modia/test/test/4548.jpg',), ('data/modia/test/test/4504.jpg',), ('data/modia/test/test/4281.jpg',), ('data/modia/test/test/4058.jpg',), ('data/modia/test/test/4170.jpg',), ('data/modia/test/test/4569.jpg',), ('data/modia/test/test/4193.jpg',), ('data/modia/test/test/4607.jpg',), ('data/modia/test/test/4732.jpg',), ('data/modia/test/test/4394.jpg',), ('data/modia/test/test/4438.jpg',), ('data/modia/test/test/4635.jpg',), ('data/modia/test/test/4528.jpg',), ('data/modia/test/test/4268.jpg',), ('data/modia/test/test/4750.jpg',), ('data/modia/test/test/4837.jpg',), ('data/modia/test/test/4152.jpg',), ('data/modia/test/test/4266.jpg',), ('data/modia/test/test/4893.jpg',), ('data/modia/test/test/4275.jpg',), ('data/modia/test/test/4206.jpg',), ('data/modia/test/test/4260.jpg',), ('data/modia/test/test/4574.jpg',), ('data/modia/test/test/4107.jpg',), ('data/modia/test/test/4874.jpg',), ('data/modia/test/test/4203.jpg',), ('data/modia/test/test/4210.jpg',), ('data/modia/test/test/4462.jpg',), ('data/modia/test/test/4239.jpg',), ('data/modia/test/test/4377.jpg',), ('data/modia/test/test/4749.jpg',), ('data/modia/test/test/4706.jpg',), ('data/modia/test/test/4081.jpg',), ('data/modia/test/test/4480.jpg',), ('data/modia/test/test/4875.jpg',), ('data/modia/test/test/4316.jpg',), ('data/modia/test/test/4026.jpg',), ('data/modia/test/test/4407.jpg',), ('data/modia/test/test/4111.jpg',), ('data/modia/test/test/4399.jpg',), ('data/modia/test/test/4391.jpg',), ('data/modia/test/test/4468.jpg',), ('data/modia/test/test/4330.jpg',), ('data/modia/test/test/4003.jpg',), ('data/modia/test/test/4647.jpg',), ('data/modia/test/test/4412.jpg',), ('data/modia/test/test/4383.jpg',), ('data/modia/test/test/4535.jpg',), ('data/modia/test/test/4328.jpg',), ('data/modia/test/test/4256.jpg',), ('data/modia/test/test/4819.jpg',), ('data/modia/test/test/4287.jpg',), ('data/modia/test/test/4322.jpg',), ('data/modia/test/test/4758.jpg',), ('data/modia/test/test/4615.jpg',), ('data/modia/test/test/4430.jpg',), ('data/modia/test/test/4606.jpg',), ('data/modia/test/test/4740.jpg',), ('data/modia/test/test/4759.jpg',), ('data/modia/test/test/4101.jpg',), ('data/modia/test/test/4838.jpg',), ('data/modia/test/test/4303.jpg',), ('data/modia/test/test/4017.jpg',), ('data/modia/test/test/4806.jpg',), ('data/modia/test/test/4560.jpg',), ('data/modia/test/test/4238.jpg',), ('data/modia/test/test/4882.jpg',), ('data/modia/test/test/4436.jpg',), ('data/modia/test/test/4230.jpg',), ('data/modia/test/test/4372.jpg',), ('data/modia/test/test/4302.jpg',), ('data/modia/test/test/4832.jpg',), ('data/modia/test/test/4248.jpg',), ('data/modia/test/test/4008.jpg',), ('data/modia/test/test/4841.jpg',), ('data/modia/test/test/4754.jpg',), ('data/modia/test/test/4738.jpg',), ('data/modia/test/test/4533.jpg',), ('data/modia/test/test/4848.jpg',), ('data/modia/test/test/4873.jpg',), ('data/modia/test/test/4080.jpg',), ('data/modia/test/test/4470.jpg',), ('data/modia/test/test/4143.jpg',), ('data/modia/test/test/4794.jpg',), ('data/modia/test/test/4595.jpg',), ('data/modia/test/test/4118.jpg',), ('data/modia/test/test/4075.jpg',), ('data/modia/test/test/4712.jpg',), ('data/modia/test/test/4004.jpg',), ('data/modia/test/test/4543.jpg',), ('data/modia/test/test/4668.jpg',), ('data/modia/test/test/4045.jpg',), ('data/modia/test/test/4586.jpg',), ('data/modia/test/test/4168.jpg',), ('data/modia/test/test/4227.jpg',), ('data/modia/test/test/4306.jpg',), ('data/modia/test/test/4137.jpg',), ('data/modia/test/test/4158.jpg',), ('data/modia/test/test/4743.jpg',), ('data/modia/test/test/4770.jpg',), ('data/modia/test/test/4634.jpg',), ('data/modia/test/test/4225.jpg',), ('data/modia/test/test/4557.jpg',), ('data/modia/test/test/4142.jpg',), ('data/modia/test/test/4114.jpg',), ('data/modia/test/test/4816.jpg',), ('data/modia/test/test/4424.jpg',), ('data/modia/test/test/4734.jpg',), ('data/modia/test/test/4437.jpg',), ('data/modia/test/test/4682.jpg',), ('data/modia/test/test/4505.jpg',), ('data/modia/test/test/4466.jpg',), ('data/modia/test/test/4121.jpg',), ('data/modia/test/test/4123.jpg',), ('data/modia/test/test/4059.jpg',), ('data/modia/test/test/4276.jpg',), ('data/modia/test/test/4822.jpg',), ('data/modia/test/test/4536.jpg',), ('data/modia/test/test/4129.jpg',), ('data/modia/test/test/4156.jpg',), ('data/modia/test/test/4582.jpg',), ('data/modia/test/test/4160.jpg',), ('data/modia/test/test/4009.jpg',), ('data/modia/test/test/4612.jpg',), ('data/modia/test/test/4811.jpg',), ('data/modia/test/test/4709.jpg',), ('data/modia/test/test/4521.jpg',), ('data/modia/test/test/4537.jpg',), ('data/modia/test/test/4764.jpg',), ('data/modia/test/test/4551.jpg',), ('data/modia/test/test/4068.jpg',), ('data/modia/test/test/4270.jpg',), ('data/modia/test/test/4853.jpg',), ('data/modia/test/test/4290.jpg',), ('data/modia/test/test/4604.jpg',), ('data/modia/test/test/4783.jpg',), ('data/modia/test/test/4562.jpg',), ('data/modia/test/test/4464.jpg',), ('data/modia/test/test/4027.jpg',), ('data/modia/test/test/4812.jpg',), ('data/modia/test/test/4825.jpg',), ('data/modia/test/test/4507.jpg',), ('data/modia/test/test/4796.jpg',), ('data/modia/test/test/4307.jpg',), ('data/modia/test/test/4703.jpg',), ('data/modia/test/test/4567.jpg',), ('data/modia/test/test/4599.jpg',), ('data/modia/test/test/4181.jpg',), ('data/modia/test/test/4134.jpg',), ('data/modia/test/test/4207.jpg',), ('data/modia/test/test/4254.jpg',), ('data/modia/test/test/4695.jpg',), ('data/modia/test/test/4151.jpg',), ('data/modia/test/test/4115.jpg',), ('data/modia/test/test/4194.jpg',), ('data/modia/test/test/4815.jpg',), ('data/modia/test/test/4418.jpg',), ('data/modia/test/test/4493.jpg',), ('data/modia/test/test/4043.jpg',), ('data/modia/test/test/4736.jpg',), ('data/modia/test/test/4015.jpg',), ('data/modia/test/test/4253.jpg',), ('data/modia/test/test/4218.jpg',), ('data/modia/test/test/4175.jpg',), ('data/modia/test/test/4588.jpg',), ('data/modia/test/test/4016.jpg',), ('data/modia/test/test/4364.jpg',), ('data/modia/test/test/4640.jpg',), ('data/modia/test/test/4692.jpg',), ('data/modia/test/test/4147.jpg',), ('data/modia/test/test/4419.jpg',), ('data/modia/test/test/4249.jpg',), ('data/modia/test/test/4590.jpg',), ('data/modia/test/test/4479.jpg',), ('data/modia/test/test/4310.jpg',), ('data/modia/test/test/4184.jpg',), ('data/modia/test/test/4591.jpg',), ('data/modia/test/test/4555.jpg',), ('data/modia/test/test/4448.jpg',), ('data/modia/test/test/4285.jpg',), ('data/modia/test/test/4089.jpg',), ('data/modia/test/test/4161.jpg',), ('data/modia/test/test/4204.jpg',), ('data/modia/test/test/4165.jpg',), ('data/modia/test/test/4141.jpg',), ('data/modia/test/test/4354.jpg',), ('data/modia/test/test/4120.jpg',), ('data/modia/test/test/4122.jpg',), ('data/modia/test/test/4633.jpg',), ('data/modia/test/test/4487.jpg',), ('data/modia/test/test/4593.jpg',), ('data/modia/test/test/4093.jpg',), ('data/modia/test/test/4501.jpg',), ('data/modia/test/test/4839.jpg',), ('data/modia/test/test/4226.jpg',), ('data/modia/test/test/4885.jpg',), ('data/modia/test/test/4869.jpg',), ('data/modia/test/test/4801.jpg',), ('data/modia/test/test/4074.jpg',), ('data/modia/test/test/4346.jpg',), ('data/modia/test/test/4382.jpg',), ('data/modia/test/test/4561.jpg',), ('data/modia/test/test/4221.jpg',), ('data/modia/test/test/4361.jpg',), ('data/modia/test/test/4084.jpg',), ('data/modia/test/test/4076.jpg',), ('data/modia/test/test/4752.jpg',), ('data/modia/test/test/4623.jpg',), ('data/modia/test/test/4320.jpg',), ('data/modia/test/test/4542.jpg',), ('data/modia/test/test/4282.jpg',), ('data/modia/test/test/4280.jpg',), ('data/modia/test/test/4532.jpg',), ('data/modia/test/test/4755.jpg',), ('data/modia/test/test/4502.jpg',), ('data/modia/test/test/4514.jpg',), ('data/modia/test/test/4862.jpg',), ('data/modia/test/test/4039.jpg',), ('data/modia/test/test/4680.jpg',), ('data/modia/test/test/4313.jpg',), ('data/modia/test/test/4153.jpg',), ('data/modia/test/test/4367.jpg',), ('data/modia/test/test/4231.jpg',), ('data/modia/test/test/4295.jpg',), ('data/modia/test/test/4705.jpg',), ('data/modia/test/test/4066.jpg',), ('data/modia/test/test/4401.jpg',), ('data/modia/test/test/4510.jpg',), ('data/modia/test/test/4850.jpg',), ('data/modia/test/test/4741.jpg',), ('data/modia/test/test/4810.jpg',), ('data/modia/test/test/4337.jpg',), ('data/modia/test/test/4154.jpg',), ('data/modia/test/test/4549.jpg',), ('data/modia/test/test/4684.jpg',), ('data/modia/test/test/4892.jpg',), ('data/modia/test/test/4802.jpg',), ('data/modia/test/test/4326.jpg',), ('data/modia/test/test/4099.jpg',), ('data/modia/test/test/4425.jpg',), ('data/modia/test/test/4036.jpg',), ('data/modia/test/test/4550.jpg',), ('data/modia/test/test/4274.jpg',), ('data/modia/test/test/4051.jpg',), ('data/modia/test/test/4511.jpg',), ('data/modia/test/test/4653.jpg',), ('data/modia/test/test/4041.jpg',), ('data/modia/test/test/4127.jpg',), ('data/modia/test/test/4232.jpg',), ('data/modia/test/test/4265.jpg',), ('data/modia/test/test/4820.jpg',), ('data/modia/test/test/4583.jpg',), ('data/modia/test/test/4335.jpg',), ('data/modia/test/test/4489.jpg',), ('data/modia/test/test/4155.jpg',), ('data/modia/test/test/4252.jpg',), ('data/modia/test/test/4293.jpg',), ('data/modia/test/test/4329.jpg',), ('data/modia/test/test/4269.jpg',), ('data/modia/test/test/4199.jpg',), ('data/modia/test/test/4482.jpg',), ('data/modia/test/test/4667.jpg',), ('data/modia/test/test/4729.jpg',), ('data/modia/test/test/4353.jpg',), ('data/modia/test/test/4498.jpg',), ('data/modia/test/test/4694.jpg',), ('data/modia/test/test/4790.jpg',), ('data/modia/test/test/4110.jpg',), ('data/modia/test/test/4201.jpg',), ('data/modia/test/test/4660.jpg',), ('data/modia/test/test/4083.jpg',), ('data/modia/test/test/4570.jpg',), ('data/modia/test/test/4654.jpg',), ('data/modia/test/test/4696.jpg',), ('data/modia/test/test/4368.jpg',), ('data/modia/test/test/4529.jpg',), ('data/modia/test/test/4799.jpg',), ('data/modia/test/test/4379.jpg',), ('data/modia/test/test/4809.jpg',), ('data/modia/test/test/4538.jpg',), ('data/modia/test/test/4279.jpg',), ('data/modia/test/test/4553.jpg',), ('data/modia/test/test/4622.jpg',), ('data/modia/test/test/4876.jpg',), ('data/modia/test/test/4677.jpg',), ('data/modia/test/test/4558.jpg',), ('data/modia/test/test/4082.jpg',), ('data/modia/test/test/4205.jpg',), ('data/modia/test/test/4592.jpg',), ('data/modia/test/test/4710.jpg',), ('data/modia/test/test/4339.jpg',), ('data/modia/test/test/4053.jpg',), ('data/modia/test/test/4031.jpg',), ('data/modia/test/test/4564.jpg',), ('data/modia/test/test/4870.jpg',), ('data/modia/test/test/4804.jpg',), ('data/modia/test/test/4414.jpg',), ('data/modia/test/test/4422.jpg',), ('data/modia/test/test/4689.jpg',), ('data/modia/test/test/4130.jpg',), ('data/modia/test/test/4351.jpg',), ('data/modia/test/test/4826.jpg',), ('data/modia/test/test/4159.jpg',), ('data/modia/test/test/4831.jpg',), ('data/modia/test/test/4176.jpg',), ('data/modia/test/test/4163.jpg',), ('data/modia/test/test/4863.jpg',), ('data/modia/test/test/4722.jpg',), ('data/modia/test/test/4879.jpg',), ('data/modia/test/test/4136.jpg',), ('data/modia/test/test/4512.jpg',), ('data/modia/test/test/4475.jpg',), ('data/modia/test/test/4072.jpg',), ('data/modia/test/test/4439.jpg',), ('data/modia/test/test/4063.jpg',), ('data/modia/test/test/4294.jpg',), ('data/modia/test/test/4494.jpg',), ('data/modia/test/test/4704.jpg',), ('data/modia/test/test/4073.jpg',), ('data/modia/test/test/4679.jpg',), ('data/modia/test/test/4334.jpg',), ('data/modia/test/test/4856.jpg',), ('data/modia/test/test/4001.jpg',), ('data/modia/test/test/4018.jpg',), ('data/modia/test/test/4731.jpg',), ('data/modia/test/test/4585.jpg',), ('data/modia/test/test/4449.jpg',), ('data/modia/test/test/4400.jpg',), ('data/modia/test/test/4857.jpg',), ('data/modia/test/test/4659.jpg',), ('data/modia/test/test/4325.jpg',), ('data/modia/test/test/4360.jpg',), ('data/modia/test/test/4517.jpg',), ('data/modia/test/test/4761.jpg',), ('data/modia/test/test/4376.jpg',), ('data/modia/test/test/4636.jpg',), ('data/modia/test/test/4060.jpg',), ('data/modia/test/test/4473.jpg',), ('data/modia/test/test/4727.jpg',), ('data/modia/test/test/4766.jpg',), ('data/modia/test/test/4824.jpg',), ('data/modia/test/test/4336.jpg',), ('data/modia/test/test/4786.jpg',), ('data/modia/test/test/4563.jpg',), ('data/modia/test/test/4842.jpg',), ('data/modia/test/test/4596.jpg',), ('data/modia/test/test/4817.jpg',), ('data/modia/test/test/4572.jpg',), ('data/modia/test/test/4656.jpg',), ('data/modia/test/test/4200.jpg',), ('data/modia/test/test/4556.jpg',), ('data/modia/test/test/4145.jpg',), ('data/modia/test/test/4884.jpg',), ('data/modia/test/test/4545.jpg',), ('data/modia/test/test/4144.jpg',), ('data/modia/test/test/4304.jpg',), ('data/modia/test/test/4526.jpg',), ('data/modia/test/test/4102.jpg',), ('data/modia/test/test/4745.jpg',), ('data/modia/test/test/4744.jpg',), ('data/modia/test/test/4730.jpg',), ('data/modia/test/test/4398.jpg',), ('data/modia/test/test/4877.jpg',), ('data/modia/test/test/4434.jpg',), ('data/modia/test/test/4139.jpg',), ('data/modia/test/test/4818.jpg',), ('data/modia/test/test/4608.jpg',), ('data/modia/test/test/4714.jpg',), ('data/modia/test/test/4496.jpg',), ('data/modia/test/test/4637.jpg',), ('data/modia/test/test/4378.jpg',), ('data/modia/test/test/4509.jpg',), ('data/modia/test/test/4629.jpg',), ('data/modia/test/test/4056.jpg',), ('data/modia/test/test/4880.jpg',), ('data/modia/test/test/4646.jpg',), ('data/modia/test/test/4344.jpg',), ('data/modia/test/test/4834.jpg',), ('data/modia/test/test/4458.jpg',), ('data/modia/test/test/4652.jpg',), ('data/modia/test/test/4222.jpg',), ('data/modia/test/test/4554.jpg',), ('data/modia/test/test/4019.jpg',), ('data/modia/test/test/4678.jpg',), ('data/modia/test/test/4600.jpg',), ('data/modia/test/test/4128.jpg',), ('data/modia/test/test/4390.jpg',), ('data/modia/test/test/4224.jpg',), ('data/modia/test/test/4077.jpg',), ('data/modia/test/test/4559.jpg',), ('data/modia/test/test/4871.jpg',), ('data/modia/test/test/4456.jpg',), ('data/modia/test/test/4747.jpg',), ('data/modia/test/test/4584.jpg',), ('data/modia/test/test/4402.jpg',), ('data/modia/test/test/4198.jpg',), ('data/modia/test/test/4784.jpg',), ('data/modia/test/test/4369.jpg',), ('data/modia/test/test/4579.jpg',), ('data/modia/test/test/4594.jpg',), ('data/modia/test/test/4499.jpg',), ('data/modia/test/test/4037.jpg',), ('data/modia/test/test/4641.jpg',), ('data/modia/test/test/4149.jpg',), ('data/modia/test/test/4655.jpg',), ('data/modia/test/test/4688.jpg',), ('data/modia/test/test/4628.jpg',), ('data/modia/test/test/4189.jpg',), ('data/modia/test/test/4717.jpg',), ('data/modia/test/test/4167.jpg',), ('data/modia/test/test/4094.jpg',), ('data/modia/test/test/4273.jpg',), ('data/modia/test/test/4787.jpg',), ('data/modia/test/test/4642.jpg',), ('data/modia/test/test/4096.jpg',), ('data/modia/test/test/4769.jpg',), ('data/modia/test/test/4481.jpg',), ('data/modia/test/test/4433.jpg',), ('data/modia/test/test/4664.jpg',), ('data/modia/test/test/4343.jpg',), ('data/modia/test/test/4356.jpg',), ('data/modia/test/test/4453.jpg',), ('data/modia/test/test/4823.jpg',), ('data/modia/test/test/4609.jpg',), ('data/modia/test/test/4707.jpg',), ('data/modia/test/test/4220.jpg',), ('data/modia/test/test/4808.jpg',), ('data/modia/test/test/4217.jpg',), ('data/modia/test/test/4331.jpg',), ('data/modia/test/test/4212.jpg',), ('data/modia/test/test/4174.jpg',), ('data/modia/test/test/4638.jpg',), ('data/modia/test/test/4610.jpg',), ('data/modia/test/test/4191.jpg',), ('data/modia/test/test/4697.jpg',), ('data/modia/test/test/4617.jpg',), ('data/modia/test/test/4342.jpg',), ('data/modia/test/test/4179.jpg',), ('data/modia/test/test/4219.jpg',), ('data/modia/test/test/4547.jpg',), ('data/modia/test/test/4408.jpg',), ('data/modia/test/test/4277.jpg',), ('data/modia/test/test/4409.jpg',), ('data/modia/test/test/4030.jpg',), ('data/modia/test/test/4044.jpg',), ('data/modia/test/test/4531.jpg',), ('data/modia/test/test/4091.jpg',), ('data/modia/test/test/4713.jpg',), ('data/modia/test/test/4286.jpg',), ('data/modia/test/test/4762.jpg',), ('data/modia/test/test/4724.jpg',), ('data/modia/test/test/4183.jpg',), ('data/modia/test/test/4010.jpg',), ('data/modia/test/test/4867.jpg',), ('data/modia/test/test/4428.jpg',), ('data/modia/test/test/4284.jpg',), ('data/modia/test/test/4370.jpg',), ('data/modia/test/test/4417.jpg',), ('data/modia/test/test/4314.jpg',), ('data/modia/test/test/4258.jpg',), ('data/modia/test/test/4603.jpg',), ('data/modia/test/test/4513.jpg',), ('data/modia/test/test/4055.jpg',), ('data/modia/test/test/4676.jpg',), ('data/modia/test/test/4020.jpg',), ('data/modia/test/test/4878.jpg',), ('data/modia/test/test/4651.jpg',), ('data/modia/test/test/4087.jpg',), ('data/modia/test/test/4067.jpg',), ('data/modia/test/test/4297.jpg',), ('data/modia/test/test/4065.jpg',), ('data/modia/test/test/4708.jpg',), ('data/modia/test/test/4202.jpg',), ('data/modia/test/test/4581.jpg',), ('data/modia/test/test/4164.jpg',), ('data/modia/test/test/4624.jpg',), ('data/modia/test/test/4005.jpg',), ('data/modia/test/test/4698.jpg',), ('data/modia/test/test/4396.jpg',), ('data/modia/test/test/4431.jpg',), ('data/modia/test/test/4575.jpg',), ('data/modia/test/test/4432.jpg',), ('data/modia/test/test/4701.jpg',), ('data/modia/test/test/4233.jpg',), ('data/modia/test/test/4672.jpg',), ('data/modia/test/test/4157.jpg',), ('data/modia/test/test/4440.jpg',), ('data/modia/test/test/4215.jpg',), ('data/modia/test/test/4229.jpg',), ('data/modia/test/test/4524.jpg',), ('data/modia/test/test/4169.jpg',), ('data/modia/test/test/4685.jpg',), ('data/modia/test/test/4611.jpg',), ('data/modia/test/test/4522.jpg',), ('data/modia/test/test/4814.jpg',), ('data/modia/test/test/4079.jpg',), ('data/modia/test/test/4242.jpg',), ('data/modia/test/test/4720.jpg',), ('data/modia/test/test/4146.jpg',), ('data/modia/test/test/4644.jpg',), ('data/modia/test/test/4541.jpg',), ('data/modia/test/test/4243.jpg',), ('data/modia/test/test/4807.jpg',), ('data/modia/test/test/4573.jpg',), ('data/modia/test/test/4883.jpg',), ('data/modia/test/test/4416.jpg',), ('data/modia/test/test/4779.jpg',), ('data/modia/test/test/4237.jpg',), ('data/modia/test/test/4381.jpg',), ('data/modia/test/test/4833.jpg',), ('data/modia/test/test/4450.jpg',), ('data/modia/test/test/4483.jpg',), ('data/modia/test/test/4172.jpg',), ('data/modia/test/test/4465.jpg',), ('data/modia/test/test/4427.jpg',), ('data/modia/test/test/4261.jpg',), ('data/modia/test/test/4775.jpg',), ('data/modia/test/test/4666.jpg',), ('data/modia/test/test/4341.jpg',), ('data/modia/test/test/4797.jpg',), ('data/modia/test/test/4085.jpg',), ('data/modia/test/test/4491.jpg',), ('data/modia/test/test/4244.jpg',), ('data/modia/test/test/4148.jpg',), ('data/modia/test/test/4618.jpg',), ('data/modia/test/test/4040.jpg',), ('data/modia/test/test/4311.jpg',), ('data/modia/test/test/4090.jpg',), ('data/modia/test/test/4209.jpg',), ('data/modia/test/test/4389.jpg',), ('data/modia/test/test/4332.jpg',), ('data/modia/test/test/4241.jpg',), ('data/modia/test/test/4048.jpg',), ('data/modia/test/test/4100.jpg',), ('data/modia/test/test/4872.jpg',), ('data/modia/test/test/4177.jpg',), ('data/modia/test/test/4719.jpg',), ('data/modia/test/test/4255.jpg',), ('data/modia/test/test/4315.jpg',), ('data/modia/test/test/4420.jpg',), ('data/modia/test/test/4002.jpg',), ('data/modia/test/test/4358.jpg',), ('data/modia/test/test/4631.jpg',), ('data/modia/test/test/4349.jpg',), ('data/modia/test/test/4150.jpg',), ('data/modia/test/test/4319.jpg',), ('data/modia/test/test/4568.jpg',), ('data/modia/test/test/4263.jpg',), ('data/modia/test/test/4132.jpg',), ('data/modia/test/test/4374.jpg',), ('data/modia/test/test/4415.jpg',), ('data/modia/test/test/4527.jpg',), ('data/modia/test/test/4104.jpg',), ('data/modia/test/test/4580.jpg',), ('data/modia/test/test/4192.jpg',), ('data/modia/test/test/4125.jpg',), ('data/modia/test/test/4469.jpg',), ('data/modia/test/test/4359.jpg',), ('data/modia/test/test/4350.jpg',), ('data/modia/test/test/4552.jpg',), ('data/modia/test/test/4216.jpg',), ('data/modia/test/test/4375.jpg',), ('data/modia/test/test/4643.jpg',), ('data/modia/test/test/4038.jpg',), ('data/modia/test/test/4888.jpg',), ('data/modia/test/test/4264.jpg',), ('data/modia/test/test/4474.jpg',), ('data/modia/test/test/4626.jpg',), ('data/modia/test/test/4251.jpg',), ('data/modia/test/test/4049.jpg',), ('data/modia/test/test/4639.jpg',), ('data/modia/test/test/4508.jpg',), ('data/modia/test/test/4821.jpg',), ('data/modia/test/test/4827.jpg',), ('data/modia/test/test/4670.jpg',), ('data/modia/test/test/4421.jpg',), ('data/modia/test/test/4851.jpg',), ('data/modia/test/test/4023.jpg',), ('data/modia/test/test/4460.jpg',), ('data/modia/test/test/4442.jpg',), ('data/modia/test/test/4578.jpg',), ('data/modia/test/test/4034.jpg',), ('data/modia/test/test/4798.jpg',), ('data/modia/test/test/4032.jpg',), ('data/modia/test/test/4868.jpg',), ('data/modia/test/test/4054.jpg',), ('data/modia/test/test/4737.jpg',), ('data/modia/test/test/4645.jpg',), ('data/modia/test/test/4661.jpg',), ('data/modia/test/test/4357.jpg',), ('data/modia/test/test/4064.jpg',), ('data/modia/test/test/4523.jpg',), ('data/modia/test/test/4495.jpg',), ('data/modia/test/test/4250.jpg',), ('data/modia/test/test/4772.jpg',), ('data/modia/test/test/4214.jpg',), ('data/modia/test/test/4411.jpg',), ('data/modia/test/test/4657.jpg',), ('data/modia/test/test/4463.jpg',), ('data/modia/test/test/4728.jpg',), ('data/modia/test/test/4228.jpg',), ('data/modia/test/test/4735.jpg',), ('data/modia/test/test/4138.jpg',), ('data/modia/test/test/4771.jpg',), ('data/modia/test/test/4195.jpg',), ('data/modia/test/test/4323.jpg',), ('data/modia/test/test/4235.jpg',), ('data/modia/test/test/4352.jpg',), ('data/modia/test/test/4840.jpg',), ('data/modia/test/test/4616.jpg',), ('data/modia/test/test/4662.jpg',), ('data/modia/test/test/4309.jpg',), ('data/modia/test/test/4518.jpg',), ('data/modia/test/test/4598.jpg',), ('data/modia/test/test/4457.jpg',), ('data/modia/test/test/4006.jpg',), ('data/modia/test/test/4459.jpg',), ('data/modia/test/test/4520.jpg',), ('data/modia/test/test/4300.jpg',), ('data/modia/test/test/4298.jpg',), ('data/modia/test/test/4525.jpg',), ('data/modia/test/test/4805.jpg',), ('data/modia/test/test/4308.jpg',), ('data/modia/test/test/4283.jpg',), ('data/modia/test/test/4663.jpg',), ('data/modia/test/test/4700.jpg',), ('data/modia/test/test/4317.jpg',), ('data/modia/test/test/4109.jpg',), ('data/modia/test/test/4472.jpg',), ('data/modia/test/test/4371.jpg',), ('data/modia/test/test/4500.jpg',), ('data/modia/test/test/4182.jpg',), ('data/modia/test/test/4534.jpg',), ('data/modia/test/test/4485.jpg',), ('data/modia/test/test/4681.jpg',), ('data/modia/test/test/4620.jpg',), ('data/modia/test/test/4117.jpg',), ('data/modia/test/test/4188.jpg',), ('data/modia/test/test/4733.jpg',), ('data/modia/test/test/4565.jpg',), ('data/modia/test/test/4452.jpg',), ('data/modia/test/test/4486.jpg',), ('data/modia/test/test/4384.jpg',), ('data/modia/test/test/4605.jpg',), ('data/modia/test/test/4451.jpg',), ('data/modia/test/test/4180.jpg',), ('data/modia/test/test/4131.jpg',), ('data/modia/test/test/4756.jpg',), ('data/modia/test/test/4865.jpg',), ('data/modia/test/test/4690.jpg',), ('data/modia/test/test/4795.jpg',), ('data/modia/test/test/4540.jpg',), ('data/modia/test/test/4046.jpg',), ('data/modia/test/test/4272.jpg',), ('data/modia/test/test/4014.jpg',), ('data/modia/test/test/4013.jpg',), ('data/modia/test/test/4292.jpg',), ('data/modia/test/test/4291.jpg',), ('data/modia/test/test/4365.jpg',), ('data/modia/test/test/4410.jpg',), ('data/modia/test/test/4658.jpg',), ('data/modia/test/test/4362.jpg',), ('data/modia/test/test/4324.jpg',), ('data/modia/test/test/4852.jpg',), ('data/modia/test/test/4197.jpg',), ('data/modia/test/test/4780.jpg',), ('data/modia/test/test/4103.jpg',), ('data/modia/test/test/4723.jpg',), ('data/modia/test/test/4385.jpg',), ('data/modia/test/test/4345.jpg',), ('data/modia/test/test/4105.jpg',), ('data/modia/test/test/4187.jpg',), ('data/modia/test/test/4011.jpg',), ('data/modia/test/test/4108.jpg',), ('data/modia/test/test/4007.jpg',), ('data/modia/test/test/4546.jpg',), ('data/modia/test/test/4725.jpg',), ('data/modia/test/test/4887.jpg',), ('data/modia/test/test/4098.jpg',), ('data/modia/test/test/4665.jpg',), ('data/modia/test/test/4627.jpg',), ('data/modia/test/test/4050.jpg',), ('data/modia/test/test/4185.jpg',), ('data/modia/test/test/4742.jpg',), ('data/modia/test/test/4726.jpg',), ('data/modia/test/test/4715.jpg',), ('data/modia/test/test/4671.jpg',), ('data/modia/test/test/4162.jpg',), ('data/modia/test/test/4891.jpg',), ('data/modia/test/test/4748.jpg',), ('data/modia/test/test/4849.jpg',), ('data/modia/test/test/4086.jpg',), ('data/modia/test/test/4171.jpg',), ('data/modia/test/test/4768.jpg',), ('data/modia/test/test/4338.jpg',), ('data/modia/test/test/4792.jpg',), ('data/modia/test/test/4721.jpg',), ('data/modia/test/test/4889.jpg',), ('data/modia/test/test/4097.jpg',), ('data/modia/test/test/4854.jpg',), ('data/modia/test/test/4366.jpg',), ('data/modia/test/test/4650.jpg',), ('data/modia/test/test/4782.jpg',), ('data/modia/test/test/4069.jpg',), ('data/modia/test/test/4445.jpg',), ('data/modia/test/test/4012.jpg',), ('data/modia/test/test/4597.jpg',), ('data/modia/test/test/4687.jpg',), ('data/modia/test/test/4447.jpg',), ('data/modia/test/test/4589.jpg',), ('data/modia/test/test/4029.jpg',), ('data/modia/test/test/4444.jpg',), ('data/modia/test/test/4577.jpg',), ('data/modia/test/test/4516.jpg',), ('data/modia/test/test/4441.jpg',), ('data/modia/test/test/4587.jpg',), ('data/modia/test/test/4299.jpg',), ('data/modia/test/test/4776.jpg',), ('data/modia/test/test/4746.jpg',), ('data/modia/test/test/4492.jpg',), ('data/modia/test/test/4530.jpg',), ('data/modia/test/test/4288.jpg',), ('data/modia/test/test/4262.jpg',), ('data/modia/test/test/4234.jpg',), ('data/modia/test/test/4753.jpg',), ('data/modia/test/test/4711.jpg',), ('data/modia/test/test/4116.jpg',), ('data/modia/test/test/4296.jpg',), ('data/modia/test/test/4403.jpg',), ('data/modia/test/test/4423.jpg',), ('data/modia/test/test/4471.jpg',), ('data/modia/test/test/4318.jpg',), ('data/modia/test/test/4673.jpg',), ('data/modia/test/test/4674.jpg',), ('data/modia/test/test/4778.jpg',), ('data/modia/test/test/4052.jpg',), ('data/modia/test/test/4476.jpg',), ('data/modia/test/test/4669.jpg',), ('data/modia/test/test/4602.jpg',), ('data/modia/test/test/4571.jpg',), ('data/modia/test/test/4767.jpg',), ('data/modia/test/test/4333.jpg',), ('data/modia/test/test/4112.jpg',), ('data/modia/test/test/4133.jpg',), ('data/modia/test/test/4393.jpg',), ('data/modia/test/test/4621.jpg',), ('data/modia/test/test/4301.jpg',), ('data/modia/test/test/4773.jpg',), ('data/modia/test/test/4021.jpg',), ('data/modia/test/test/5009.jpg',), ('data/modia/test/test/5072.jpg',), ('data/modia/test/test/5015.jpg',), ('data/modia/test/test/4999.jpg',), ('data/modia/test/test/4959.jpg',), ('data/modia/test/test/5018.jpg',), ('data/modia/test/test/4989.jpg',), ('data/modia/test/test/4894.jpg',), ('data/modia/test/test/4995.jpg',), ('data/modia/test/test/4964.jpg',), ('data/modia/test/test/4971.jpg',), ('data/modia/test/test/4900.jpg',), ('data/modia/test/test/4934.jpg',), ('data/modia/test/test/4910.jpg',), ('data/modia/test/test/5054.jpg',), ('data/modia/test/test/4947.jpg',), ('data/modia/test/test/5048.jpg',), ('data/modia/test/test/4979.jpg',), ('data/modia/test/test/5068.jpg',), ('data/modia/test/test/4981.jpg',), ('data/modia/test/test/4988.jpg',), ('data/modia/test/test/5002.jpg',), ('data/modia/test/test/5028.jpg',), ('data/modia/test/test/4938.jpg',), ('data/modia/test/test/4905.jpg',), ('data/modia/test/test/5032.jpg',), ('data/modia/test/test/4897.jpg',), ('data/modia/test/test/4956.jpg',), ('data/modia/test/test/4972.jpg',), ('data/modia/test/test/4901.jpg',), ('data/modia/test/test/5069.jpg',), ('data/modia/test/test/5027.jpg',), ('data/modia/test/test/4957.jpg',), ('data/modia/test/test/5062.jpg',), ('data/modia/test/test/4984.jpg',), ('data/modia/test/test/4931.jpg',), ('data/modia/test/test/5064.jpg',), ('data/modia/test/test/5017.jpg',), ('data/modia/test/test/4944.jpg',), ('data/modia/test/test/4896.jpg',), ('data/modia/test/test/4996.jpg',), ('data/modia/test/test/4936.jpg',), ('data/modia/test/test/5070.jpg',), ('data/modia/test/test/5063.jpg',), ('data/modia/test/test/4987.jpg',), ('data/modia/test/test/4962.jpg',), ('data/modia/test/test/5016.jpg',), ('data/modia/test/test/4991.jpg',), ('data/modia/test/test/4941.jpg',), ('data/modia/test/test/5067.jpg',), ('data/modia/test/test/5044.jpg',), ('data/modia/test/test/4946.jpg',), ('data/modia/test/test/5066.jpg',), ('data/modia/test/test/5051.jpg',), ('data/modia/test/test/5053.jpg',), ('data/modia/test/test/5075.jpg',), ('data/modia/test/test/4917.jpg',), ('data/modia/test/test/4906.jpg',), ('data/modia/test/test/5055.jpg',), ('data/modia/test/test/4968.jpg',), ('data/modia/test/test/5034.jpg',), ('data/modia/test/test/5077.jpg',), ('data/modia/test/test/5040.jpg',), ('data/modia/test/test/4954.jpg',), ('data/modia/test/test/4975.jpg',), ('data/modia/test/test/4925.jpg',), ('data/modia/test/test/4923.jpg',), ('data/modia/test/test/5059.jpg',), ('data/modia/test/test/5036.jpg',), ('data/modia/test/test/4960.jpg',), ('data/modia/test/test/4898.jpg',), ('data/modia/test/test/5074.jpg',), ('data/modia/test/test/5049.jpg',), ('data/modia/test/test/4974.jpg',), ('data/modia/test/test/4948.jpg',), ('data/modia/test/test/5079.jpg',), ('data/modia/test/test/5043.jpg',), ('data/modia/test/test/5039.jpg',), ('data/modia/test/test/5037.jpg',), ('data/modia/test/test/5019.jpg',), ('data/modia/test/test/5025.jpg',), ('data/modia/test/test/4945.jpg',), ('data/modia/test/test/4942.jpg',), ('data/modia/test/test/5060.jpg',), ('data/modia/test/test/4927.jpg',), ('data/modia/test/test/5050.jpg',), ('data/modia/test/test/5003.jpg',), ('data/modia/test/test/5033.jpg',), ('data/modia/test/test/5013.jpg',), ('data/modia/test/test/5022.jpg',), ('data/modia/test/test/5006.jpg',), ('data/modia/test/test/4921.jpg',), ('data/modia/test/test/5065.jpg',), ('data/modia/test/test/4930.jpg',), ('data/modia/test/test/4909.jpg',), ('data/modia/test/test/4895.jpg',), ('data/modia/test/test/5061.jpg',), ('data/modia/test/test/5035.jpg',), ('data/modia/test/test/5011.jpg',), ('data/modia/test/test/5005.jpg',), ('data/modia/test/test/4982.jpg',), ('data/modia/test/test/5045.jpg',), ('data/modia/test/test/4915.jpg',), ('data/modia/test/test/5031.jpg',), ('data/modia/test/test/4903.jpg',), ('data/modia/test/test/4953.jpg',), ('data/modia/test/test/4970.jpg',), ('data/modia/test/test/4899.jpg',), ('data/modia/test/test/4966.jpg',), ('data/modia/test/test/4918.jpg',), ('data/modia/test/test/5010.jpg',), ('data/modia/test/test/5021.jpg',), ('data/modia/test/test/4904.jpg',), ('data/modia/test/test/4907.jpg',), ('data/modia/test/test/5023.jpg',), ('data/modia/test/test/5020.jpg',), ('data/modia/test/test/5026.jpg',), ('data/modia/test/test/4965.jpg',), ('data/modia/test/test/4924.jpg',), ('data/modia/test/test/4914.jpg',), ('data/modia/test/test/5014.jpg',), ('data/modia/test/test/4913.jpg',), ('data/modia/test/test/5052.jpg',), ('data/modia/test/test/5004.jpg',), ('data/modia/test/test/4976.jpg',), ('data/modia/test/test/4929.jpg',), ('data/modia/test/test/4928.jpg',), ('data/modia/test/test/4922.jpg',), ('data/modia/test/test/4994.jpg',), ('data/modia/test/test/4926.jpg',), ('data/modia/test/test/4939.jpg',), ('data/modia/test/test/5057.jpg',), ('data/modia/test/test/5047.jpg',), ('data/modia/test/test/4969.jpg',), ('data/modia/test/test/4916.jpg',), ('data/modia/test/test/5058.jpg',), ('data/modia/test/test/4963.jpg',), ('data/modia/test/test/5001.jpg',), ('data/modia/test/test/4933.jpg',), ('data/modia/test/test/5076.jpg',), ('data/modia/test/test/5024.jpg',), ('data/modia/test/test/4961.jpg',), ('data/modia/test/test/4912.jpg',), ('data/modia/test/test/4992.jpg',), ('data/modia/test/test/4990.jpg',), ('data/modia/test/test/4997.jpg',), ('data/modia/test/test/5007.jpg',), ('data/modia/test/test/4985.jpg',), ('data/modia/test/test/5081.jpg',), ('data/modia/test/test/4935.jpg',), ('data/modia/test/test/5056.jpg',), ('data/modia/test/test/4978.jpg',), ('data/modia/test/test/4952.jpg',), ('data/modia/test/test/4920.jpg',), ('data/modia/test/test/5041.jpg',), ('data/modia/test/test/5080.jpg',), ('data/modia/test/test/5038.jpg',), ('data/modia/test/test/4993.jpg',), ('data/modia/test/test/4955.jpg',), ('data/modia/test/test/4940.jpg',), ('data/modia/test/test/4949.jpg',), ('data/modia/test/test/5012.jpg',), ('data/modia/test/test/4998.jpg',), ('data/modia/test/test/5046.jpg',), ('data/modia/test/test/4911.jpg',), ('data/modia/test/test/4973.jpg',), ('data/modia/test/test/5078.jpg',), ('data/modia/test/test/5029.jpg',), ('data/modia/test/test/4932.jpg',), ('data/modia/test/test/4908.jpg',), ('data/modia/test/test/4919.jpg',), ('data/modia/test/test/4950.jpg',), ('data/modia/test/test/4980.jpg',), ('data/modia/test/test/4977.jpg',), ('data/modia/test/test/4937.jpg',), ('data/modia/test/test/5071.jpg',), ('data/modia/test/test/5042.jpg',), ('data/modia/test/test/4983.jpg',), ('data/modia/test/test/4967.jpg',), ('data/modia/test/test/5008.jpg',), ('data/modia/test/test/4943.jpg',), ('data/modia/test/test/5000.jpg',), ('data/modia/test/test/5073.jpg',), ('data/modia/test/test/4951.jpg',), ('data/modia/test/test/5030.jpg',), ('data/modia/test/test/4986.jpg',), ('data/modia/test/test/4902.jpg',), ('data/modia/test/test/4958.jpg',), ('data/modia/test/test/4478.jpg',), ('data/modia/test/test/4373.jpg',), ('data/modia/test/test/4213.jpg',), ('data/modia/test/test/4236.jpg',), ('data/modia/test/test/4246.jpg',), ('data/modia/test/test/4490.jpg',), ('data/modia/test/test/4259.jpg',), ('data/modia/test/test/4429.jpg',), ('data/modia/test/test/4846.jpg',), ('data/modia/test/test/4257.jpg',), ('data/modia/test/test/4078.jpg',), ('data/modia/test/test/4119.jpg',), ('data/modia/test/test/4835.jpg',), ('data/modia/test/test/4763.jpg',), ('data/modia/test/test/4426.jpg',), ('data/modia/test/test/4028.jpg',), ('data/modia/test/test/4861.jpg',), ('data/modia/test/test/4757.jpg',), ('data/modia/test/test/4278.jpg',), ('data/modia/test/test/4124.jpg',), ('data/modia/test/test/4025.jpg',), ('data/modia/test/test/4405.jpg',), ('data/modia/test/test/4135.jpg',), ('data/modia/test/test/4348.jpg',), ('data/modia/test/test/4190.jpg',), ('data/modia/test/test/4289.jpg',), ('data/modia/test/test/4035.jpg',), ('data/modia/test/test/4813.jpg',), ('data/modia/test/test/4844.jpg',), ('data/modia/test/test/4716.jpg',), ('data/modia/test/test/4166.jpg',), ('data/modia/test/test/4625.jpg',), ('data/modia/test/test/4649.jpg',), ('data/modia/test/test/4566.jpg',), ('data/modia/test/test/4830.jpg',), ('data/modia/test/test/4113.jpg',), ('data/modia/test/test/4413.jpg',), ('data/modia/test/test/4890.jpg',), ('data/modia/test/test/4484.jpg',), ('data/modia/test/test/4858.jpg',), ('data/modia/test/test/4544.jpg',), ('data/modia/test/test/4774.jpg',), ('data/modia/test/test/4397.jpg',), ('data/modia/test/test/4791.jpg',), ('data/modia/test/test/4693.jpg',), ('data/modia/test/test/4886.jpg',), ('data/modia/test/test/4340.jpg',), ('data/modia/test/test/4178.jpg',), ('data/modia/test/test/4614.jpg',), ('data/modia/test/test/4446.jpg',), ('data/modia/test/test/4196.jpg',), ('data/modia/test/test/4648.jpg',), ('data/modia/test/test/4467.jpg',), ('data/modia/test/test/4092.jpg',), ('data/modia/test/test/4327.jpg',), ('data/modia/test/test/4033.jpg',), ('data/modia/test/test/4630.jpg',), ('data/modia/test/test/4843.jpg',), ('data/modia/test/test/4686.jpg',), ('data/modia/test/test/4855.jpg',), ('data/modia/test/test/4800.jpg',), ('data/modia/test/test/4866.jpg',), ('data/modia/test/test/4062.jpg',), ('data/modia/test/test/4777.jpg',), ('data/modia/test/test/4859.jpg',), ('data/modia/test/test/4503.jpg',), ('data/modia/test/test/4488.jpg',), ('data/modia/test/test/4632.jpg',), ('data/modia/test/test/4000.jpg',), ('data/modia/test/test/4788.jpg',), ('data/modia/test/test/4024.jpg',), ('data/modia/test/test/4363.jpg',), ('data/modia/test/test/4506.jpg',), ('data/modia/test/test/4406.jpg',), ('data/modia/test/test/4836.jpg',), ('data/modia/test/test/4515.jpg',), ('data/modia/test/test/4267.jpg',), ('data/modia/test/test/4455.jpg',), ('data/modia/test/test/4392.jpg',), ('data/modia/test/test/4305.jpg',), ('data/modia/test/test/4864.jpg',), ('data/modia/test/test/4173.jpg',)]\n"
          ]
        }
      ]
    },
    {
      "cell_type": "code",
      "source": [
        "def image_to_name(img_name):\n",
        "    image_name = []\n",
        "    for i in img_name:\n",
        "        image_name.append(i[0].split(\"/\")[-1].split(\".\")[0])\n",
        "    return image_name"
      ],
      "metadata": {
        "id": "qoB7MvZUgjOb"
      },
      "execution_count": 44,
      "outputs": []
    },
    {
      "cell_type": "code",
      "source": [
        "id = image_to_name(img_name)\n",
        "predicted_label = np.asarray(predicted_label) + 1"
      ],
      "metadata": {
        "id": "6vMA5O49gwbv"
      },
      "execution_count": 69,
      "outputs": []
    },
    {
      "cell_type": "code",
      "source": [
        "df = pd.DataFrame({\"id\": id, \"label\": predicted_label})\n"
      ],
      "metadata": {
        "id": "LGQWjOQ5l0Cd"
      },
      "execution_count": 70,
      "outputs": []
    },
    {
      "cell_type": "code",
      "source": [
        "df['id'] = df['id'].astype(int)"
      ],
      "metadata": {
        "id": "4EK26cSfl2CZ"
      },
      "execution_count": 71,
      "outputs": []
    },
    {
      "cell_type": "code",
      "source": [
        "df.sort_values(by=['id'], inplace=True)"
      ],
      "metadata": {
        "id": "k8RlWdnil_qp"
      },
      "execution_count": 72,
      "outputs": []
    },
    {
      "cell_type": "code",
      "source": [
        "df.head()"
      ],
      "metadata": {
        "colab": {
          "base_uri": "https://localhost:8080/",
          "height": 206
        },
        "id": "w4H_2BLanDbr",
        "outputId": "b3e7550a-25af-4733-8a27-4da1284e53bf"
      },
      "execution_count": 73,
      "outputs": [
        {
          "output_type": "execute_result",
          "data": {
            "text/plain": [
              "        id  label\n",
              "1068  4000      1\n",
              "385   4001      1\n",
              "603   4002      2\n",
              "106   4003      1\n",
              "151   4004      3"
            ],
            "text/html": [
              "\n",
              "  <div id=\"df-13b3dbe2-4aae-4776-9329-04042ad0ac8e\" class=\"colab-df-container\">\n",
              "    <div>\n",
              "<style scoped>\n",
              "    .dataframe tbody tr th:only-of-type {\n",
              "        vertical-align: middle;\n",
              "    }\n",
              "\n",
              "    .dataframe tbody tr th {\n",
              "        vertical-align: top;\n",
              "    }\n",
              "\n",
              "    .dataframe thead th {\n",
              "        text-align: right;\n",
              "    }\n",
              "</style>\n",
              "<table border=\"1\" class=\"dataframe\">\n",
              "  <thead>\n",
              "    <tr style=\"text-align: right;\">\n",
              "      <th></th>\n",
              "      <th>id</th>\n",
              "      <th>label</th>\n",
              "    </tr>\n",
              "  </thead>\n",
              "  <tbody>\n",
              "    <tr>\n",
              "      <th>1068</th>\n",
              "      <td>4000</td>\n",
              "      <td>1</td>\n",
              "    </tr>\n",
              "    <tr>\n",
              "      <th>385</th>\n",
              "      <td>4001</td>\n",
              "      <td>1</td>\n",
              "    </tr>\n",
              "    <tr>\n",
              "      <th>603</th>\n",
              "      <td>4002</td>\n",
              "      <td>2</td>\n",
              "    </tr>\n",
              "    <tr>\n",
              "      <th>106</th>\n",
              "      <td>4003</td>\n",
              "      <td>1</td>\n",
              "    </tr>\n",
              "    <tr>\n",
              "      <th>151</th>\n",
              "      <td>4004</td>\n",
              "      <td>3</td>\n",
              "    </tr>\n",
              "  </tbody>\n",
              "</table>\n",
              "</div>\n",
              "    <div class=\"colab-df-buttons\">\n",
              "\n",
              "  <div class=\"colab-df-container\">\n",
              "    <button class=\"colab-df-convert\" onclick=\"convertToInteractive('df-13b3dbe2-4aae-4776-9329-04042ad0ac8e')\"\n",
              "            title=\"Convert this dataframe to an interactive table.\"\n",
              "            style=\"display:none;\">\n",
              "\n",
              "  <svg xmlns=\"http://www.w3.org/2000/svg\" height=\"24px\" viewBox=\"0 -960 960 960\">\n",
              "    <path d=\"M120-120v-720h720v720H120Zm60-500h600v-160H180v160Zm220 220h160v-160H400v160Zm0 220h160v-160H400v160ZM180-400h160v-160H180v160Zm440 0h160v-160H620v160ZM180-180h160v-160H180v160Zm440 0h160v-160H620v160Z\"/>\n",
              "  </svg>\n",
              "    </button>\n",
              "\n",
              "  <style>\n",
              "    .colab-df-container {\n",
              "      display:flex;\n",
              "      gap: 12px;\n",
              "    }\n",
              "\n",
              "    .colab-df-convert {\n",
              "      background-color: #E8F0FE;\n",
              "      border: none;\n",
              "      border-radius: 50%;\n",
              "      cursor: pointer;\n",
              "      display: none;\n",
              "      fill: #1967D2;\n",
              "      height: 32px;\n",
              "      padding: 0 0 0 0;\n",
              "      width: 32px;\n",
              "    }\n",
              "\n",
              "    .colab-df-convert:hover {\n",
              "      background-color: #E2EBFA;\n",
              "      box-shadow: 0px 1px 2px rgba(60, 64, 67, 0.3), 0px 1px 3px 1px rgba(60, 64, 67, 0.15);\n",
              "      fill: #174EA6;\n",
              "    }\n",
              "\n",
              "    .colab-df-buttons div {\n",
              "      margin-bottom: 4px;\n",
              "    }\n",
              "\n",
              "    [theme=dark] .colab-df-convert {\n",
              "      background-color: #3B4455;\n",
              "      fill: #D2E3FC;\n",
              "    }\n",
              "\n",
              "    [theme=dark] .colab-df-convert:hover {\n",
              "      background-color: #434B5C;\n",
              "      box-shadow: 0px 1px 3px 1px rgba(0, 0, 0, 0.15);\n",
              "      filter: drop-shadow(0px 1px 2px rgba(0, 0, 0, 0.3));\n",
              "      fill: #FFFFFF;\n",
              "    }\n",
              "  </style>\n",
              "\n",
              "    <script>\n",
              "      const buttonEl =\n",
              "        document.querySelector('#df-13b3dbe2-4aae-4776-9329-04042ad0ac8e button.colab-df-convert');\n",
              "      buttonEl.style.display =\n",
              "        google.colab.kernel.accessAllowed ? 'block' : 'none';\n",
              "\n",
              "      async function convertToInteractive(key) {\n",
              "        const element = document.querySelector('#df-13b3dbe2-4aae-4776-9329-04042ad0ac8e');\n",
              "        const dataTable =\n",
              "          await google.colab.kernel.invokeFunction('convertToInteractive',\n",
              "                                                    [key], {});\n",
              "        if (!dataTable) return;\n",
              "\n",
              "        const docLinkHtml = 'Like what you see? Visit the ' +\n",
              "          '<a target=\"_blank\" href=https://colab.research.google.com/notebooks/data_table.ipynb>data table notebook</a>'\n",
              "          + ' to learn more about interactive tables.';\n",
              "        element.innerHTML = '';\n",
              "        dataTable['output_type'] = 'display_data';\n",
              "        await google.colab.output.renderOutput(dataTable, element);\n",
              "        const docLink = document.createElement('div');\n",
              "        docLink.innerHTML = docLinkHtml;\n",
              "        element.appendChild(docLink);\n",
              "      }\n",
              "    </script>\n",
              "  </div>\n",
              "\n",
              "\n",
              "<div id=\"df-896322c1-eab6-4825-bcc8-b28defa8d57e\">\n",
              "  <button class=\"colab-df-quickchart\" onclick=\"quickchart('df-896322c1-eab6-4825-bcc8-b28defa8d57e')\"\n",
              "            title=\"Suggest charts\"\n",
              "            style=\"display:none;\">\n",
              "\n",
              "<svg xmlns=\"http://www.w3.org/2000/svg\" height=\"24px\"viewBox=\"0 0 24 24\"\n",
              "     width=\"24px\">\n",
              "    <g>\n",
              "        <path d=\"M19 3H5c-1.1 0-2 .9-2 2v14c0 1.1.9 2 2 2h14c1.1 0 2-.9 2-2V5c0-1.1-.9-2-2-2zM9 17H7v-7h2v7zm4 0h-2V7h2v10zm4 0h-2v-4h2v4z\"/>\n",
              "    </g>\n",
              "</svg>\n",
              "  </button>\n",
              "\n",
              "<style>\n",
              "  .colab-df-quickchart {\n",
              "      --bg-color: #E8F0FE;\n",
              "      --fill-color: #1967D2;\n",
              "      --hover-bg-color: #E2EBFA;\n",
              "      --hover-fill-color: #174EA6;\n",
              "      --disabled-fill-color: #AAA;\n",
              "      --disabled-bg-color: #DDD;\n",
              "  }\n",
              "\n",
              "  [theme=dark] .colab-df-quickchart {\n",
              "      --bg-color: #3B4455;\n",
              "      --fill-color: #D2E3FC;\n",
              "      --hover-bg-color: #434B5C;\n",
              "      --hover-fill-color: #FFFFFF;\n",
              "      --disabled-bg-color: #3B4455;\n",
              "      --disabled-fill-color: #666;\n",
              "  }\n",
              "\n",
              "  .colab-df-quickchart {\n",
              "    background-color: var(--bg-color);\n",
              "    border: none;\n",
              "    border-radius: 50%;\n",
              "    cursor: pointer;\n",
              "    display: none;\n",
              "    fill: var(--fill-color);\n",
              "    height: 32px;\n",
              "    padding: 0;\n",
              "    width: 32px;\n",
              "  }\n",
              "\n",
              "  .colab-df-quickchart:hover {\n",
              "    background-color: var(--hover-bg-color);\n",
              "    box-shadow: 0 1px 2px rgba(60, 64, 67, 0.3), 0 1px 3px 1px rgba(60, 64, 67, 0.15);\n",
              "    fill: var(--button-hover-fill-color);\n",
              "  }\n",
              "\n",
              "  .colab-df-quickchart-complete:disabled,\n",
              "  .colab-df-quickchart-complete:disabled:hover {\n",
              "    background-color: var(--disabled-bg-color);\n",
              "    fill: var(--disabled-fill-color);\n",
              "    box-shadow: none;\n",
              "  }\n",
              "\n",
              "  .colab-df-spinner {\n",
              "    border: 2px solid var(--fill-color);\n",
              "    border-color: transparent;\n",
              "    border-bottom-color: var(--fill-color);\n",
              "    animation:\n",
              "      spin 1s steps(1) infinite;\n",
              "  }\n",
              "\n",
              "  @keyframes spin {\n",
              "    0% {\n",
              "      border-color: transparent;\n",
              "      border-bottom-color: var(--fill-color);\n",
              "      border-left-color: var(--fill-color);\n",
              "    }\n",
              "    20% {\n",
              "      border-color: transparent;\n",
              "      border-left-color: var(--fill-color);\n",
              "      border-top-color: var(--fill-color);\n",
              "    }\n",
              "    30% {\n",
              "      border-color: transparent;\n",
              "      border-left-color: var(--fill-color);\n",
              "      border-top-color: var(--fill-color);\n",
              "      border-right-color: var(--fill-color);\n",
              "    }\n",
              "    40% {\n",
              "      border-color: transparent;\n",
              "      border-right-color: var(--fill-color);\n",
              "      border-top-color: var(--fill-color);\n",
              "    }\n",
              "    60% {\n",
              "      border-color: transparent;\n",
              "      border-right-color: var(--fill-color);\n",
              "    }\n",
              "    80% {\n",
              "      border-color: transparent;\n",
              "      border-right-color: var(--fill-color);\n",
              "      border-bottom-color: var(--fill-color);\n",
              "    }\n",
              "    90% {\n",
              "      border-color: transparent;\n",
              "      border-bottom-color: var(--fill-color);\n",
              "    }\n",
              "  }\n",
              "</style>\n",
              "\n",
              "  <script>\n",
              "    async function quickchart(key) {\n",
              "      const quickchartButtonEl =\n",
              "        document.querySelector('#' + key + ' button');\n",
              "      quickchartButtonEl.disabled = true;  // To prevent multiple clicks.\n",
              "      quickchartButtonEl.classList.add('colab-df-spinner');\n",
              "      try {\n",
              "        const charts = await google.colab.kernel.invokeFunction(\n",
              "            'suggestCharts', [key], {});\n",
              "      } catch (error) {\n",
              "        console.error('Error during call to suggestCharts:', error);\n",
              "      }\n",
              "      quickchartButtonEl.classList.remove('colab-df-spinner');\n",
              "      quickchartButtonEl.classList.add('colab-df-quickchart-complete');\n",
              "    }\n",
              "    (() => {\n",
              "      let quickchartButtonEl =\n",
              "        document.querySelector('#df-896322c1-eab6-4825-bcc8-b28defa8d57e button');\n",
              "      quickchartButtonEl.style.display =\n",
              "        google.colab.kernel.accessAllowed ? 'block' : 'none';\n",
              "    })();\n",
              "  </script>\n",
              "</div>\n",
              "\n",
              "    </div>\n",
              "  </div>\n"
            ],
            "application/vnd.google.colaboratory.intrinsic+json": {
              "type": "dataframe",
              "variable_name": "df",
              "summary": "{\n  \"name\": \"df\",\n  \"rows\": 1082,\n  \"fields\": [\n    {\n      \"column\": \"id\",\n      \"properties\": {\n        \"dtype\": \"number\",\n        \"std\": 312,\n        \"min\": 4000,\n        \"max\": 5081,\n        \"num_unique_values\": 1082,\n        \"samples\": [\n          4056,\n          4451,\n          4588\n        ],\n        \"semantic_type\": \"\",\n        \"description\": \"\"\n      }\n    },\n    {\n      \"column\": \"label\",\n      \"properties\": {\n        \"dtype\": \"number\",\n        \"std\": 1,\n        \"min\": 1,\n        \"max\": 4,\n        \"num_unique_values\": 4,\n        \"samples\": [\n          2,\n          4,\n          1\n        ],\n        \"semantic_type\": \"\",\n        \"description\": \"\"\n      }\n    }\n  ]\n}"
            }
          },
          "metadata": {},
          "execution_count": 73
        }
      ]
    },
    {
      "cell_type": "code",
      "source": [
        "df.to_csv(\"submission.csv\", index=False)"
      ],
      "metadata": {
        "id": "l4uRI81DmQw9"
      },
      "execution_count": 74,
      "outputs": []
    }
  ]
}